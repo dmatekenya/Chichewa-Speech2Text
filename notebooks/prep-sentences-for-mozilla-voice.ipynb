{
 "cells": [
  {
   "cell_type": "code",
   "execution_count": 10,
   "id": "7f98a304",
   "metadata": {},
   "outputs": [],
   "source": [
    "from pathlib import Path\n",
    "from collections import namedtuple\n",
    "import pandas as pd\n",
    "import numpy as np\n",
    "from numpy import random\n",
    "import shutil\n",
    "import os\n",
    "import sys\n",
    "import re\n",
    "from pydub import AudioSegment\n",
    "from datetime import datetime\n",
    "import nltk"
   ]
  },
  {
   "cell_type": "code",
   "execution_count": 3,
   "id": "e48b88f1",
   "metadata": {
    "tags": []
   },
   "outputs": [],
   "source": [
    "WD = Path.cwd().parents[0]\n",
    "DATA = WD.joinpath('data')\n",
    "ZINDI = DATA.joinpath('zindi-chichewa-texts')"
   ]
  },
  {
   "cell_type": "code",
   "execution_count": null,
   "id": "ecf56358-105c-4677-a03a-fd4f45f32bd0",
   "metadata": {},
   "outputs": [],
   "source": [
    "\"../data/zindi-chichewa-texts/"
   ]
  },
  {
   "cell_type": "markdown",
   "id": "5bd2ef9c-bdf1-4ec9-bd2b-e4145a57e1da",
   "metadata": {},
   "source": [
    "# Prepare Zindi text\n",
    "Convert zindi paragraphrs into sentences "
   ]
  },
  {
   "cell_type": "code",
   "execution_count": 5,
   "id": "f985e4a1-9f48-4fe1-9c43-4fb48812575e",
   "metadata": {},
   "outputs": [],
   "source": [
    "df_train = pd.read_csv(ZINDI.joinpath('Train.csv'))\n",
    "df_test = pd.read_csv(ZINDI.joinpath('Test.csv'))"
   ]
  },
  {
   "cell_type": "code",
   "execution_count": 11,
   "id": "60b1ecc8-2691-413b-b373-dd3ef99770fa",
   "metadata": {},
   "outputs": [],
   "source": [
    "text = df_test.iloc[0]['Text']\n",
    "sent_text = nltk.sent_tokenize(text) "
   ]
  },
  {
   "cell_type": "code",
   "execution_count": 14,
   "id": "708dc8a0-d0b5-4289-a60d-4f5df0194cc0",
   "metadata": {},
   "outputs": [],
   "source": [
    "sentences = []\n",
    "\n",
    "for idx, row in df_train.iterrows():\n",
    "    text = row['Text']\n",
    "    sent_text = nltk.sent_tokenize(text)\n",
    "    sentences += sent_text\n",
    "\n",
    "for idx, row in df_test.iterrows():\n",
    "    text = row['Text']\n",
    "    sent_text = nltk.sent_tokenize(text)\n",
    "    sentences += sent_text"
   ]
  },
  {
   "cell_type": "code",
   "execution_count": 18,
   "id": "9e501776-5ba8-49be-9360-604a3a9fce11",
   "metadata": {},
   "outputs": [],
   "source": [
    "df_sent = pd.DataFrame(sentences, columns=['sentence'])\n",
    "df_sent['num_words'] = df_sent.sentence.apply(lambda x: len(x.split()))"
   ]
  },
  {
   "cell_type": "code",
   "execution_count": 21,
   "id": "cc49cb73-f155-418f-a788-fe843bc395ae",
   "metadata": {},
   "outputs": [
    {
     "name": "stdout",
     "output_type": "stream",
     "text": [
      "\u001b[30m\u001b[43mLJSpeech-1.1\u001b[m\u001b[m               \u001b[30m\u001b[43mchichewa-google-submission\u001b[m\u001b[m\n",
      "\u001b[30m\u001b[43mTIMIT\u001b[m\u001b[m                      \u001b[1m\u001b[31mdata.tar.gz\u001b[m\u001b[m\n",
      "TIMIT.zip                  \u001b[1m\u001b[34mzindi-chichewa-texts\u001b[m\u001b[m\n",
      "\u001b[30m\u001b[43mchichewa\u001b[m\u001b[m\n"
     ]
    }
   ],
   "source": [
    "!ls $DATA"
   ]
  },
  {
   "cell_type": "code",
   "execution_count": 22,
   "id": "95bb97ba-baac-4cee-a247-3f1c877ab36d",
   "metadata": {},
   "outputs": [],
   "source": [
    "df_sent.to_csv(\"../data/chichewa-text-corpora/sentences-from-articles.csv\", index=False)"
   ]
  },
  {
   "cell_type": "code",
   "execution_count": null,
   "id": "76b3b7aa-15e0-4c04-815f-9910429ed050",
   "metadata": {},
   "outputs": [],
   "source": [
    "df_base_meta = pd.read_csv(\"../data/chichewa/metadata.csv\")"
   ]
  },
  {
   "cell_type": "code",
   "execution_count": null,
   "id": "63f3fdd5-6bc3-4303-a2e6-36bc3421f388",
   "metadata": {},
   "outputs": [],
   "source": [
    "outd = Path(\"../data/chichewa/chich_speech_audio_files/\")"
   ]
  },
  {
   "cell_type": "code",
   "execution_count": null,
   "id": "d4006d6c-486e-49cc-ae50-e1752daf9d30",
   "metadata": {},
   "outputs": [],
   "source": [
    "meta_priscilla = {'age': 20, \n",
    "             'gender':'female', 'dialect':'Zomba'\n",
    "             , 'audio_filename': None, 'duration_sec': None,\n",
    "       'transc_filename':None, 'collection_mode': 'whatsapp audios or videos', \n",
    "             'num_speakers': \"1\", 'has_transcript': \"Yes\",'shareable': \"Yes\"}\n",
    "priscilla = Path(\"../audio-data-collection/to-sync/priscilla-self-records/\")\n",
    "df_meta_whatsapp = sync_folder_to_audios(out_data_dir=outd, ind=priscilla,\n",
    "                      meta_dict=meta_priscilla, df_metadata=df_base_meta, has_transcripts=True)"
   ]
  },
  {
   "cell_type": "code",
   "execution_count": null,
   "id": "30fa8802-178b-4472-97d3-716152a46fca",
   "metadata": {
    "tags": []
   },
   "outputs": [],
   "source": [
    "df_meta_whatsapp.to_csv(\"../data/chichewa/metadata.csv\", index=False)"
   ]
  },
  {
   "cell_type": "code",
   "execution_count": null,
   "id": "41f882f7-9d2e-4ea4-8da6-cd427ff52dd7",
   "metadata": {},
   "outputs": [
    {
     "data": {
      "text/html": [
       "<div>\n",
       "<style scoped>\n",
       "    .dataframe tbody tr th:only-of-type {\n",
       "        vertical-align: middle;\n",
       "    }\n",
       "\n",
       "    .dataframe tbody tr th {\n",
       "        vertical-align: top;\n",
       "    }\n",
       "\n",
       "    .dataframe thead th {\n",
       "        text-align: right;\n",
       "    }\n",
       "</style>\n",
       "<table border=\"1\" class=\"dataframe\">\n",
       "  <thead>\n",
       "    <tr style=\"text-align: right;\">\n",
       "      <th></th>\n",
       "      <th>age</th>\n",
       "      <th>gender</th>\n",
       "      <th>dialect</th>\n",
       "      <th>audio_filename</th>\n",
       "      <th>duration_sec</th>\n",
       "      <th>transc_filename</th>\n",
       "      <th>collection_mode</th>\n",
       "      <th>num_speakers</th>\n",
       "      <th>shareable</th>\n",
       "      <th>has_transcript</th>\n",
       "    </tr>\n",
       "  </thead>\n",
       "  <tbody>\n",
       "    <tr>\n",
       "      <th>0</th>\n",
       "      <td>42-47</td>\n",
       "      <td>Male</td>\n",
       "      <td>NaN</td>\n",
       "      <td>dunstan_on_march_26.wav</td>\n",
       "      <td>4.0</td>\n",
       "      <td>dunstan_on_march_26.txt</td>\n",
       "      <td>Spontaneous</td>\n",
       "      <td>1-2</td>\n",
       "      <td>Yes</td>\n",
       "      <td>Yes</td>\n",
       "    </tr>\n",
       "    <tr>\n",
       "      <th>1</th>\n",
       "      <td>36-41</td>\n",
       "      <td>Male</td>\n",
       "      <td>NaN</td>\n",
       "      <td>onesmus.wav</td>\n",
       "      <td>30.0</td>\n",
       "      <td>onesmus.txt</td>\n",
       "      <td>Spontaneous</td>\n",
       "      <td>1-2</td>\n",
       "      <td>Yes</td>\n",
       "      <td>Yes</td>\n",
       "    </tr>\n",
       "    <tr>\n",
       "      <th>2</th>\n",
       "      <td>24-29</td>\n",
       "      <td>Male</td>\n",
       "      <td>NaN</td>\n",
       "      <td>WAU1.wav</td>\n",
       "      <td>12.0</td>\n",
       "      <td>WAU1.txt</td>\n",
       "      <td>Spontaneous</td>\n",
       "      <td>1-2</td>\n",
       "      <td>Yes</td>\n",
       "      <td>Yes</td>\n",
       "    </tr>\n",
       "    <tr>\n",
       "      <th>3</th>\n",
       "      <td>24-29</td>\n",
       "      <td>Male and Female</td>\n",
       "      <td>NaN</td>\n",
       "      <td>WAU2.wav</td>\n",
       "      <td>178.0</td>\n",
       "      <td>WAU2.txt</td>\n",
       "      <td>Spontaneous</td>\n",
       "      <td>1-2</td>\n",
       "      <td>Yes</td>\n",
       "      <td>Yes</td>\n",
       "    </tr>\n",
       "    <tr>\n",
       "      <th>4</th>\n",
       "      <td>30-35</td>\n",
       "      <td>Female</td>\n",
       "      <td>NaN</td>\n",
       "      <td>WAU3.wav</td>\n",
       "      <td>191.0</td>\n",
       "      <td>WAU3.txt</td>\n",
       "      <td>Spontaneous</td>\n",
       "      <td>1-2</td>\n",
       "      <td>Yes</td>\n",
       "      <td>Yes</td>\n",
       "    </tr>\n",
       "    <tr>\n",
       "      <th>...</th>\n",
       "      <td>...</td>\n",
       "      <td>...</td>\n",
       "      <td>...</td>\n",
       "      <td>...</td>\n",
       "      <td>...</td>\n",
       "      <td>...</td>\n",
       "      <td>...</td>\n",
       "      <td>...</td>\n",
       "      <td>...</td>\n",
       "      <td>...</td>\n",
       "    </tr>\n",
       "    <tr>\n",
       "      <th>2628</th>\n",
       "      <td>20</td>\n",
       "      <td>female</td>\n",
       "      <td>Zomba</td>\n",
       "      <td>priscilla_self_records579.wav</td>\n",
       "      <td>10.0</td>\n",
       "      <td>priscilla_self_records579.txt</td>\n",
       "      <td>whatsapp audios or videos</td>\n",
       "      <td>1</td>\n",
       "      <td>Yes</td>\n",
       "      <td>Yes</td>\n",
       "    </tr>\n",
       "    <tr>\n",
       "      <th>2629</th>\n",
       "      <td>20</td>\n",
       "      <td>female</td>\n",
       "      <td>Zomba</td>\n",
       "      <td>priscilla_self_records237.wav</td>\n",
       "      <td>4.0</td>\n",
       "      <td>priscilla_self_records237.txt</td>\n",
       "      <td>whatsapp audios or videos</td>\n",
       "      <td>1</td>\n",
       "      <td>Yes</td>\n",
       "      <td>Yes</td>\n",
       "    </tr>\n",
       "    <tr>\n",
       "      <th>2630</th>\n",
       "      <td>20</td>\n",
       "      <td>female</td>\n",
       "      <td>Zomba</td>\n",
       "      <td>priscilla_self_records551.wav</td>\n",
       "      <td>4.0</td>\n",
       "      <td>priscilla_self_records551.txt</td>\n",
       "      <td>whatsapp audios or videos</td>\n",
       "      <td>1</td>\n",
       "      <td>Yes</td>\n",
       "      <td>Yes</td>\n",
       "    </tr>\n",
       "    <tr>\n",
       "      <th>2631</th>\n",
       "      <td>20</td>\n",
       "      <td>female</td>\n",
       "      <td>Zomba</td>\n",
       "      <td>priscilla_self_records545.wav</td>\n",
       "      <td>6.0</td>\n",
       "      <td>priscilla_self_records545.txt</td>\n",
       "      <td>whatsapp audios or videos</td>\n",
       "      <td>1</td>\n",
       "      <td>Yes</td>\n",
       "      <td>Yes</td>\n",
       "    </tr>\n",
       "    <tr>\n",
       "      <th>2632</th>\n",
       "      <td>20</td>\n",
       "      <td>female</td>\n",
       "      <td>Zomba</td>\n",
       "      <td>priscilla_self_records223.wav</td>\n",
       "      <td>4.0</td>\n",
       "      <td>priscilla_self_records223.txt</td>\n",
       "      <td>whatsapp audios or videos</td>\n",
       "      <td>1</td>\n",
       "      <td>Yes</td>\n",
       "      <td>Yes</td>\n",
       "    </tr>\n",
       "  </tbody>\n",
       "</table>\n",
       "<p>2633 rows × 10 columns</p>\n",
       "</div>"
      ],
      "text/plain": [
       "        age           gender dialect                 audio_filename  \\\n",
       "0     42-47             Male     NaN        dunstan_on_march_26.wav   \n",
       "1     36-41             Male     NaN                    onesmus.wav   \n",
       "2     24-29             Male     NaN                       WAU1.wav   \n",
       "3     24-29  Male and Female     NaN                       WAU2.wav   \n",
       "4     30-35           Female     NaN                       WAU3.wav   \n",
       "...     ...              ...     ...                            ...   \n",
       "2628     20           female   Zomba  priscilla_self_records579.wav   \n",
       "2629     20           female   Zomba  priscilla_self_records237.wav   \n",
       "2630     20           female   Zomba  priscilla_self_records551.wav   \n",
       "2631     20           female   Zomba  priscilla_self_records545.wav   \n",
       "2632     20           female   Zomba  priscilla_self_records223.wav   \n",
       "\n",
       "      duration_sec                transc_filename            collection_mode  \\\n",
       "0              4.0        dunstan_on_march_26.txt                Spontaneous   \n",
       "1             30.0                    onesmus.txt                Spontaneous   \n",
       "2             12.0                       WAU1.txt                Spontaneous   \n",
       "3            178.0                       WAU2.txt                Spontaneous   \n",
       "4            191.0                       WAU3.txt                Spontaneous   \n",
       "...            ...                            ...                        ...   \n",
       "2628          10.0  priscilla_self_records579.txt  whatsapp audios or videos   \n",
       "2629           4.0  priscilla_self_records237.txt  whatsapp audios or videos   \n",
       "2630           4.0  priscilla_self_records551.txt  whatsapp audios or videos   \n",
       "2631           6.0  priscilla_self_records545.txt  whatsapp audios or videos   \n",
       "2632           4.0  priscilla_self_records223.txt  whatsapp audios or videos   \n",
       "\n",
       "     num_speakers shareable has_transcript  \n",
       "0             1-2       Yes            Yes  \n",
       "1             1-2       Yes            Yes  \n",
       "2             1-2       Yes            Yes  \n",
       "3             1-2       Yes            Yes  \n",
       "4             1-2       Yes            Yes  \n",
       "...           ...       ...            ...  \n",
       "2628            1       Yes            Yes  \n",
       "2629            1       Yes            Yes  \n",
       "2630            1       Yes            Yes  \n",
       "2631            1       Yes            Yes  \n",
       "2632            1       Yes            Yes  \n",
       "\n",
       "[2633 rows x 10 columns]"
      ]
     },
     "execution_count": 49,
     "metadata": {},
     "output_type": "execute_result"
    }
   ],
   "source": [
    "df_meta_whatsapp"
   ]
  },
  {
   "cell_type": "code",
   "execution_count": null,
   "id": "fa2689de-00e8-497a-a7f2-b540cffb57e1",
   "metadata": {},
   "outputs": [],
   "source": []
  }
 ],
 "metadata": {
  "kernelspec": {
   "display_name": "Python 3 (ipykernel)",
   "language": "python",
   "name": "python3"
  },
  "language_info": {
   "codemirror_mode": {
    "name": "ipython",
    "version": 3
   },
   "file_extension": ".py",
   "mimetype": "text/x-python",
   "name": "python",
   "nbconvert_exporter": "python",
   "pygments_lexer": "ipython3",
   "version": "3.9.7"
  },
  "toc": {
   "base_numbering": 1,
   "nav_menu": {},
   "number_sections": true,
   "sideBar": true,
   "skip_h1_title": false,
   "title_cell": "Table of Contents",
   "title_sidebar": "Contents",
   "toc_cell": false,
   "toc_position": {},
   "toc_section_display": true,
   "toc_window_display": false
  }
 },
 "nbformat": 4,
 "nbformat_minor": 5
}
