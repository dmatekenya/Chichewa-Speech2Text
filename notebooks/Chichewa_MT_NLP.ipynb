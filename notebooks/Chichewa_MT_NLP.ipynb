{
  "cells": [
    {
      "cell_type": "markdown",
      "metadata": {
        "id": "zwRUkA1GMfsI"
      },
      "source": [
        " # Evaluation of machine translation (MT) of large language modes (LLMs) on Chichewa\n",
        "\n",
        "---\n",
        "\n"
      ]
    },
    {
      "cell_type": "markdown",
      "metadata": {
        "id": "6B-mSSNRNBV4"
      },
      "source": [
        "**Project**: Chichewa NLP Project    |        **Date**: October 20, 2023.\n",
        "\n",
        "**Background**\n",
        "\n",
        "With the recent advancements in natural language processing, large language models (LLMs) like ChatGPT have emerged. These LLMs have demonstrated impressive performance in various natural language processing (NLP) tasks, such as machine translation (MT), text generation, sentence classification, and more. As these LLMs achieve state-of-the-art (SOTA) performance for high-resource languages such as English, Chinese, German, and French, attention has now shifted towards advancing NLP in low-resource languages. This shift is necessitated by the fact that the majority of the over 7,000 languages are considered low-resource due to their limited online text data.\n",
        "\n",
        "In this study, we conduct machine translation (MT) evaluations for Large Language Models (LLMs) and commonly used translation platforms, including Google Translate, Bing Microsoft Translator, ChatGPT, and NLLB, specifically focusing on Chichewa. We utilize two datasets for this evaluation.\n",
        "\n",
        "**Objective:**\n",
        "\n",
        "* Perform machine translation (MT) evaluation on Chichewa using two distinct benchmark datasets.\n",
        "* Compare the performance of Google Translate, Bing Microsoft Translator, ChatGPT, and NLLB on Chichewa using both datasets.\n",
        "* Introduce a new, high-quality machine translation benchmark dataset named `chichewa_nlp`.\n",
        "\n",
        "**Datasets**\n",
        "\n",
        "We use the following  datasets for this task:\n",
        "* [FLORES-200 ](https://github.com/facebookresearch/flores/blob/main/flores200/README.md): This dataset comprises translations from 842 distinct web articles, totaling 3,001 sentences. For Chichewa, we specifically employ the parallel devtest split `nya_Latn.devtest`, and for English, we use `eng_Latn.devtest`, which consists of 1,012 sentences.\n",
        "\n",
        "* **Chichewa NLP Benchmark Dataset for MT** `chichewa_nlp`: We introduce a novel benchmark dataset for Chichewa machine translation named `chichewa_nlp.`. This dataset is human-annotated and consists of 809 parallel data pairs, translating from English to Chichewa. The data is sourced from various text types, including news articles, WhatsApp posts, online translation datasets, political texts, and public health data.\n",
        "\n",
        "* [MAFAND-MT](https://github.com/masakhane-io/lafand-mt/tree/main/data/json_files): This MT dataset in the news domain for 16 languages was introduced in the paper titled \"A Few Thousand Translations Go a Long Way! Leveraging Pre-trained Models for African News Translation.\"\n",
        "\n",
        "\n",
        "\n",
        "**LLMs and Translation Platforms**\n",
        "\n",
        "[Google Translate API](https://www.google.com/aclk?sa=l&ai=DChcSEwiviraSvP-BAxVkOwYAHWuOAesYABAAGgJ3cw&gclid=Cj0KCQjwhL6pBhDjARIsAGx8D5_eDZ-HCtFRBn4hijfoC5zZT0BHk_z0sL0Z-ILsMqsgevJcvh_GoIgaAtgIEALw_wcB&sig=AOD64_3Zp9mMPw30Trz91C1msIVI1JJ1Yg&q&adurl&ved=2ahUKEwi-7K6SvP-BAxWh0wIHHd8QBPAQ0Qx6BAgIEAE): Utilizing Google's neural machine translation technology, the Google Translate API enables instant text translation into more than one hundred languages, similar to the Google Translate service used in web and mobile applications.\n",
        "\n",
        "[Microsoft (MS) Azure](https://azure.microsoft.com/en-us/free/search/?ef_id=_k_Cj0KCQjwhL6pBhDjARIsAGx8D5_WBwjXDtl54jndhnypDnQ02rUhHIee46ULhIqC0wQOhrZsdt68v2MaArrJEALw_wcB_k_&OCID=AIDcmm4z26duq7_SEM__k_Cj0KCQjwhL6pBhDjARIsAGx8D5_WBwjXDtl54jndhnypDnQ02rUhHIee46ULhIqC0wQOhrZsdt68v2MaArrJEALw_wcB_k_&gclid=Cj0KCQjwhL6pBhDjARIsAGx8D5_WBwjXDtl54jndhnypDnQ02rUhHIee46ULhIqC0wQOhrZsdt68v2MaArrJEALw_wcB): Similar to the Google Translate API, Microsoft (MS) Azure supports text translation in over a hundred languages and can be accessed as Bing Translator for web and mobile applications.\n",
        "\n",
        "[OpenAI's GPT](https://platform.openai.com/docs/guides/gpt): The generative pre-trained transformer (GPT) powers the popular ChatGPT chatbot, known for generating human-like text. These GPT models are accessible through the OpenAI API. For this project, we leverage the latest GPT model, `gpt-3.5-turbo.`\n",
        "\n",
        "[NLLB ](https://arxiv.org/abs/2207.04672):  Introduced in the paper titled \"No Language Left Behind: Scaling Human-Centered Machine Translation\" by Meta AI in 2022, NLLB is a multilingual LLM capable of translating over 200 languages, including low-resource languages like Chichewa.\n",
        "\n",
        "**Evaluation**\n",
        "\n",
        "We use [SacreBLEU](http://aclweb.org/anthology/W18-6319) to compute [BLEU](https://cloud.google.com/translate/automl/docs/evaluate#:~:text=BLEU%20(BiLingual%20Evaluation%20Understudy)%20is,of%20high%20quality%20reference%20translations.) scores and [chrF](https://aclanthology.org/W15-3049/) given the morphologically-rich nature of Chichewa.\n",
        "The translation outputs are also evalauated by native speakers to compare the translation qualities.\n",
        "\n"
      ]
    },
    {
      "cell_type": "code",
      "execution_count": null,
      "metadata": {
        "id": "xf_8yhiRX9Xm"
      },
      "outputs": [],
      "source": [
        "# important libralies\n",
        "!pip install --upgrade google-cloud-translate\n",
        "!pip install googletrans\n",
        "!pip install transformers\n",
        "!pip install datasets\n",
        "!pip install evaluate\n",
        "!pip install sacrebleu\n",
        "!pip install sentencepiece\n",
        "!pip install transformers\n",
        "!pip install  datasets\n",
        "!pip install accelerate -U\n",
        "!pip install transformers[torch]\n",
        "!pip install requests uuid\n",
        "!pip install openai"
      ]
    },
    {
      "cell_type": "code",
      "execution_count": null,
      "metadata": {
        "id": "PQ3OO6yvC0TX"
      },
      "outputs": [],
      "source": [
        "# transformers\n",
        "from transformers import AutoModelForSeq2SeqLM, AutoTokenizer\n",
        "import evaluate\n",
        "import openai"
      ]
    },
    {
      "cell_type": "code",
      "execution_count": null,
      "metadata": {
        "id": "StQ0R4Y_Xtg9"
      },
      "outputs": [],
      "source": [
        "import warnings\n",
        "import os\n",
        "import json\n",
        "import html\n",
        "import csv\n",
        "import pandas as pd\n",
        "import numpy as np\n",
        "warnings.filterwarnings('ignore')\n",
        "from pathlib import Path\n",
        "import nltk\n",
        "import requests, uuid, json\n",
        "from six import text_type\n",
        "from google.cloud import translate\n",
        "from datasets import load_dataset\n",
        "from nltk.translate.bleu_score import sentence_bleu\n",
        "from nltk.tokenize import word_tokenize, sent_tokenize\n",
        "from googletrans import Translator, LANGUAGES\n",
        "from IPython.display import Image, display\n",
        "pd.set_option('display.float_format', lambda x: '%.3f' % x)"
      ]
    },
    {
      "cell_type": "markdown",
      "metadata": {
        "id": "GijUcGzzz4My"
      },
      "source": [
        "**Chichewa NLP data**"
      ]
    },
    {
      "cell_type": "code",
      "execution_count": null,
      "metadata": {
        "id": "GxNwBpaSj3_J",
        "colab": {
          "base_uri": "https://localhost:8080/"
        },
        "outputId": "a95c96f1-f3dc-45f7-ccd9-d49df12981ec"
      },
      "outputs": [
        {
          "output_type": "stream",
          "name": "stdout",
          "text": [
            " the number of chichewa senteces in chichewa nlp data set: 809\n",
            " the number of english senteces in chichewa nlp data set: 809\n"
          ]
        }
      ],
      "source": [
        "# ensure the path is correct\n",
        "data_en_chichewa=pd.read_csv('/content/chichewa_en_nlp.csv',index_col=None)# load csv data\n",
        "data_ny_chichewa=pd.read_csv('/content/chichewa_ny_nlp.csv', index_col=None)\n",
        "chichewa_en=data_en_chichewa['0'].tolist() # convert pd.series into list\n",
        "chichewa_ny=data_ny_chichewa['0'].tolist()\n",
        "print(f' the number of chichewa senteces in chichewa nlp data set: {len(chichewa_en)}')\n",
        "print(f' the number of english senteces in chichewa nlp data set: {len(chichewa_ny)}')"
      ]
    },
    {
      "cell_type": "markdown",
      "metadata": {
        "id": "T1AwRS_Vzjs4"
      },
      "source": [
        "**Flores data**"
      ]
    },
    {
      "cell_type": "code",
      "execution_count": null,
      "metadata": {
        "colab": {
          "base_uri": "https://localhost:8080/"
        },
        "id": "12Gv9-HkEgDt",
        "outputId": "1b367baa-ba3c-456d-86a4-fd393d30e951"
      },
      "outputs": [
        {
          "output_type": "stream",
          "name": "stdout",
          "text": [
            " the number of chichewa senteces in flores data set: 1012\n",
            " the number of english senteces in flores data set: 1012\n"
          ]
        }
      ],
      "source": [
        "# ensure the path is correct\n",
        "data_en_flores='/content/eng_Latn.devtest'\n",
        "data_ny_flores='/content/nya_Latn.devtest'\n",
        "with open(data_en_flores, \"r\") as f:\n",
        "  files = f.read()\n",
        "with open(data_ny_flores, \"r\") as f:\n",
        "  files1 = f.read()\n",
        "# convert text into list\n",
        "flores_en=[]\n",
        "sentences_en = [sentence.strip() for sentence in files.split('\\n') if sentence.strip()]\n",
        "\n",
        "flores_ny=[]\n",
        "sentences_ny = [sentence.strip() for sentence in files1.split('\\n') if sentence.strip()]\n",
        "\n",
        "# Print the list of sentences\n",
        "for sentence in sentences_en:\n",
        "  flores_en.append(sentence)\n",
        "for sentence in sentences_ny:\n",
        "  flores_ny.append(sentence)\n",
        "\n",
        "print(f' the number of chichewa senteces in flores data set: {len( flores_ny)}')\n",
        "print(f' the number of english senteces in flores data set: {len( flores_en)}')"
      ]
    },
    {
      "cell_type": "markdown",
      "source": [
        "**MAFAND-MT data**"
      ],
      "metadata": {
        "id": "CHA7JpsEzNEo"
      }
    },
    {
      "cell_type": "code",
      "source": [
        " MAFAND= load_dataset('masakhane/mafand', 'en-nya') # get the data\n",
        " MAFAND=MAFAND['test'][:]['translation']\n",
        "\n",
        "MAFAND_ny=[] # store all Chichewa sentences\n",
        "MAFAND_en=[] # store all English sentences\n",
        "for eng in MAFAND:\n",
        "  MAFAND_en.append(eng['en'])\n",
        "for ny in MAFAND:\n",
        "  MAFAND_ny.append(ny['nya'])\n",
        "\n",
        "print(f' the number of chichewa senteces in MaFAND data set: {len( MAFAND_ny)}')\n",
        "print(f' the number of english senteces in MAFAND data set: {len( MAFAND_en)}')"
      ],
      "metadata": {
        "colab": {
          "base_uri": "https://localhost:8080/",
          "height": 309,
          "referenced_widgets": [
            "a3113735618b4eda819e0908b35c9135",
            "991408d77fd84092bf283a36c03e868a",
            "98ca080406424dbb8bd91eea5cd94280",
            "40b7ccddb4204aae9acfb698c1dd5206",
            "c00d2bd0c3014cfca6dbe81d8366e44f",
            "4106ba4c12fd4562a11de696dd4ec441",
            "3bbe95e017644d2a8cacda12b64c2a5d",
            "f847e3bb9aef4948a709f2587d2b3b7e",
            "064c149bc41f417aa9badbfab72242de",
            "bb1d948e57b84613b035ae0bcd400be1",
            "2254f4fa4f7d4f3b879aab955986be42",
            "c30e4aeddfc04d269dde6ee1a0a9f998",
            "f98ae684f0a84f6395b8d9d6291a5cb5",
            "4dacb1d2450d47f4a1e1edd0d1fc3394",
            "8a9168b958f54af4ae680aa194e2aeba",
            "d72ccac86805471d9fc0ab1e6d7311ba",
            "0df996e5becc478ca1ca91a595fb8207",
            "1d256f850bcb40bfadde791e292f3057",
            "3d714ef988424798901895ace8f9102a",
            "8ea28db5a7f446d181a6dda1e54b95e0",
            "cb834327633e48a4bd1de36e04682ed3",
            "380f20c7f0ee423299e2cd29d0f65f67",
            "d2dc95826b8d467a86a256edff28c410",
            "044b34b4e284492892ca0d996776d4b8",
            "d908038231144765b933219a15e5f68b",
            "74dabf01edd041de90bbb9278d6ceed0",
            "d9ee49ed26454200ab64ac38a5b6c0cb",
            "9aa21a8e598040158c5b69df4be6e58a",
            "200b7cb510fe437fa9d9b38fe347c783",
            "b12b3e7e1ddc424895ce99c271a2365f",
            "ba26fb4c39e54ac0a136c6cdbec695b3",
            "d01679735bf843c0a6e0863a07f7dfc2",
            "d95091d5cbc8473faa7c9ddf447c68b7",
            "94fef1af2cc24325a8507076d010e68e",
            "1322cf428c094e1aabf98b0b4f7609c2",
            "379948bcc1e043babe1855a9cfa48dc8",
            "e3a59ee7014b4cd5bf15dfb57e970626",
            "1a09ba539d7b4ede90ef453714a9fe6f",
            "675cfef570df45dca78a9a03f8a2ad5f",
            "0c15b90ea6bf4af0a996e894b4ad569a",
            "280a486a307949c5b63eab3b28cd11f7",
            "ee08a716d5ad4139963a95f6cc83a2a7",
            "da8a7d05a988402691c11ca8ca182801",
            "a49e954d75c24e28969a6844a648bb02",
            "be3aa79eac7f483987ed7f020f64e1e5",
            "5a11af605b974b85900e74863e511a08",
            "d16b22aa912a450b9232fc938c700b59",
            "7c2879e5b54141fc9f05d48f0fb407e1",
            "215679d3bc154b5681ab9f3f18164cc5",
            "6783ecee55904321936ef6e650c238ba",
            "e5064bb2eb134d1da8d5eb59e5c6b7d4",
            "7025cb7baf954af6bdb3a0435814b901",
            "1b034541840a406799c46072b72a778b",
            "cd0138e89d5b4cd4ae3f0efb3cb25ca3",
            "53b070f959274e0a814c86c4a190d83e",
            "40393e003ea345debfa5badb4f5e1f04",
            "6601d700706347bebbd4da100ce495b3",
            "b766a96b34cb4fd1a536947dd28aeda2",
            "52b66996031143a89a746e476fc95f89",
            "5a9ce603ea144d9e8af3fad49f9da2c4",
            "f824cbd0eb694acf923d0ccbe9054060",
            "2980325eebc2419b8f373284a94a95ba",
            "debd95f45aef45388c2a2bd4cee30062",
            "ec1dc68aca274102a55b74edaf6e5b32",
            "77901a1c9c924bcaab7404077a67738e",
            "52d8fdf8f206475fbeb1aad270916c52",
            "c9c397c9dd85418ab47f28021d76e219",
            "e96e48bca7ab414e85a0e4e72c8018d8",
            "ed6db7b1c1ce4216a88cab3f9a01695b",
            "f62696d6121640699457c0d043e39c59",
            "6dd02f527ad8487fabeadb664cfcbf39",
            "ce987dfeb32b4664ac6bed191e91aa25",
            "1da5303b0b5e44c6bf2ac3b5c1545eec",
            "63dcd0f0a4d8420e899a591e62b04233",
            "e2830130c99643e4b462d220278bdc7a",
            "ffee5439b06344c2acc6e27b00826f19",
            "207682d455bd4244bc05f5540cf76bb4",
            "7fcb28563b974607b7f4f93ab0ad4dd5",
            "5135c9a5bcac4df881f5d8a7244a3aee",
            "34a83fb2d3a84d4dbeaa5e1720555323",
            "e71a3b4354874903b099c4d0309ddfe4",
            "61a4e5d018e042a39027031ac3afc1d0",
            "819187d2943148e78a5e77da7d9d2bbc",
            "0ff481a9bdc7486588e441f9f3decde6",
            "7e0aac7b54fb45f79116c7ef0ff8430f",
            "4483b4f178244c12bd64147e0c0f4d61",
            "e03ad7c6814a47d68e123768524551a0",
            "735f10853b38427da8a090da8f0d4f3f"
          ]
        },
        "id": "s8eEQntWzMfO",
        "outputId": "4cd86a2e-d736-4633-bc57-de2f95cbdf88"
      },
      "execution_count": null,
      "outputs": [
        {
          "output_type": "display_data",
          "data": {
            "text/plain": [
              "Downloading builder script:   0%|          | 0.00/10.3k [00:00<?, ?B/s]"
            ],
            "application/vnd.jupyter.widget-view+json": {
              "version_major": 2,
              "version_minor": 0,
              "model_id": "a3113735618b4eda819e0908b35c9135"
            }
          },
          "metadata": {}
        },
        {
          "output_type": "display_data",
          "data": {
            "text/plain": [
              "Downloading readme:   0%|          | 0.00/7.57k [00:00<?, ?B/s]"
            ],
            "application/vnd.jupyter.widget-view+json": {
              "version_major": 2,
              "version_minor": 0,
              "model_id": "c30e4aeddfc04d269dde6ee1a0a9f998"
            }
          },
          "metadata": {}
        },
        {
          "output_type": "display_data",
          "data": {
            "text/plain": [
              "Downloading data files:   0%|          | 0/2 [00:00<?, ?it/s]"
            ],
            "application/vnd.jupyter.widget-view+json": {
              "version_major": 2,
              "version_minor": 0,
              "model_id": "d2dc95826b8d467a86a256edff28c410"
            }
          },
          "metadata": {}
        },
        {
          "output_type": "display_data",
          "data": {
            "text/plain": [
              "Downloading data:   0%|          | 0.00/82.4k [00:00<?, ?B/s]"
            ],
            "application/vnd.jupyter.widget-view+json": {
              "version_major": 2,
              "version_minor": 0,
              "model_id": "94fef1af2cc24325a8507076d010e68e"
            }
          },
          "metadata": {}
        },
        {
          "output_type": "display_data",
          "data": {
            "text/plain": [
              "Downloading data:   0%|          | 0.00/148k [00:00<?, ?B/s]"
            ],
            "application/vnd.jupyter.widget-view+json": {
              "version_major": 2,
              "version_minor": 0,
              "model_id": "be3aa79eac7f483987ed7f020f64e1e5"
            }
          },
          "metadata": {}
        },
        {
          "output_type": "display_data",
          "data": {
            "text/plain": [
              "Extracting data files:   0%|          | 0/2 [00:00<?, ?it/s]"
            ],
            "application/vnd.jupyter.widget-view+json": {
              "version_major": 2,
              "version_minor": 0,
              "model_id": "40393e003ea345debfa5badb4f5e1f04"
            }
          },
          "metadata": {}
        },
        {
          "output_type": "display_data",
          "data": {
            "text/plain": [
              "Generating validation split: 0 examples [00:00, ? examples/s]"
            ],
            "application/vnd.jupyter.widget-view+json": {
              "version_major": 2,
              "version_minor": 0,
              "model_id": "c9c397c9dd85418ab47f28021d76e219"
            }
          },
          "metadata": {}
        },
        {
          "output_type": "display_data",
          "data": {
            "text/plain": [
              "Generating test split: 0 examples [00:00, ? examples/s]"
            ],
            "application/vnd.jupyter.widget-view+json": {
              "version_major": 2,
              "version_minor": 0,
              "model_id": "7fcb28563b974607b7f4f93ab0ad4dd5"
            }
          },
          "metadata": {}
        },
        {
          "output_type": "stream",
          "name": "stdout",
          "text": [
            " the number of chichewa senteces in MaFAND data set: 1004\n",
            " the number of english senteces in MAFAND data set: 1004\n"
          ]
        }
      ]
    },
    {
      "cell_type": "markdown",
      "metadata": {
        "id": "eO0afCyuIC9e"
      },
      "source": [
        "# Google Translation"
      ]
    },
    {
      "cell_type": "markdown",
      "metadata": {
        "id": "wDqjMpdYHy2U"
      },
      "source": [
        "**Translating with Google translate**"
      ]
    },
    {
      "cell_type": "code",
      "execution_count": null,
      "metadata": {
        "id": "qvwy5n_633cz"
      },
      "outputs": [],
      "source": [
        "en_ny_translations_google=[]\n",
        "ny_translations_google=[]\n",
        "\n",
        "# Set the environment variable to your Google Cloud credentials JSON file\n",
        "os.environ['GOOGLE_APPLICATION_CREDENTIALS'] = '/content/sincere-pen-401719-37daac6dd7e0.json'\n",
        "\n",
        "# Initialize the translation client\n",
        "translate_client = translate.TranslationServiceClient()\n",
        "\n",
        "# Define your source and target languages\n",
        "source_language_code = \"EN\"  # English\n",
        "target_language_code = \"NY\"  # Chichewa\n",
        "\n",
        "# Translate the sentences\n",
        "for sentence in MAFAND_en:\n",
        "    translation = translate_client.translate_text(\n",
        "        parent=f\"projects/sincere-pen-401719/locations/global\",\n",
        "        contents=[sentence],\n",
        "        source_language_code=source_language_code,\n",
        "        target_language_code=target_language_code,\n",
        "    )\n",
        "    translated_sentence = html.unescape(translation.translations[0].translated_text)\n",
        "    en_ny_translations_google.append((f'en: {sentence}',f'ny: {translated_sentence}'))\n",
        "    ny_translations_google.append(translated_sentence)\n"
      ]
    },
    {
      "cell_type": "markdown",
      "metadata": {
        "id": "REaqeYMiINDg"
      },
      "source": [
        "**Automatic Evaluation**"
      ]
    },
    {
      "cell_type": "code",
      "execution_count": null,
      "metadata": {
        "id": "3NI0SieEILuR",
        "colab": {
          "base_uri": "https://localhost:8080/",
          "height": 135,
          "referenced_widgets": [
            "b60875f89dfd4f248c5a91b8fb7ce752",
            "934985b38e9547e2b0a21809c4ed7492",
            "a103bbc1b9db44af8c67fc3c4ad5610f",
            "4db86226af374f2696705ffda8bf8a65",
            "f47c7a44e65d4aed8a909e9454909100",
            "cee6a71adbbb48ae82f9e997b31817e9",
            "bc14809cdde24e0392668f4f9540623e",
            "b6808ebcd1124d44a1d398a28e0a577c",
            "1355ca3854354c048e8ddb14dfc07c5a",
            "a01cf0d1fea54ea28101fb68b0bc864a",
            "589fff77f4ab4fd194c4681cc1119a6e",
            "6586961d47c846988c5d4bec8a931848",
            "c3e9fe323ea5499e92b9cda7bc836ae9",
            "e0edf45eabec406f83316da37928817f",
            "501b108ec8064963b447f68b58aedc76",
            "de9836812d7142379a0ca46ccf270dfa",
            "4fb4355fc9434ef59a3d81176ab679fe",
            "e08a744394994e4ea375d56715a2efd6",
            "8dc6348bd7014a318e87bee4cef03d2c",
            "9220ef7e6a574bdcbaf202d2eef0ce06",
            "37b87e0aacc0410db81a86176a33a2e5",
            "9bdba7c950b945a69ef2d179fb7782aa"
          ]
        },
        "outputId": "b22f2580-6c6a-42a4-eb85-78aa5faef07b"
      },
      "outputs": [
        {
          "output_type": "display_data",
          "data": {
            "text/plain": [
              "Downloading builder script:   0%|          | 0.00/8.15k [00:00<?, ?B/s]"
            ],
            "application/vnd.jupyter.widget-view+json": {
              "version_major": 2,
              "version_minor": 0,
              "model_id": "b60875f89dfd4f248c5a91b8fb7ce752"
            }
          },
          "metadata": {}
        },
        {
          "output_type": "display_data",
          "data": {
            "text/plain": [
              "Downloading builder script:   0%|          | 0.00/9.01k [00:00<?, ?B/s]"
            ],
            "application/vnd.jupyter.widget-view+json": {
              "version_major": 2,
              "version_minor": 0,
              "model_id": "6586961d47c846988c5d4bec8a931848"
            }
          },
          "metadata": {}
        },
        {
          "output_type": "stream",
          "name": "stderr",
          "text": [
            "WARNING:sacrebleu:Tokenizer 'spm' has been changed to 'flores101', and may be removed in the future.\n"
          ]
        },
        {
          "output_type": "stream",
          "name": "stdout",
          "text": [
            "the BLEU score for english to chichewa Google translation: 16.7542\n",
            "the ChrF score for english to chichewa Google translation: 50.0673\n"
          ]
        }
      ],
      "source": [
        "# evaluation\n",
        "bleu_metric = evaluate.load(\"sacrebleu\")\n",
        "chrf_metric = evaluate.load(\"chrf\")\n",
        "\n",
        "bleu_result = bleu_metric.compute(predictions=ny_translations_google, references=MAFAND_ny,tokenize='flores200')\n",
        "chrf_result = chrf_metric.compute(predictions=ny_translations_google, references=MAFAND_ny)\n",
        "\n",
        "result = {\"bleu\": bleu_result[\"score\"], \"chrf\": chrf_result[\"score\"]}\n",
        "results = {k: round(v, 4) for k, v in result.items()}\n",
        "print(f'the BLEU score for english to chichewa Google translation: {results[\"bleu\"]}')\n",
        "print(f'the ChrF score for english to chichewa Google translation: {results[\"chrf\"]}')"
      ]
    },
    {
      "cell_type": "markdown",
      "metadata": {
        "id": "SR8ZN8ZeIAGr"
      },
      "source": [
        "**Saving Google translation results**"
      ]
    },
    {
      "cell_type": "code",
      "execution_count": null,
      "metadata": {
        "colab": {
          "base_uri": "https://localhost:8080/"
        },
        "id": "KQ-ghNu_kjNs",
        "outputId": "bcff941c-0523-4364-a32f-ed289489fbcf"
      },
      "outputs": [
        {
          "output_type": "stream",
          "name": "stdout",
          "text": [
            "JSON data has been written to en_ny_translations_google_MAFAND.json\n"
          ]
        }
      ],
      "source": [
        "# Combine the sentences into a list of dictionaries\n",
        "en_ny_translations_google = [{\"en\": en, \"ny\": ny} for en, ny in zip(MAFAND_en, ny_translations_google)]\n",
        "\n",
        "# Specify the filename for the JSON file\n",
        "filename = \"en_ny_translations_google_MAFAND.json\"\n",
        "\n",
        "# Write the data to a JSON file\n",
        "with open(filename, \"w\") as json_file:\n",
        "    json.dump(en_ny_translations_google, json_file, indent=4, ensure_ascii=False)\n",
        "\n",
        "print(f\"JSON data has been written to {filename}\")"
      ]
    },
    {
      "cell_type": "code",
      "source": [],
      "metadata": {
        "id": "RJIOazsM7mRR"
      },
      "execution_count": null,
      "outputs": []
    },
    {
      "cell_type": "markdown",
      "metadata": {
        "id": "IFMQf4UdIfya"
      },
      "source": [
        "# Bing Translation"
      ]
    },
    {
      "cell_type": "markdown",
      "metadata": {
        "id": "GlswhdZQ5b1j"
      },
      "source": [
        "**Setting the Azure account**\n",
        "\n",
        "\n",
        "---\n",
        "\n",
        "\n",
        "location: westus\n",
        "\n",
        "key: 1bee95c1ea8147c9bd25d6d17b171***\n",
        "\n",
        "endpoint: https://api.cognitive.microsofttranslator.com/\n",
        "\n",
        "\n",
        "\n",
        "\n",
        "\n",
        "---\n",
        "\n"
      ]
    },
    {
      "cell_type": "code",
      "execution_count": null,
      "metadata": {
        "colab": {
          "base_uri": "https://localhost:8080/"
        },
        "id": "BjgNEf-W3ikE",
        "outputId": "e0cd321d-87e7-4253-dca4-cbde35d50364"
      },
      "outputs": [
        {
          "name": "stdout",
          "output_type": "stream",
          "text": [
            "Total number of characters for chichewa nlp data: 98911\n",
            "Total number of characters for flores data: 131966\n"
          ]
        }
      ],
      "source": [
        "#---------------------\n",
        "# Limit of 2 million characters per hour\n",
        "# translate request is limited to 50,000 characters\n",
        "#-------------------------\n",
        "\n",
        "# Calculate the total number of characters in all text\n",
        "total_char_chichewa = sum(len(string) for string in chichewa_en)\n",
        "total_char_flores= sum(len(string) for string in flores_en)\n",
        "\n",
        "# Print the total\n",
        "print(\"Total number of characters for chichewa nlp data:\", total_char_chichewa)\n",
        "print(\"Total number of characters for flores data:\", total_char_flores)"
      ]
    },
    {
      "cell_type": "markdown",
      "metadata": {
        "id": "qRLZeJ1J6LX4"
      },
      "source": [
        "**Create batches**"
      ]
    },
    {
      "cell_type": "code",
      "execution_count": null,
      "metadata": {
        "colab": {
          "base_uri": "https://localhost:8080/"
        },
        "id": "D5M19uuM6KQb",
        "outputId": "b2fc592d-6b8f-41f6-9af9-f8638a5766dc"
      },
      "outputs": [
        {
          "output_type": "stream",
          "name": "stdout",
          "text": [
            "5\n"
          ]
        }
      ],
      "source": [
        "# Calculate the batch size\n",
        "batch_size = 210\n",
        "\n",
        "# Split the list into  batches\n",
        "batches = [MAFAND_en[i:i + batch_size] for i in range(0, len(MAFAND_en), batch_size)]\n",
        "print(len(batches ))"
      ]
    },
    {
      "cell_type": "markdown",
      "metadata": {
        "id": "xD46GziW58JH"
      },
      "source": [
        "**Translation with MS Azure (Bing)**"
      ]
    },
    {
      "cell_type": "code",
      "execution_count": null,
      "metadata": {
        "id": "gtFYIP1NM-Id"
      },
      "outputs": [],
      "source": [
        "# en_ny_translations=[]\n",
        "ny_translations_batch5=[]\n",
        "\n",
        "\n",
        "body = [{'text': text} for text in batches[4] ]\n",
        "\n",
        "# Add your key and endpoint\n",
        "key = \"***e95c1ea8147c9bd25d6d17b171***\"\n",
        "endpoint = \"https://api.cognitive.microsofttranslator.com\"\n",
        "location = \"westus\"\n",
        "\n",
        "path = '/translate'\n",
        "constructed_url = endpoint + path\n",
        "\n",
        "params = {\n",
        "    'api-version': '3.0',\n",
        "    'from': 'en',\n",
        "    'to': ['nya']\n",
        "}\n",
        "\n",
        "headers = {\n",
        "    'Ocp-Apim-Subscription-Key': key,\n",
        "    'Ocp-Apim-Subscription-Region': location,\n",
        "    'Content-type': 'application/json',\n",
        "    'X-ClientTraceId': str(uuid.uuid4())\n",
        "}\n",
        "request = requests.post(constructed_url, params=params, headers=headers, json=body)\n",
        "response = request.json()\n",
        "\n",
        "for i in range(len(batches[4])):\n",
        "    original_text =batches[4][i]\n",
        "\n",
        "    translation = response[i][\"translations\"][0][\"text\"]\n",
        "    # en_ny_translations.append((original_text, translation))\n",
        "    ny_translations_batch5.append( translation )\n",
        "\n",
        "\n",
        "with open('ny_translations_batch5.csv', 'w', newline='') as csv_file:\n",
        "    csv_writer = csv.writer(csv_file)\n",
        "\n",
        "    # Write each element in the list as a separate row in the CSV file\n",
        "    for item in ny_translations_batch5:\n",
        "        csv_writer.writerow([item])\n"
      ]
    },
    {
      "cell_type": "markdown",
      "metadata": {
        "id": "Z-TjJYk7zznT"
      },
      "source": [
        "**Putting translations together**"
      ]
    },
    {
      "cell_type": "code",
      "execution_count": null,
      "metadata": {
        "id": "M_5aYsRssl5O"
      },
      "outputs": [],
      "source": [
        "file_paths = ['/content/ny_translations_batch1.csv','/content/ny_translations_batch2.csv','/content/ny_translations_batch3.csv',\n",
        "              '/content/ny_translations_batch4.csv','/content/ny_translations_batch5.csv']\n",
        "combined_data = pd.DataFrame()\n",
        "\n",
        "# Read and concatenate the CSV files into one DataFrame\n",
        "for file_path in file_paths:\n",
        "    df = pd.read_csv(file_path,header=None)\n",
        "    combined_data = pd.concat([combined_data, df], ignore_index=True)\n",
        "\n",
        "# Save the combined data to a new CSV file\n",
        "combined_data.to_csv('ny_translations_bing.csv', index=False)\n",
        "\n",
        "#read csv file\n",
        "files=pd.read_csv('/content/ny_translations_bing.csv')['0']\n",
        "ny_translations_bing=files.tolist()"
      ]
    },
    {
      "cell_type": "code",
      "execution_count": null,
      "metadata": {
        "id": "GCdM1oQc6Kmm"
      },
      "outputs": [],
      "source": [
        "# evaluation\n",
        "bleu_metric = evaluate.load(\"sacrebleu\")\n",
        "chrf_metric = evaluate.load(\"chrf\")\n",
        "\n",
        "bleu_result = bleu_metric.compute(predictions= ny_translations_bing, references=MAFAND_ny,tokenize='flores200')\n",
        "chrf_result = chrf_metric.compute(predictions= ny_translations_bing, references=MAFAND_ny)\n",
        "\n",
        "result = {\"bleu\": bleu_result[\"score\"], \"chrf\": chrf_result[\"score\"]}\n",
        "results = {k: round(v, 4) for k, v in result.items()}\n",
        "print(f'the BLEU score for english to chichewa Bing translation: {results[\"bleu\"]}')\n",
        "print(f'the ChrF score for english to chichewa Bing translation: {results[\"chrf\"]}')"
      ]
    },
    {
      "cell_type": "markdown",
      "metadata": {
        "id": "YnBfA0ae59Ei"
      },
      "source": [
        "**Saving Bing translate results**"
      ]
    },
    {
      "cell_type": "code",
      "execution_count": null,
      "metadata": {
        "colab": {
          "base_uri": "https://localhost:8080/"
        },
        "id": "wtupokvp58af",
        "outputId": "95f74347-bf90-450e-ee39-83d176951512"
      },
      "outputs": [
        {
          "output_type": "stream",
          "name": "stdout",
          "text": [
            "JSON data has been written to en_ny_translations_bing_MAFAND.json\n"
          ]
        }
      ],
      "source": [
        "# Combine the sentences into a list of dictionaries\n",
        "en_ny_translations_google = [{\"en\": en, \"ny\": ny} for en, ny in zip(MAFAND_en, ny_translations_bing)]\n",
        "\n",
        "# Specify the filename for the JSON file\n",
        "filename = \"en_ny_translations_bing_MAFAND.json\"\n",
        "\n",
        "# Write the data to a JSON file\n",
        "with open(filename, \"w\") as json_file:\n",
        "    json.dump(en_ny_translations_google, json_file, indent=4)\n",
        "\n",
        "print(f\"JSON data has been written to {filename}\")"
      ]
    },
    {
      "cell_type": "markdown",
      "metadata": {
        "id": "z_y131Gp6W4s"
      },
      "source": [
        "**Saving Google translation results**"
      ]
    },
    {
      "cell_type": "markdown",
      "metadata": {
        "id": "-nrkd1KzABeA"
      },
      "source": [
        "# ChatGPT"
      ]
    },
    {
      "cell_type": "markdown",
      "metadata": {
        "id": "-nDqUoDK6idZ"
      },
      "source": [
        "**1. ChatGPT chatbot**\n",
        "\n",
        "We followed prompting approach described in [(Jiao et al., 2023)](https://arxiv.org/abs/2301.08745) using the translation prompt\n",
        "```\n",
        "Translate the following list of  sentences from  English to Chichewa (Nyanja).\n",
        "\n",
        "```\n",
        "\n",
        "Challenges:\n",
        "\n",
        "\n",
        "*   Hallucinations\n",
        "*   Mixing ids\n",
        "*   Missing translations\n",
        "*   Slow\n",
        "*  Inconsistincies in translations\n",
        "\n",
        "\n",
        "\n"
      ]
    },
    {
      "cell_type": "markdown",
      "metadata": {
        "id": "Vl80C8qe_Qb2"
      },
      "source": [
        " **2. ChatGPT API**"
      ]
    },
    {
      "cell_type": "code",
      "execution_count": null,
      "metadata": {
        "id": "TeLD443kA88G"
      },
      "outputs": [],
      "source": [
        "\n",
        "api_key = 'YOUR-API'\n",
        "openai.api_key = api_key\n",
        "\n",
        "def translate_sentences(input_list, src_lang, tgt_lang):\n",
        "  \"\"\"\n",
        "  Generate translation with chatgpt\n",
        "  input_list: source sentences\n",
        "  src_lang: source language\n",
        "  tgt_lang: target language\n",
        "\n",
        "  \"\"\"\n",
        "  translations = [] # store the list of translations\n",
        "\n",
        "  for sentence in input_list:\n",
        "      prompt = f\"Translate the following sentence from {src_lang} to {tgt_lang}:\\n {sentence}\" # translation prompt\n",
        "      prompt+=\"\\nTranslation:\"\n",
        "\n",
        "      # Call the ChatGPT API for  translations\n",
        "      response = openai.Completion.create(\n",
        "          engine=\"gpt-3.5-turbo-instruct\", # model family\n",
        "          prompt=prompt,\n",
        "          max_tokens=256,\n",
        "          temperature=0.3 # control out randomness\n",
        "      )\n",
        "\n",
        "      translation = response.choices[0].text.strip()\n",
        "      translations.append(translation)\n",
        "\n",
        "  return translations\n",
        "\n",
        "source_language = \"English\"\n",
        "target_language = \"Chichewa\"\n",
        "\n",
        "ny_translations = translate_sentences(MAFAND_en, source_language, target_language)\n"
      ]
    },
    {
      "cell_type": "code",
      "execution_count": null,
      "metadata": {
        "colab": {
          "base_uri": "https://localhost:8080/"
        },
        "id": "E5CMtPAeBDcx",
        "outputId": "96005677-af99-494a-c25f-2cb386665a10"
      },
      "outputs": [
        {
          "output_type": "execute_result",
          "data": {
            "text/plain": [
              "1004"
            ]
          },
          "metadata": {},
          "execution_count": 108
        }
      ],
      "source": [
        "len(ny_translations)"
      ]
    },
    {
      "cell_type": "markdown",
      "metadata": {
        "id": "lKsSVyvIPiK7"
      },
      "source": [
        "**Automatic Evaluation**"
      ]
    },
    {
      "cell_type": "code",
      "execution_count": null,
      "metadata": {
        "colab": {
          "base_uri": "https://localhost:8080/"
        },
        "id": "Nnt-aJ9tPeMt",
        "outputId": "35ddecfb-2d32-4633-9828-e38e2403d8af"
      },
      "outputs": [
        {
          "output_type": "stream",
          "name": "stderr",
          "text": [
            "WARNING:sacrebleu:Tokenizer 'spm' has been changed to 'flores101', and may be removed in the future.\n"
          ]
        },
        {
          "output_type": "stream",
          "name": "stdout",
          "text": [
            "the BLEU score for english to chichewa ChatGPT translation: 6.113\n",
            "the ChrF score for english to chichewa ChatGPT translation: 33.2838\n"
          ]
        }
      ],
      "source": [
        "# evaluation\n",
        "bleu_metric = evaluate.load(\"sacrebleu\")\n",
        "chrf_metric = evaluate.load(\"chrf\")\n",
        "\n",
        "bleu_result = bleu_metric.compute(predictions=ny_translations, references=MAFAND_ny,tokenize='flores200')\n",
        "chrf_result = chrf_metric.compute(predictions=ny_translations, references=MAFAND_ny)\n",
        "\n",
        "result = {\"bleu\": bleu_result[\"score\"], \"chrf\": chrf_result[\"score\"]}\n",
        "results = {k: round(v, 4) for k, v in result.items()}\n",
        "print(f'the BLEU score for english to chichewa ChatGPT translation: {results[\"bleu\"]}')\n",
        "print(f'the ChrF score for english to chichewa ChatGPT translation: {results[\"chrf\"]}')"
      ]
    },
    {
      "cell_type": "markdown",
      "metadata": {
        "id": "ExUYp4wCPs7_"
      },
      "source": [
        "**Saving ChatGpt results**"
      ]
    },
    {
      "cell_type": "code",
      "execution_count": null,
      "metadata": {
        "colab": {
          "base_uri": "https://localhost:8080/"
        },
        "id": "togH-aTorCQr",
        "outputId": "ea0aa907-04c4-4399-8b85-fbb9dcd10c83"
      },
      "outputs": [
        {
          "output_type": "stream",
          "name": "stdout",
          "text": [
            "JSON data has been written to en_ny_translations_ChatGPT_MAFAND.json\n"
          ]
        }
      ],
      "source": [
        "# Combine the sentences into a list of dictionaries\n",
        "en_ny_translations_ChatGPT = [{\"en\": en, \"ny\": ny} for en, ny in zip(MAFAND_en, ny_translations)]\n",
        "\n",
        "# Specify the filename for the JSON file\n",
        "filename = \"en_ny_translations_ChatGPT_MAFAND.json\"\n",
        "\n",
        "# Write the data to a JSON file\n",
        "with open(filename, \"w\") as json_file:\n",
        "    json.dump(en_ny_translations_ChatGPT, json_file, indent=4, ensure_ascii=False)\n",
        "\n",
        "print(f\"JSON data has been written to {filename}\")"
      ]
    },
    {
      "cell_type": "markdown",
      "metadata": {
        "id": "omFODzwx7IgR"
      },
      "source": [
        "# NLLB"
      ]
    },
    {
      "cell_type": "markdown",
      "metadata": {
        "id": "X6y6HLZA-XEX"
      },
      "source": [
        "**Model**"
      ]
    },
    {
      "cell_type": "code",
      "execution_count": null,
      "metadata": {
        "id": "fdY2BL3d76Kc"
      },
      "outputs": [],
      "source": [
        "# load pretrained model\n",
        "# model = AutoModelForSeq2SeqLM.from_pretrained(\"facebook/nllb-200-distilled-600M\")\n",
        "model = AutoModelForSeq2SeqLM.from_pretrained(\"facebook/nllb-200-3.3B\")"
      ]
    },
    {
      "cell_type": "markdown",
      "metadata": {
        "id": "INGnmSJH-aOG"
      },
      "source": [
        "**NLLB**"
      ]
    },
    {
      "cell_type": "code",
      "execution_count": null,
      "metadata": {
        "id": "tqlDIMr9769s"
      },
      "outputs": [],
      "source": [
        "def batch_translate_direct(input_list: list, src_lang: str, tgt_lang: str):\n",
        "  \"\"\"\n",
        "  Generate translations using NLLB\n",
        "  input_list: list source sentences\n",
        "  src_lang: source language code --> check NLLB list of lang codes\n",
        "  tgt_lang: target language code\n",
        "\n",
        "  Returns:\n",
        "  translation into target lang\n",
        "\n",
        "  \"\"\"\n",
        "\n",
        "  tokenizer = AutoTokenizer.from_pretrained(\"facebook/nllb-200-distilled-600M\",  src_lang=src_lang) # initialize tokenizer from NLLB\n",
        "  en_ny_translations=[]\n",
        "  ny_translations=[]\n",
        "  for line in input_list:\n",
        "    source = line\n",
        "    input=tokenizer(source, return_tensors=\"pt\") # tokenization\n",
        "    translated_tokens = model.generate(\n",
        "    **input, forced_bos_token_id=tokenizer.lang_code_to_id[tgt_lang], max_length=1000) # generate translations\n",
        "    output=tokenizer.batch_decode(translated_tokens, skip_special_tokens=True)[0] # decode the translated tokens\n",
        "    en_ny_translations.append((f'en: {source}',f'ny: {output}'))\n",
        "    ny_translations.append(output)\n",
        "\n",
        "  return  (en_ny_translations,ny_translations)\n",
        "en_ny_translations,ny_translations= batch_translate_direct(MAFAND_en, src_lang=\"eng_Latn\", tgt_lang=\"nya_Latn\")"
      ]
    },
    {
      "cell_type": "markdown",
      "metadata": {
        "id": "QAaE8vvz-lgN"
      },
      "source": [
        "**Automatic Evaluation**"
      ]
    },
    {
      "cell_type": "code",
      "execution_count": null,
      "metadata": {
        "colab": {
          "base_uri": "https://localhost:8080/"
        },
        "id": "e0ASkmKYj640",
        "outputId": "73b87a4e-157e-4ee3-8aaf-bc156efe133f"
      },
      "outputs": [
        {
          "output_type": "execute_result",
          "data": {
            "text/plain": [
              "1004"
            ]
          },
          "metadata": {},
          "execution_count": 15
        }
      ],
      "source": [
        "len(en_ny_translations)"
      ]
    },
    {
      "cell_type": "code",
      "execution_count": null,
      "metadata": {
        "id": "yOAS9Mcn90G0",
        "colab": {
          "base_uri": "https://localhost:8080/"
        },
        "outputId": "68df55f3-f445-4f1e-9a0b-44e61af05676"
      },
      "outputs": [
        {
          "output_type": "stream",
          "name": "stderr",
          "text": [
            "WARNING:sacrebleu:Tokenizer 'spm' has been changed to 'flores101', and may be removed in the future.\n"
          ]
        },
        {
          "output_type": "stream",
          "name": "stdout",
          "text": [
            "the BLEU score for english to chichewa NLLB translation: 15.7805\n",
            "the ChrF score for english to chichewa NLLB translation: 48.0068\n"
          ]
        }
      ],
      "source": [
        "# evaluation\n",
        "bleu_metric = evaluate.load(\"sacrebleu\")\n",
        "chrf_metric = evaluate.load(\"chrf\")\n",
        "\n",
        "bleu_result = bleu_metric.compute(predictions=ny_translations, references=MAFAND_ny,tokenize='flores200')\n",
        "chrf_result = chrf_metric.compute(predictions=ny_translations, references=MAFAND_ny)\n",
        "\n",
        "result = {\"bleu\": bleu_result[\"score\"], \"chrf\": chrf_result[\"score\"]}\n",
        "results = {k: round(v, 4) for k, v in result.items()}\n",
        "print(f'the BLEU score for english to chichewa NLLB translation: {results[\"bleu\"]}')\n",
        "print(f'the ChrF score for english to chichewa NLLB translation: {results[\"chrf\"]}')"
      ]
    },
    {
      "cell_type": "markdown",
      "metadata": {
        "id": "k1SV8uyl-iFN"
      },
      "source": [
        "**Saving NLLB translation results**"
      ]
    },
    {
      "cell_type": "code",
      "execution_count": null,
      "metadata": {
        "id": "VirIitvj9_F4",
        "colab": {
          "base_uri": "https://localhost:8080/"
        },
        "outputId": "dfea4c4d-44da-4143-9d53-be3fd8d1c88e"
      },
      "outputs": [
        {
          "output_type": "stream",
          "name": "stdout",
          "text": [
            "JSON data has been written to en_ny_translations_NLLB_MAFAND_3.3B.json\n"
          ]
        }
      ],
      "source": [
        "# Combine the sentences into a list of dictionaries\n",
        "en_ny_translations_NLLB = [{\"en\": en, \"ny\": ny} for en, ny in zip(MAFAND_en, ny_translations)]\n",
        "\n",
        "# Specify the filename for the JSON file\n",
        "filename = \"en_ny_translations_NLLB_MAFAND_3.3B.json\"\n",
        "\n",
        "# Write the data to a JSON file\n",
        "with open(filename, \"w\") as json_file:\n",
        "    json.dump(en_ny_translations_NLLB, json_file, indent=4,ensure_ascii=False)\n",
        "\n",
        "print(f\"JSON data has been written to {filename}\")"
      ]
    },
    {
      "cell_type": "markdown",
      "metadata": {
        "id": "58R3r5_wsGzc"
      },
      "source": [
        "**Results**"
      ]
    },
    {
      "cell_type": "markdown",
      "metadata": {
        "id": "R2_bJl1pEViq"
      },
      "source": [
        "**Summary**\n",
        "\n",
        "We present the results in the **Table 1** below. All translation outputs are also saved in .json format and can be found in the results folder."
      ]
    },
    {
      "cell_type": "markdown",
      "source": [
        "| LLM    |  Chichewa NLP |    VV       | FLORES-200                 |           | MAFAND-MT                  |           | Average  |  |\n",
        "| ---             |:---:                     | :---:    | :---:                      | :---:    | :---:                      | :---:    | --- | --- |\n",
        "|                 |   BLEU   |   ChrF            |   BLEU   |   ChrF                   |   BLEU   |   ChrF                   | BLEU | ChrF |\n",
        "| ----------------------- | ----------------------- | -----------------------             | ----------------------- | -----------------------                        | ----------------------- | -----------------------                         |----------------------- | ----------------------- |\n",
        "| Google Translate| **17.1838**| **49.8466**           | \t**21.2157**  | \t**52.8351**                 | 16.7542  |50.0673                  | 18.3846 | 50.9163 |\n",
        "| MS Bing         | 15.0289  | \t48.7437              | \t19.5783  | \t51.3756                   | **17.2489**  | **50.2119**                   | 17.2854 | 50.1104 |\n",
        "| ChatGPT(3.5)    | 4.5473  | \t30.8839              |\t5.6283  | 30.4527                   | 6.113  | 33.2838                   | 5.0962 | 31.8735 |\n",
        "| NLLB (600M)     | 12.8351  | \t45.1251              | 15.8566  | 46.7084                   | 14.7799  | 46.9726                   | 14.8239 | 46.2687 |\n",
        "| NLLB (1.3B)     | 13.662  | 46.4778              | 16.5077  | \t47.7076                  | 15.7197  | 47.28                 | 15.9638 | 47.4885 |\n",
        "| NLLB (3.3B)     | \t14.0357  | \t46.8637              | 17.2807  | 48.6876                  | 15.7805  | 48.0068                   | 15.6989 | 47.5194 |\n"
      ],
      "metadata": {
        "id": "tGF9q21o3OGE"
      }
    },
    {
      "cell_type": "markdown",
      "metadata": {
        "id": "MUTvf81uowGZ"
      },
      "source": [
        "**Which LLM is faster?**\n",
        "\n",
        "1.   Google Translate -  ~2 minutes for flores and Chichewa nlp datasets.\n",
        "2.  MS Bing Translate -  ~1 second  minutes for 300 sentences.\n",
        "3. ChatGPT - ~ 12 mins for flores and ~ 16 mins for Chichewa nlp datasets.\n",
        "4. NLLB - ~ 2 hrs  for flores and ~ 1 hr 30 mins for Chichewa nlp datasets.\n",
        "\n",
        "\n",
        "\n",
        "\n",
        "\n",
        "\n"
      ]
    },
    {
      "cell_type": "markdown",
      "metadata": {
        "id": "5WVubPM4tG1Y"
      },
      "source": [
        "\n",
        "\n",
        "---\n",
        "\n",
        "\n",
        "**Discussion and Conclusion**\n",
        "\n",
        "We present the results in **Table 1.** For the language under consideration, Google Translate achieved the highest average BLEU scores, with a score of 18.38, while ChatGPT yielded significantly lower average BLEU scores of 5.09. In terms of translation speed, Google Translate and MS Bing proved to be the fastest, completing translations in under two minutes for each dataset. In contrast, ChatGPT and NLLB took up to 16 minutes and 2 hours for translation, respectively.\n",
        "\n",
        "This study introduced a new, high-quality, human-annotated MT benchmark dataset, `chichewa_nlp`. We also evaluated MT performance on Google Translate, Bing Microsoft Translator, ChatGPT, and NLLB. Google Translate outperformed other platforms in terms of BLEU scores for Chichewa."
      ]
    },
    {
      "cell_type": "markdown",
      "metadata": {
        "id": "QWv4tdnutLV2"
      },
      "source": [
        "**End 😊**"
      ]
    }
  ],
  "metadata": {
    "accelerator": "GPU",
    "colab": {
      "machine_shape": "hm",
      "provenance": [],
      "gpuType": "V100"
    },
    "kernelspec": {
      "display_name": "Python 3",
      "name": "python3"
    },
    "language_info": {
      "name": "python"
    },
    "widgets": {
      "application/vnd.jupyter.widget-state+json": {
        "a3113735618b4eda819e0908b35c9135": {
          "model_module": "@jupyter-widgets/controls",
          "model_name": "HBoxModel",
          "model_module_version": "1.5.0",
          "state": {
            "_dom_classes": [],
            "_model_module": "@jupyter-widgets/controls",
            "_model_module_version": "1.5.0",
            "_model_name": "HBoxModel",
            "_view_count": null,
            "_view_module": "@jupyter-widgets/controls",
            "_view_module_version": "1.5.0",
            "_view_name": "HBoxView",
            "box_style": "",
            "children": [
              "IPY_MODEL_991408d77fd84092bf283a36c03e868a",
              "IPY_MODEL_98ca080406424dbb8bd91eea5cd94280",
              "IPY_MODEL_40b7ccddb4204aae9acfb698c1dd5206"
            ],
            "layout": "IPY_MODEL_c00d2bd0c3014cfca6dbe81d8366e44f"
          }
        },
        "991408d77fd84092bf283a36c03e868a": {
          "model_module": "@jupyter-widgets/controls",
          "model_name": "HTMLModel",
          "model_module_version": "1.5.0",
          "state": {
            "_dom_classes": [],
            "_model_module": "@jupyter-widgets/controls",
            "_model_module_version": "1.5.0",
            "_model_name": "HTMLModel",
            "_view_count": null,
            "_view_module": "@jupyter-widgets/controls",
            "_view_module_version": "1.5.0",
            "_view_name": "HTMLView",
            "description": "",
            "description_tooltip": null,
            "layout": "IPY_MODEL_4106ba4c12fd4562a11de696dd4ec441",
            "placeholder": "​",
            "style": "IPY_MODEL_3bbe95e017644d2a8cacda12b64c2a5d",
            "value": "Downloading builder script: 100%"
          }
        },
        "98ca080406424dbb8bd91eea5cd94280": {
          "model_module": "@jupyter-widgets/controls",
          "model_name": "FloatProgressModel",
          "model_module_version": "1.5.0",
          "state": {
            "_dom_classes": [],
            "_model_module": "@jupyter-widgets/controls",
            "_model_module_version": "1.5.0",
            "_model_name": "FloatProgressModel",
            "_view_count": null,
            "_view_module": "@jupyter-widgets/controls",
            "_view_module_version": "1.5.0",
            "_view_name": "ProgressView",
            "bar_style": "success",
            "description": "",
            "description_tooltip": null,
            "layout": "IPY_MODEL_f847e3bb9aef4948a709f2587d2b3b7e",
            "max": 10284,
            "min": 0,
            "orientation": "horizontal",
            "style": "IPY_MODEL_064c149bc41f417aa9badbfab72242de",
            "value": 10284
          }
        },
        "40b7ccddb4204aae9acfb698c1dd5206": {
          "model_module": "@jupyter-widgets/controls",
          "model_name": "HTMLModel",
          "model_module_version": "1.5.0",
          "state": {
            "_dom_classes": [],
            "_model_module": "@jupyter-widgets/controls",
            "_model_module_version": "1.5.0",
            "_model_name": "HTMLModel",
            "_view_count": null,
            "_view_module": "@jupyter-widgets/controls",
            "_view_module_version": "1.5.0",
            "_view_name": "HTMLView",
            "description": "",
            "description_tooltip": null,
            "layout": "IPY_MODEL_bb1d948e57b84613b035ae0bcd400be1",
            "placeholder": "​",
            "style": "IPY_MODEL_2254f4fa4f7d4f3b879aab955986be42",
            "value": " 10.3k/10.3k [00:00&lt;00:00, 807kB/s]"
          }
        },
        "c00d2bd0c3014cfca6dbe81d8366e44f": {
          "model_module": "@jupyter-widgets/base",
          "model_name": "LayoutModel",
          "model_module_version": "1.2.0",
          "state": {
            "_model_module": "@jupyter-widgets/base",
            "_model_module_version": "1.2.0",
            "_model_name": "LayoutModel",
            "_view_count": null,
            "_view_module": "@jupyter-widgets/base",
            "_view_module_version": "1.2.0",
            "_view_name": "LayoutView",
            "align_content": null,
            "align_items": null,
            "align_self": null,
            "border": null,
            "bottom": null,
            "display": null,
            "flex": null,
            "flex_flow": null,
            "grid_area": null,
            "grid_auto_columns": null,
            "grid_auto_flow": null,
            "grid_auto_rows": null,
            "grid_column": null,
            "grid_gap": null,
            "grid_row": null,
            "grid_template_areas": null,
            "grid_template_columns": null,
            "grid_template_rows": null,
            "height": null,
            "justify_content": null,
            "justify_items": null,
            "left": null,
            "margin": null,
            "max_height": null,
            "max_width": null,
            "min_height": null,
            "min_width": null,
            "object_fit": null,
            "object_position": null,
            "order": null,
            "overflow": null,
            "overflow_x": null,
            "overflow_y": null,
            "padding": null,
            "right": null,
            "top": null,
            "visibility": null,
            "width": null
          }
        },
        "4106ba4c12fd4562a11de696dd4ec441": {
          "model_module": "@jupyter-widgets/base",
          "model_name": "LayoutModel",
          "model_module_version": "1.2.0",
          "state": {
            "_model_module": "@jupyter-widgets/base",
            "_model_module_version": "1.2.0",
            "_model_name": "LayoutModel",
            "_view_count": null,
            "_view_module": "@jupyter-widgets/base",
            "_view_module_version": "1.2.0",
            "_view_name": "LayoutView",
            "align_content": null,
            "align_items": null,
            "align_self": null,
            "border": null,
            "bottom": null,
            "display": null,
            "flex": null,
            "flex_flow": null,
            "grid_area": null,
            "grid_auto_columns": null,
            "grid_auto_flow": null,
            "grid_auto_rows": null,
            "grid_column": null,
            "grid_gap": null,
            "grid_row": null,
            "grid_template_areas": null,
            "grid_template_columns": null,
            "grid_template_rows": null,
            "height": null,
            "justify_content": null,
            "justify_items": null,
            "left": null,
            "margin": null,
            "max_height": null,
            "max_width": null,
            "min_height": null,
            "min_width": null,
            "object_fit": null,
            "object_position": null,
            "order": null,
            "overflow": null,
            "overflow_x": null,
            "overflow_y": null,
            "padding": null,
            "right": null,
            "top": null,
            "visibility": null,
            "width": null
          }
        },
        "3bbe95e017644d2a8cacda12b64c2a5d": {
          "model_module": "@jupyter-widgets/controls",
          "model_name": "DescriptionStyleModel",
          "model_module_version": "1.5.0",
          "state": {
            "_model_module": "@jupyter-widgets/controls",
            "_model_module_version": "1.5.0",
            "_model_name": "DescriptionStyleModel",
            "_view_count": null,
            "_view_module": "@jupyter-widgets/base",
            "_view_module_version": "1.2.0",
            "_view_name": "StyleView",
            "description_width": ""
          }
        },
        "f847e3bb9aef4948a709f2587d2b3b7e": {
          "model_module": "@jupyter-widgets/base",
          "model_name": "LayoutModel",
          "model_module_version": "1.2.0",
          "state": {
            "_model_module": "@jupyter-widgets/base",
            "_model_module_version": "1.2.0",
            "_model_name": "LayoutModel",
            "_view_count": null,
            "_view_module": "@jupyter-widgets/base",
            "_view_module_version": "1.2.0",
            "_view_name": "LayoutView",
            "align_content": null,
            "align_items": null,
            "align_self": null,
            "border": null,
            "bottom": null,
            "display": null,
            "flex": null,
            "flex_flow": null,
            "grid_area": null,
            "grid_auto_columns": null,
            "grid_auto_flow": null,
            "grid_auto_rows": null,
            "grid_column": null,
            "grid_gap": null,
            "grid_row": null,
            "grid_template_areas": null,
            "grid_template_columns": null,
            "grid_template_rows": null,
            "height": null,
            "justify_content": null,
            "justify_items": null,
            "left": null,
            "margin": null,
            "max_height": null,
            "max_width": null,
            "min_height": null,
            "min_width": null,
            "object_fit": null,
            "object_position": null,
            "order": null,
            "overflow": null,
            "overflow_x": null,
            "overflow_y": null,
            "padding": null,
            "right": null,
            "top": null,
            "visibility": null,
            "width": null
          }
        },
        "064c149bc41f417aa9badbfab72242de": {
          "model_module": "@jupyter-widgets/controls",
          "model_name": "ProgressStyleModel",
          "model_module_version": "1.5.0",
          "state": {
            "_model_module": "@jupyter-widgets/controls",
            "_model_module_version": "1.5.0",
            "_model_name": "ProgressStyleModel",
            "_view_count": null,
            "_view_module": "@jupyter-widgets/base",
            "_view_module_version": "1.2.0",
            "_view_name": "StyleView",
            "bar_color": null,
            "description_width": ""
          }
        },
        "bb1d948e57b84613b035ae0bcd400be1": {
          "model_module": "@jupyter-widgets/base",
          "model_name": "LayoutModel",
          "model_module_version": "1.2.0",
          "state": {
            "_model_module": "@jupyter-widgets/base",
            "_model_module_version": "1.2.0",
            "_model_name": "LayoutModel",
            "_view_count": null,
            "_view_module": "@jupyter-widgets/base",
            "_view_module_version": "1.2.0",
            "_view_name": "LayoutView",
            "align_content": null,
            "align_items": null,
            "align_self": null,
            "border": null,
            "bottom": null,
            "display": null,
            "flex": null,
            "flex_flow": null,
            "grid_area": null,
            "grid_auto_columns": null,
            "grid_auto_flow": null,
            "grid_auto_rows": null,
            "grid_column": null,
            "grid_gap": null,
            "grid_row": null,
            "grid_template_areas": null,
            "grid_template_columns": null,
            "grid_template_rows": null,
            "height": null,
            "justify_content": null,
            "justify_items": null,
            "left": null,
            "margin": null,
            "max_height": null,
            "max_width": null,
            "min_height": null,
            "min_width": null,
            "object_fit": null,
            "object_position": null,
            "order": null,
            "overflow": null,
            "overflow_x": null,
            "overflow_y": null,
            "padding": null,
            "right": null,
            "top": null,
            "visibility": null,
            "width": null
          }
        },
        "2254f4fa4f7d4f3b879aab955986be42": {
          "model_module": "@jupyter-widgets/controls",
          "model_name": "DescriptionStyleModel",
          "model_module_version": "1.5.0",
          "state": {
            "_model_module": "@jupyter-widgets/controls",
            "_model_module_version": "1.5.0",
            "_model_name": "DescriptionStyleModel",
            "_view_count": null,
            "_view_module": "@jupyter-widgets/base",
            "_view_module_version": "1.2.0",
            "_view_name": "StyleView",
            "description_width": ""
          }
        },
        "c30e4aeddfc04d269dde6ee1a0a9f998": {
          "model_module": "@jupyter-widgets/controls",
          "model_name": "HBoxModel",
          "model_module_version": "1.5.0",
          "state": {
            "_dom_classes": [],
            "_model_module": "@jupyter-widgets/controls",
            "_model_module_version": "1.5.0",
            "_model_name": "HBoxModel",
            "_view_count": null,
            "_view_module": "@jupyter-widgets/controls",
            "_view_module_version": "1.5.0",
            "_view_name": "HBoxView",
            "box_style": "",
            "children": [
              "IPY_MODEL_f98ae684f0a84f6395b8d9d6291a5cb5",
              "IPY_MODEL_4dacb1d2450d47f4a1e1edd0d1fc3394",
              "IPY_MODEL_8a9168b958f54af4ae680aa194e2aeba"
            ],
            "layout": "IPY_MODEL_d72ccac86805471d9fc0ab1e6d7311ba"
          }
        },
        "f98ae684f0a84f6395b8d9d6291a5cb5": {
          "model_module": "@jupyter-widgets/controls",
          "model_name": "HTMLModel",
          "model_module_version": "1.5.0",
          "state": {
            "_dom_classes": [],
            "_model_module": "@jupyter-widgets/controls",
            "_model_module_version": "1.5.0",
            "_model_name": "HTMLModel",
            "_view_count": null,
            "_view_module": "@jupyter-widgets/controls",
            "_view_module_version": "1.5.0",
            "_view_name": "HTMLView",
            "description": "",
            "description_tooltip": null,
            "layout": "IPY_MODEL_0df996e5becc478ca1ca91a595fb8207",
            "placeholder": "​",
            "style": "IPY_MODEL_1d256f850bcb40bfadde791e292f3057",
            "value": "Downloading readme: 100%"
          }
        },
        "4dacb1d2450d47f4a1e1edd0d1fc3394": {
          "model_module": "@jupyter-widgets/controls",
          "model_name": "FloatProgressModel",
          "model_module_version": "1.5.0",
          "state": {
            "_dom_classes": [],
            "_model_module": "@jupyter-widgets/controls",
            "_model_module_version": "1.5.0",
            "_model_name": "FloatProgressModel",
            "_view_count": null,
            "_view_module": "@jupyter-widgets/controls",
            "_view_module_version": "1.5.0",
            "_view_name": "ProgressView",
            "bar_style": "success",
            "description": "",
            "description_tooltip": null,
            "layout": "IPY_MODEL_3d714ef988424798901895ace8f9102a",
            "max": 7565,
            "min": 0,
            "orientation": "horizontal",
            "style": "IPY_MODEL_8ea28db5a7f446d181a6dda1e54b95e0",
            "value": 7565
          }
        },
        "8a9168b958f54af4ae680aa194e2aeba": {
          "model_module": "@jupyter-widgets/controls",
          "model_name": "HTMLModel",
          "model_module_version": "1.5.0",
          "state": {
            "_dom_classes": [],
            "_model_module": "@jupyter-widgets/controls",
            "_model_module_version": "1.5.0",
            "_model_name": "HTMLModel",
            "_view_count": null,
            "_view_module": "@jupyter-widgets/controls",
            "_view_module_version": "1.5.0",
            "_view_name": "HTMLView",
            "description": "",
            "description_tooltip": null,
            "layout": "IPY_MODEL_cb834327633e48a4bd1de36e04682ed3",
            "placeholder": "​",
            "style": "IPY_MODEL_380f20c7f0ee423299e2cd29d0f65f67",
            "value": " 7.57k/7.57k [00:00&lt;00:00, 391kB/s]"
          }
        },
        "d72ccac86805471d9fc0ab1e6d7311ba": {
          "model_module": "@jupyter-widgets/base",
          "model_name": "LayoutModel",
          "model_module_version": "1.2.0",
          "state": {
            "_model_module": "@jupyter-widgets/base",
            "_model_module_version": "1.2.0",
            "_model_name": "LayoutModel",
            "_view_count": null,
            "_view_module": "@jupyter-widgets/base",
            "_view_module_version": "1.2.0",
            "_view_name": "LayoutView",
            "align_content": null,
            "align_items": null,
            "align_self": null,
            "border": null,
            "bottom": null,
            "display": null,
            "flex": null,
            "flex_flow": null,
            "grid_area": null,
            "grid_auto_columns": null,
            "grid_auto_flow": null,
            "grid_auto_rows": null,
            "grid_column": null,
            "grid_gap": null,
            "grid_row": null,
            "grid_template_areas": null,
            "grid_template_columns": null,
            "grid_template_rows": null,
            "height": null,
            "justify_content": null,
            "justify_items": null,
            "left": null,
            "margin": null,
            "max_height": null,
            "max_width": null,
            "min_height": null,
            "min_width": null,
            "object_fit": null,
            "object_position": null,
            "order": null,
            "overflow": null,
            "overflow_x": null,
            "overflow_y": null,
            "padding": null,
            "right": null,
            "top": null,
            "visibility": null,
            "width": null
          }
        },
        "0df996e5becc478ca1ca91a595fb8207": {
          "model_module": "@jupyter-widgets/base",
          "model_name": "LayoutModel",
          "model_module_version": "1.2.0",
          "state": {
            "_model_module": "@jupyter-widgets/base",
            "_model_module_version": "1.2.0",
            "_model_name": "LayoutModel",
            "_view_count": null,
            "_view_module": "@jupyter-widgets/base",
            "_view_module_version": "1.2.0",
            "_view_name": "LayoutView",
            "align_content": null,
            "align_items": null,
            "align_self": null,
            "border": null,
            "bottom": null,
            "display": null,
            "flex": null,
            "flex_flow": null,
            "grid_area": null,
            "grid_auto_columns": null,
            "grid_auto_flow": null,
            "grid_auto_rows": null,
            "grid_column": null,
            "grid_gap": null,
            "grid_row": null,
            "grid_template_areas": null,
            "grid_template_columns": null,
            "grid_template_rows": null,
            "height": null,
            "justify_content": null,
            "justify_items": null,
            "left": null,
            "margin": null,
            "max_height": null,
            "max_width": null,
            "min_height": null,
            "min_width": null,
            "object_fit": null,
            "object_position": null,
            "order": null,
            "overflow": null,
            "overflow_x": null,
            "overflow_y": null,
            "padding": null,
            "right": null,
            "top": null,
            "visibility": null,
            "width": null
          }
        },
        "1d256f850bcb40bfadde791e292f3057": {
          "model_module": "@jupyter-widgets/controls",
          "model_name": "DescriptionStyleModel",
          "model_module_version": "1.5.0",
          "state": {
            "_model_module": "@jupyter-widgets/controls",
            "_model_module_version": "1.5.0",
            "_model_name": "DescriptionStyleModel",
            "_view_count": null,
            "_view_module": "@jupyter-widgets/base",
            "_view_module_version": "1.2.0",
            "_view_name": "StyleView",
            "description_width": ""
          }
        },
        "3d714ef988424798901895ace8f9102a": {
          "model_module": "@jupyter-widgets/base",
          "model_name": "LayoutModel",
          "model_module_version": "1.2.0",
          "state": {
            "_model_module": "@jupyter-widgets/base",
            "_model_module_version": "1.2.0",
            "_model_name": "LayoutModel",
            "_view_count": null,
            "_view_module": "@jupyter-widgets/base",
            "_view_module_version": "1.2.0",
            "_view_name": "LayoutView",
            "align_content": null,
            "align_items": null,
            "align_self": null,
            "border": null,
            "bottom": null,
            "display": null,
            "flex": null,
            "flex_flow": null,
            "grid_area": null,
            "grid_auto_columns": null,
            "grid_auto_flow": null,
            "grid_auto_rows": null,
            "grid_column": null,
            "grid_gap": null,
            "grid_row": null,
            "grid_template_areas": null,
            "grid_template_columns": null,
            "grid_template_rows": null,
            "height": null,
            "justify_content": null,
            "justify_items": null,
            "left": null,
            "margin": null,
            "max_height": null,
            "max_width": null,
            "min_height": null,
            "min_width": null,
            "object_fit": null,
            "object_position": null,
            "order": null,
            "overflow": null,
            "overflow_x": null,
            "overflow_y": null,
            "padding": null,
            "right": null,
            "top": null,
            "visibility": null,
            "width": null
          }
        },
        "8ea28db5a7f446d181a6dda1e54b95e0": {
          "model_module": "@jupyter-widgets/controls",
          "model_name": "ProgressStyleModel",
          "model_module_version": "1.5.0",
          "state": {
            "_model_module": "@jupyter-widgets/controls",
            "_model_module_version": "1.5.0",
            "_model_name": "ProgressStyleModel",
            "_view_count": null,
            "_view_module": "@jupyter-widgets/base",
            "_view_module_version": "1.2.0",
            "_view_name": "StyleView",
            "bar_color": null,
            "description_width": ""
          }
        },
        "cb834327633e48a4bd1de36e04682ed3": {
          "model_module": "@jupyter-widgets/base",
          "model_name": "LayoutModel",
          "model_module_version": "1.2.0",
          "state": {
            "_model_module": "@jupyter-widgets/base",
            "_model_module_version": "1.2.0",
            "_model_name": "LayoutModel",
            "_view_count": null,
            "_view_module": "@jupyter-widgets/base",
            "_view_module_version": "1.2.0",
            "_view_name": "LayoutView",
            "align_content": null,
            "align_items": null,
            "align_self": null,
            "border": null,
            "bottom": null,
            "display": null,
            "flex": null,
            "flex_flow": null,
            "grid_area": null,
            "grid_auto_columns": null,
            "grid_auto_flow": null,
            "grid_auto_rows": null,
            "grid_column": null,
            "grid_gap": null,
            "grid_row": null,
            "grid_template_areas": null,
            "grid_template_columns": null,
            "grid_template_rows": null,
            "height": null,
            "justify_content": null,
            "justify_items": null,
            "left": null,
            "margin": null,
            "max_height": null,
            "max_width": null,
            "min_height": null,
            "min_width": null,
            "object_fit": null,
            "object_position": null,
            "order": null,
            "overflow": null,
            "overflow_x": null,
            "overflow_y": null,
            "padding": null,
            "right": null,
            "top": null,
            "visibility": null,
            "width": null
          }
        },
        "380f20c7f0ee423299e2cd29d0f65f67": {
          "model_module": "@jupyter-widgets/controls",
          "model_name": "DescriptionStyleModel",
          "model_module_version": "1.5.0",
          "state": {
            "_model_module": "@jupyter-widgets/controls",
            "_model_module_version": "1.5.0",
            "_model_name": "DescriptionStyleModel",
            "_view_count": null,
            "_view_module": "@jupyter-widgets/base",
            "_view_module_version": "1.2.0",
            "_view_name": "StyleView",
            "description_width": ""
          }
        },
        "d2dc95826b8d467a86a256edff28c410": {
          "model_module": "@jupyter-widgets/controls",
          "model_name": "HBoxModel",
          "model_module_version": "1.5.0",
          "state": {
            "_dom_classes": [],
            "_model_module": "@jupyter-widgets/controls",
            "_model_module_version": "1.5.0",
            "_model_name": "HBoxModel",
            "_view_count": null,
            "_view_module": "@jupyter-widgets/controls",
            "_view_module_version": "1.5.0",
            "_view_name": "HBoxView",
            "box_style": "",
            "children": [
              "IPY_MODEL_044b34b4e284492892ca0d996776d4b8",
              "IPY_MODEL_d908038231144765b933219a15e5f68b",
              "IPY_MODEL_74dabf01edd041de90bbb9278d6ceed0"
            ],
            "layout": "IPY_MODEL_d9ee49ed26454200ab64ac38a5b6c0cb"
          }
        },
        "044b34b4e284492892ca0d996776d4b8": {
          "model_module": "@jupyter-widgets/controls",
          "model_name": "HTMLModel",
          "model_module_version": "1.5.0",
          "state": {
            "_dom_classes": [],
            "_model_module": "@jupyter-widgets/controls",
            "_model_module_version": "1.5.0",
            "_model_name": "HTMLModel",
            "_view_count": null,
            "_view_module": "@jupyter-widgets/controls",
            "_view_module_version": "1.5.0",
            "_view_name": "HTMLView",
            "description": "",
            "description_tooltip": null,
            "layout": "IPY_MODEL_9aa21a8e598040158c5b69df4be6e58a",
            "placeholder": "​",
            "style": "IPY_MODEL_200b7cb510fe437fa9d9b38fe347c783",
            "value": "Downloading data files: 100%"
          }
        },
        "d908038231144765b933219a15e5f68b": {
          "model_module": "@jupyter-widgets/controls",
          "model_name": "FloatProgressModel",
          "model_module_version": "1.5.0",
          "state": {
            "_dom_classes": [],
            "_model_module": "@jupyter-widgets/controls",
            "_model_module_version": "1.5.0",
            "_model_name": "FloatProgressModel",
            "_view_count": null,
            "_view_module": "@jupyter-widgets/controls",
            "_view_module_version": "1.5.0",
            "_view_name": "ProgressView",
            "bar_style": "success",
            "description": "",
            "description_tooltip": null,
            "layout": "IPY_MODEL_b12b3e7e1ddc424895ce99c271a2365f",
            "max": 2,
            "min": 0,
            "orientation": "horizontal",
            "style": "IPY_MODEL_ba26fb4c39e54ac0a136c6cdbec695b3",
            "value": 2
          }
        },
        "74dabf01edd041de90bbb9278d6ceed0": {
          "model_module": "@jupyter-widgets/controls",
          "model_name": "HTMLModel",
          "model_module_version": "1.5.0",
          "state": {
            "_dom_classes": [],
            "_model_module": "@jupyter-widgets/controls",
            "_model_module_version": "1.5.0",
            "_model_name": "HTMLModel",
            "_view_count": null,
            "_view_module": "@jupyter-widgets/controls",
            "_view_module_version": "1.5.0",
            "_view_name": "HTMLView",
            "description": "",
            "description_tooltip": null,
            "layout": "IPY_MODEL_d01679735bf843c0a6e0863a07f7dfc2",
            "placeholder": "​",
            "style": "IPY_MODEL_d95091d5cbc8473faa7c9ddf447c68b7",
            "value": " 2/2 [00:01&lt;00:00,  1.32it/s]"
          }
        },
        "d9ee49ed26454200ab64ac38a5b6c0cb": {
          "model_module": "@jupyter-widgets/base",
          "model_name": "LayoutModel",
          "model_module_version": "1.2.0",
          "state": {
            "_model_module": "@jupyter-widgets/base",
            "_model_module_version": "1.2.0",
            "_model_name": "LayoutModel",
            "_view_count": null,
            "_view_module": "@jupyter-widgets/base",
            "_view_module_version": "1.2.0",
            "_view_name": "LayoutView",
            "align_content": null,
            "align_items": null,
            "align_self": null,
            "border": null,
            "bottom": null,
            "display": null,
            "flex": null,
            "flex_flow": null,
            "grid_area": null,
            "grid_auto_columns": null,
            "grid_auto_flow": null,
            "grid_auto_rows": null,
            "grid_column": null,
            "grid_gap": null,
            "grid_row": null,
            "grid_template_areas": null,
            "grid_template_columns": null,
            "grid_template_rows": null,
            "height": null,
            "justify_content": null,
            "justify_items": null,
            "left": null,
            "margin": null,
            "max_height": null,
            "max_width": null,
            "min_height": null,
            "min_width": null,
            "object_fit": null,
            "object_position": null,
            "order": null,
            "overflow": null,
            "overflow_x": null,
            "overflow_y": null,
            "padding": null,
            "right": null,
            "top": null,
            "visibility": null,
            "width": null
          }
        },
        "9aa21a8e598040158c5b69df4be6e58a": {
          "model_module": "@jupyter-widgets/base",
          "model_name": "LayoutModel",
          "model_module_version": "1.2.0",
          "state": {
            "_model_module": "@jupyter-widgets/base",
            "_model_module_version": "1.2.0",
            "_model_name": "LayoutModel",
            "_view_count": null,
            "_view_module": "@jupyter-widgets/base",
            "_view_module_version": "1.2.0",
            "_view_name": "LayoutView",
            "align_content": null,
            "align_items": null,
            "align_self": null,
            "border": null,
            "bottom": null,
            "display": null,
            "flex": null,
            "flex_flow": null,
            "grid_area": null,
            "grid_auto_columns": null,
            "grid_auto_flow": null,
            "grid_auto_rows": null,
            "grid_column": null,
            "grid_gap": null,
            "grid_row": null,
            "grid_template_areas": null,
            "grid_template_columns": null,
            "grid_template_rows": null,
            "height": null,
            "justify_content": null,
            "justify_items": null,
            "left": null,
            "margin": null,
            "max_height": null,
            "max_width": null,
            "min_height": null,
            "min_width": null,
            "object_fit": null,
            "object_position": null,
            "order": null,
            "overflow": null,
            "overflow_x": null,
            "overflow_y": null,
            "padding": null,
            "right": null,
            "top": null,
            "visibility": null,
            "width": null
          }
        },
        "200b7cb510fe437fa9d9b38fe347c783": {
          "model_module": "@jupyter-widgets/controls",
          "model_name": "DescriptionStyleModel",
          "model_module_version": "1.5.0",
          "state": {
            "_model_module": "@jupyter-widgets/controls",
            "_model_module_version": "1.5.0",
            "_model_name": "DescriptionStyleModel",
            "_view_count": null,
            "_view_module": "@jupyter-widgets/base",
            "_view_module_version": "1.2.0",
            "_view_name": "StyleView",
            "description_width": ""
          }
        },
        "b12b3e7e1ddc424895ce99c271a2365f": {
          "model_module": "@jupyter-widgets/base",
          "model_name": "LayoutModel",
          "model_module_version": "1.2.0",
          "state": {
            "_model_module": "@jupyter-widgets/base",
            "_model_module_version": "1.2.0",
            "_model_name": "LayoutModel",
            "_view_count": null,
            "_view_module": "@jupyter-widgets/base",
            "_view_module_version": "1.2.0",
            "_view_name": "LayoutView",
            "align_content": null,
            "align_items": null,
            "align_self": null,
            "border": null,
            "bottom": null,
            "display": null,
            "flex": null,
            "flex_flow": null,
            "grid_area": null,
            "grid_auto_columns": null,
            "grid_auto_flow": null,
            "grid_auto_rows": null,
            "grid_column": null,
            "grid_gap": null,
            "grid_row": null,
            "grid_template_areas": null,
            "grid_template_columns": null,
            "grid_template_rows": null,
            "height": null,
            "justify_content": null,
            "justify_items": null,
            "left": null,
            "margin": null,
            "max_height": null,
            "max_width": null,
            "min_height": null,
            "min_width": null,
            "object_fit": null,
            "object_position": null,
            "order": null,
            "overflow": null,
            "overflow_x": null,
            "overflow_y": null,
            "padding": null,
            "right": null,
            "top": null,
            "visibility": null,
            "width": null
          }
        },
        "ba26fb4c39e54ac0a136c6cdbec695b3": {
          "model_module": "@jupyter-widgets/controls",
          "model_name": "ProgressStyleModel",
          "model_module_version": "1.5.0",
          "state": {
            "_model_module": "@jupyter-widgets/controls",
            "_model_module_version": "1.5.0",
            "_model_name": "ProgressStyleModel",
            "_view_count": null,
            "_view_module": "@jupyter-widgets/base",
            "_view_module_version": "1.2.0",
            "_view_name": "StyleView",
            "bar_color": null,
            "description_width": ""
          }
        },
        "d01679735bf843c0a6e0863a07f7dfc2": {
          "model_module": "@jupyter-widgets/base",
          "model_name": "LayoutModel",
          "model_module_version": "1.2.0",
          "state": {
            "_model_module": "@jupyter-widgets/base",
            "_model_module_version": "1.2.0",
            "_model_name": "LayoutModel",
            "_view_count": null,
            "_view_module": "@jupyter-widgets/base",
            "_view_module_version": "1.2.0",
            "_view_name": "LayoutView",
            "align_content": null,
            "align_items": null,
            "align_self": null,
            "border": null,
            "bottom": null,
            "display": null,
            "flex": null,
            "flex_flow": null,
            "grid_area": null,
            "grid_auto_columns": null,
            "grid_auto_flow": null,
            "grid_auto_rows": null,
            "grid_column": null,
            "grid_gap": null,
            "grid_row": null,
            "grid_template_areas": null,
            "grid_template_columns": null,
            "grid_template_rows": null,
            "height": null,
            "justify_content": null,
            "justify_items": null,
            "left": null,
            "margin": null,
            "max_height": null,
            "max_width": null,
            "min_height": null,
            "min_width": null,
            "object_fit": null,
            "object_position": null,
            "order": null,
            "overflow": null,
            "overflow_x": null,
            "overflow_y": null,
            "padding": null,
            "right": null,
            "top": null,
            "visibility": null,
            "width": null
          }
        },
        "d95091d5cbc8473faa7c9ddf447c68b7": {
          "model_module": "@jupyter-widgets/controls",
          "model_name": "DescriptionStyleModel",
          "model_module_version": "1.5.0",
          "state": {
            "_model_module": "@jupyter-widgets/controls",
            "_model_module_version": "1.5.0",
            "_model_name": "DescriptionStyleModel",
            "_view_count": null,
            "_view_module": "@jupyter-widgets/base",
            "_view_module_version": "1.2.0",
            "_view_name": "StyleView",
            "description_width": ""
          }
        },
        "94fef1af2cc24325a8507076d010e68e": {
          "model_module": "@jupyter-widgets/controls",
          "model_name": "HBoxModel",
          "model_module_version": "1.5.0",
          "state": {
            "_dom_classes": [],
            "_model_module": "@jupyter-widgets/controls",
            "_model_module_version": "1.5.0",
            "_model_name": "HBoxModel",
            "_view_count": null,
            "_view_module": "@jupyter-widgets/controls",
            "_view_module_version": "1.5.0",
            "_view_name": "HBoxView",
            "box_style": "",
            "children": [
              "IPY_MODEL_1322cf428c094e1aabf98b0b4f7609c2",
              "IPY_MODEL_379948bcc1e043babe1855a9cfa48dc8",
              "IPY_MODEL_e3a59ee7014b4cd5bf15dfb57e970626"
            ],
            "layout": "IPY_MODEL_1a09ba539d7b4ede90ef453714a9fe6f"
          }
        },
        "1322cf428c094e1aabf98b0b4f7609c2": {
          "model_module": "@jupyter-widgets/controls",
          "model_name": "HTMLModel",
          "model_module_version": "1.5.0",
          "state": {
            "_dom_classes": [],
            "_model_module": "@jupyter-widgets/controls",
            "_model_module_version": "1.5.0",
            "_model_name": "HTMLModel",
            "_view_count": null,
            "_view_module": "@jupyter-widgets/controls",
            "_view_module_version": "1.5.0",
            "_view_name": "HTMLView",
            "description": "",
            "description_tooltip": null,
            "layout": "IPY_MODEL_675cfef570df45dca78a9a03f8a2ad5f",
            "placeholder": "​",
            "style": "IPY_MODEL_0c15b90ea6bf4af0a996e894b4ad569a",
            "value": "Downloading data: "
          }
        },
        "379948bcc1e043babe1855a9cfa48dc8": {
          "model_module": "@jupyter-widgets/controls",
          "model_name": "FloatProgressModel",
          "model_module_version": "1.5.0",
          "state": {
            "_dom_classes": [],
            "_model_module": "@jupyter-widgets/controls",
            "_model_module_version": "1.5.0",
            "_model_name": "FloatProgressModel",
            "_view_count": null,
            "_view_module": "@jupyter-widgets/controls",
            "_view_module_version": "1.5.0",
            "_view_name": "ProgressView",
            "bar_style": "success",
            "description": "",
            "description_tooltip": null,
            "layout": "IPY_MODEL_280a486a307949c5b63eab3b28cd11f7",
            "max": 82392,
            "min": 0,
            "orientation": "horizontal",
            "style": "IPY_MODEL_ee08a716d5ad4139963a95f6cc83a2a7",
            "value": 82392
          }
        },
        "e3a59ee7014b4cd5bf15dfb57e970626": {
          "model_module": "@jupyter-widgets/controls",
          "model_name": "HTMLModel",
          "model_module_version": "1.5.0",
          "state": {
            "_dom_classes": [],
            "_model_module": "@jupyter-widgets/controls",
            "_model_module_version": "1.5.0",
            "_model_name": "HTMLModel",
            "_view_count": null,
            "_view_module": "@jupyter-widgets/controls",
            "_view_module_version": "1.5.0",
            "_view_name": "HTMLView",
            "description": "",
            "description_tooltip": null,
            "layout": "IPY_MODEL_da8a7d05a988402691c11ca8ca182801",
            "placeholder": "​",
            "style": "IPY_MODEL_a49e954d75c24e28969a6844a648bb02",
            "value": " 235k/? [00:00&lt;00:00, 2.87MB/s]"
          }
        },
        "1a09ba539d7b4ede90ef453714a9fe6f": {
          "model_module": "@jupyter-widgets/base",
          "model_name": "LayoutModel",
          "model_module_version": "1.2.0",
          "state": {
            "_model_module": "@jupyter-widgets/base",
            "_model_module_version": "1.2.0",
            "_model_name": "LayoutModel",
            "_view_count": null,
            "_view_module": "@jupyter-widgets/base",
            "_view_module_version": "1.2.0",
            "_view_name": "LayoutView",
            "align_content": null,
            "align_items": null,
            "align_self": null,
            "border": null,
            "bottom": null,
            "display": null,
            "flex": null,
            "flex_flow": null,
            "grid_area": null,
            "grid_auto_columns": null,
            "grid_auto_flow": null,
            "grid_auto_rows": null,
            "grid_column": null,
            "grid_gap": null,
            "grid_row": null,
            "grid_template_areas": null,
            "grid_template_columns": null,
            "grid_template_rows": null,
            "height": null,
            "justify_content": null,
            "justify_items": null,
            "left": null,
            "margin": null,
            "max_height": null,
            "max_width": null,
            "min_height": null,
            "min_width": null,
            "object_fit": null,
            "object_position": null,
            "order": null,
            "overflow": null,
            "overflow_x": null,
            "overflow_y": null,
            "padding": null,
            "right": null,
            "top": null,
            "visibility": null,
            "width": null
          }
        },
        "675cfef570df45dca78a9a03f8a2ad5f": {
          "model_module": "@jupyter-widgets/base",
          "model_name": "LayoutModel",
          "model_module_version": "1.2.0",
          "state": {
            "_model_module": "@jupyter-widgets/base",
            "_model_module_version": "1.2.0",
            "_model_name": "LayoutModel",
            "_view_count": null,
            "_view_module": "@jupyter-widgets/base",
            "_view_module_version": "1.2.0",
            "_view_name": "LayoutView",
            "align_content": null,
            "align_items": null,
            "align_self": null,
            "border": null,
            "bottom": null,
            "display": null,
            "flex": null,
            "flex_flow": null,
            "grid_area": null,
            "grid_auto_columns": null,
            "grid_auto_flow": null,
            "grid_auto_rows": null,
            "grid_column": null,
            "grid_gap": null,
            "grid_row": null,
            "grid_template_areas": null,
            "grid_template_columns": null,
            "grid_template_rows": null,
            "height": null,
            "justify_content": null,
            "justify_items": null,
            "left": null,
            "margin": null,
            "max_height": null,
            "max_width": null,
            "min_height": null,
            "min_width": null,
            "object_fit": null,
            "object_position": null,
            "order": null,
            "overflow": null,
            "overflow_x": null,
            "overflow_y": null,
            "padding": null,
            "right": null,
            "top": null,
            "visibility": null,
            "width": null
          }
        },
        "0c15b90ea6bf4af0a996e894b4ad569a": {
          "model_module": "@jupyter-widgets/controls",
          "model_name": "DescriptionStyleModel",
          "model_module_version": "1.5.0",
          "state": {
            "_model_module": "@jupyter-widgets/controls",
            "_model_module_version": "1.5.0",
            "_model_name": "DescriptionStyleModel",
            "_view_count": null,
            "_view_module": "@jupyter-widgets/base",
            "_view_module_version": "1.2.0",
            "_view_name": "StyleView",
            "description_width": ""
          }
        },
        "280a486a307949c5b63eab3b28cd11f7": {
          "model_module": "@jupyter-widgets/base",
          "model_name": "LayoutModel",
          "model_module_version": "1.2.0",
          "state": {
            "_model_module": "@jupyter-widgets/base",
            "_model_module_version": "1.2.0",
            "_model_name": "LayoutModel",
            "_view_count": null,
            "_view_module": "@jupyter-widgets/base",
            "_view_module_version": "1.2.0",
            "_view_name": "LayoutView",
            "align_content": null,
            "align_items": null,
            "align_self": null,
            "border": null,
            "bottom": null,
            "display": null,
            "flex": null,
            "flex_flow": null,
            "grid_area": null,
            "grid_auto_columns": null,
            "grid_auto_flow": null,
            "grid_auto_rows": null,
            "grid_column": null,
            "grid_gap": null,
            "grid_row": null,
            "grid_template_areas": null,
            "grid_template_columns": null,
            "grid_template_rows": null,
            "height": null,
            "justify_content": null,
            "justify_items": null,
            "left": null,
            "margin": null,
            "max_height": null,
            "max_width": null,
            "min_height": null,
            "min_width": null,
            "object_fit": null,
            "object_position": null,
            "order": null,
            "overflow": null,
            "overflow_x": null,
            "overflow_y": null,
            "padding": null,
            "right": null,
            "top": null,
            "visibility": null,
            "width": null
          }
        },
        "ee08a716d5ad4139963a95f6cc83a2a7": {
          "model_module": "@jupyter-widgets/controls",
          "model_name": "ProgressStyleModel",
          "model_module_version": "1.5.0",
          "state": {
            "_model_module": "@jupyter-widgets/controls",
            "_model_module_version": "1.5.0",
            "_model_name": "ProgressStyleModel",
            "_view_count": null,
            "_view_module": "@jupyter-widgets/base",
            "_view_module_version": "1.2.0",
            "_view_name": "StyleView",
            "bar_color": null,
            "description_width": ""
          }
        },
        "da8a7d05a988402691c11ca8ca182801": {
          "model_module": "@jupyter-widgets/base",
          "model_name": "LayoutModel",
          "model_module_version": "1.2.0",
          "state": {
            "_model_module": "@jupyter-widgets/base",
            "_model_module_version": "1.2.0",
            "_model_name": "LayoutModel",
            "_view_count": null,
            "_view_module": "@jupyter-widgets/base",
            "_view_module_version": "1.2.0",
            "_view_name": "LayoutView",
            "align_content": null,
            "align_items": null,
            "align_self": null,
            "border": null,
            "bottom": null,
            "display": null,
            "flex": null,
            "flex_flow": null,
            "grid_area": null,
            "grid_auto_columns": null,
            "grid_auto_flow": null,
            "grid_auto_rows": null,
            "grid_column": null,
            "grid_gap": null,
            "grid_row": null,
            "grid_template_areas": null,
            "grid_template_columns": null,
            "grid_template_rows": null,
            "height": null,
            "justify_content": null,
            "justify_items": null,
            "left": null,
            "margin": null,
            "max_height": null,
            "max_width": null,
            "min_height": null,
            "min_width": null,
            "object_fit": null,
            "object_position": null,
            "order": null,
            "overflow": null,
            "overflow_x": null,
            "overflow_y": null,
            "padding": null,
            "right": null,
            "top": null,
            "visibility": null,
            "width": null
          }
        },
        "a49e954d75c24e28969a6844a648bb02": {
          "model_module": "@jupyter-widgets/controls",
          "model_name": "DescriptionStyleModel",
          "model_module_version": "1.5.0",
          "state": {
            "_model_module": "@jupyter-widgets/controls",
            "_model_module_version": "1.5.0",
            "_model_name": "DescriptionStyleModel",
            "_view_count": null,
            "_view_module": "@jupyter-widgets/base",
            "_view_module_version": "1.2.0",
            "_view_name": "StyleView",
            "description_width": ""
          }
        },
        "be3aa79eac7f483987ed7f020f64e1e5": {
          "model_module": "@jupyter-widgets/controls",
          "model_name": "HBoxModel",
          "model_module_version": "1.5.0",
          "state": {
            "_dom_classes": [],
            "_model_module": "@jupyter-widgets/controls",
            "_model_module_version": "1.5.0",
            "_model_name": "HBoxModel",
            "_view_count": null,
            "_view_module": "@jupyter-widgets/controls",
            "_view_module_version": "1.5.0",
            "_view_name": "HBoxView",
            "box_style": "",
            "children": [
              "IPY_MODEL_5a11af605b974b85900e74863e511a08",
              "IPY_MODEL_d16b22aa912a450b9232fc938c700b59",
              "IPY_MODEL_7c2879e5b54141fc9f05d48f0fb407e1"
            ],
            "layout": "IPY_MODEL_215679d3bc154b5681ab9f3f18164cc5"
          }
        },
        "5a11af605b974b85900e74863e511a08": {
          "model_module": "@jupyter-widgets/controls",
          "model_name": "HTMLModel",
          "model_module_version": "1.5.0",
          "state": {
            "_dom_classes": [],
            "_model_module": "@jupyter-widgets/controls",
            "_model_module_version": "1.5.0",
            "_model_name": "HTMLModel",
            "_view_count": null,
            "_view_module": "@jupyter-widgets/controls",
            "_view_module_version": "1.5.0",
            "_view_name": "HTMLView",
            "description": "",
            "description_tooltip": null,
            "layout": "IPY_MODEL_6783ecee55904321936ef6e650c238ba",
            "placeholder": "​",
            "style": "IPY_MODEL_e5064bb2eb134d1da8d5eb59e5c6b7d4",
            "value": "Downloading data: "
          }
        },
        "d16b22aa912a450b9232fc938c700b59": {
          "model_module": "@jupyter-widgets/controls",
          "model_name": "FloatProgressModel",
          "model_module_version": "1.5.0",
          "state": {
            "_dom_classes": [],
            "_model_module": "@jupyter-widgets/controls",
            "_model_module_version": "1.5.0",
            "_model_name": "FloatProgressModel",
            "_view_count": null,
            "_view_module": "@jupyter-widgets/controls",
            "_view_module_version": "1.5.0",
            "_view_name": "ProgressView",
            "bar_style": "success",
            "description": "",
            "description_tooltip": null,
            "layout": "IPY_MODEL_7025cb7baf954af6bdb3a0435814b901",
            "max": 148287,
            "min": 0,
            "orientation": "horizontal",
            "style": "IPY_MODEL_1b034541840a406799c46072b72a778b",
            "value": 148287
          }
        },
        "7c2879e5b54141fc9f05d48f0fb407e1": {
          "model_module": "@jupyter-widgets/controls",
          "model_name": "HTMLModel",
          "model_module_version": "1.5.0",
          "state": {
            "_dom_classes": [],
            "_model_module": "@jupyter-widgets/controls",
            "_model_module_version": "1.5.0",
            "_model_name": "HTMLModel",
            "_view_count": null,
            "_view_module": "@jupyter-widgets/controls",
            "_view_module_version": "1.5.0",
            "_view_name": "HTMLView",
            "description": "",
            "description_tooltip": null,
            "layout": "IPY_MODEL_cd0138e89d5b4cd4ae3f0efb3cb25ca3",
            "placeholder": "​",
            "style": "IPY_MODEL_53b070f959274e0a814c86c4a190d83e",
            "value": " 439k/? [00:00&lt;00:00, 4.71MB/s]"
          }
        },
        "215679d3bc154b5681ab9f3f18164cc5": {
          "model_module": "@jupyter-widgets/base",
          "model_name": "LayoutModel",
          "model_module_version": "1.2.0",
          "state": {
            "_model_module": "@jupyter-widgets/base",
            "_model_module_version": "1.2.0",
            "_model_name": "LayoutModel",
            "_view_count": null,
            "_view_module": "@jupyter-widgets/base",
            "_view_module_version": "1.2.0",
            "_view_name": "LayoutView",
            "align_content": null,
            "align_items": null,
            "align_self": null,
            "border": null,
            "bottom": null,
            "display": null,
            "flex": null,
            "flex_flow": null,
            "grid_area": null,
            "grid_auto_columns": null,
            "grid_auto_flow": null,
            "grid_auto_rows": null,
            "grid_column": null,
            "grid_gap": null,
            "grid_row": null,
            "grid_template_areas": null,
            "grid_template_columns": null,
            "grid_template_rows": null,
            "height": null,
            "justify_content": null,
            "justify_items": null,
            "left": null,
            "margin": null,
            "max_height": null,
            "max_width": null,
            "min_height": null,
            "min_width": null,
            "object_fit": null,
            "object_position": null,
            "order": null,
            "overflow": null,
            "overflow_x": null,
            "overflow_y": null,
            "padding": null,
            "right": null,
            "top": null,
            "visibility": null,
            "width": null
          }
        },
        "6783ecee55904321936ef6e650c238ba": {
          "model_module": "@jupyter-widgets/base",
          "model_name": "LayoutModel",
          "model_module_version": "1.2.0",
          "state": {
            "_model_module": "@jupyter-widgets/base",
            "_model_module_version": "1.2.0",
            "_model_name": "LayoutModel",
            "_view_count": null,
            "_view_module": "@jupyter-widgets/base",
            "_view_module_version": "1.2.0",
            "_view_name": "LayoutView",
            "align_content": null,
            "align_items": null,
            "align_self": null,
            "border": null,
            "bottom": null,
            "display": null,
            "flex": null,
            "flex_flow": null,
            "grid_area": null,
            "grid_auto_columns": null,
            "grid_auto_flow": null,
            "grid_auto_rows": null,
            "grid_column": null,
            "grid_gap": null,
            "grid_row": null,
            "grid_template_areas": null,
            "grid_template_columns": null,
            "grid_template_rows": null,
            "height": null,
            "justify_content": null,
            "justify_items": null,
            "left": null,
            "margin": null,
            "max_height": null,
            "max_width": null,
            "min_height": null,
            "min_width": null,
            "object_fit": null,
            "object_position": null,
            "order": null,
            "overflow": null,
            "overflow_x": null,
            "overflow_y": null,
            "padding": null,
            "right": null,
            "top": null,
            "visibility": null,
            "width": null
          }
        },
        "e5064bb2eb134d1da8d5eb59e5c6b7d4": {
          "model_module": "@jupyter-widgets/controls",
          "model_name": "DescriptionStyleModel",
          "model_module_version": "1.5.0",
          "state": {
            "_model_module": "@jupyter-widgets/controls",
            "_model_module_version": "1.5.0",
            "_model_name": "DescriptionStyleModel",
            "_view_count": null,
            "_view_module": "@jupyter-widgets/base",
            "_view_module_version": "1.2.0",
            "_view_name": "StyleView",
            "description_width": ""
          }
        },
        "7025cb7baf954af6bdb3a0435814b901": {
          "model_module": "@jupyter-widgets/base",
          "model_name": "LayoutModel",
          "model_module_version": "1.2.0",
          "state": {
            "_model_module": "@jupyter-widgets/base",
            "_model_module_version": "1.2.0",
            "_model_name": "LayoutModel",
            "_view_count": null,
            "_view_module": "@jupyter-widgets/base",
            "_view_module_version": "1.2.0",
            "_view_name": "LayoutView",
            "align_content": null,
            "align_items": null,
            "align_self": null,
            "border": null,
            "bottom": null,
            "display": null,
            "flex": null,
            "flex_flow": null,
            "grid_area": null,
            "grid_auto_columns": null,
            "grid_auto_flow": null,
            "grid_auto_rows": null,
            "grid_column": null,
            "grid_gap": null,
            "grid_row": null,
            "grid_template_areas": null,
            "grid_template_columns": null,
            "grid_template_rows": null,
            "height": null,
            "justify_content": null,
            "justify_items": null,
            "left": null,
            "margin": null,
            "max_height": null,
            "max_width": null,
            "min_height": null,
            "min_width": null,
            "object_fit": null,
            "object_position": null,
            "order": null,
            "overflow": null,
            "overflow_x": null,
            "overflow_y": null,
            "padding": null,
            "right": null,
            "top": null,
            "visibility": null,
            "width": null
          }
        },
        "1b034541840a406799c46072b72a778b": {
          "model_module": "@jupyter-widgets/controls",
          "model_name": "ProgressStyleModel",
          "model_module_version": "1.5.0",
          "state": {
            "_model_module": "@jupyter-widgets/controls",
            "_model_module_version": "1.5.0",
            "_model_name": "ProgressStyleModel",
            "_view_count": null,
            "_view_module": "@jupyter-widgets/base",
            "_view_module_version": "1.2.0",
            "_view_name": "StyleView",
            "bar_color": null,
            "description_width": ""
          }
        },
        "cd0138e89d5b4cd4ae3f0efb3cb25ca3": {
          "model_module": "@jupyter-widgets/base",
          "model_name": "LayoutModel",
          "model_module_version": "1.2.0",
          "state": {
            "_model_module": "@jupyter-widgets/base",
            "_model_module_version": "1.2.0",
            "_model_name": "LayoutModel",
            "_view_count": null,
            "_view_module": "@jupyter-widgets/base",
            "_view_module_version": "1.2.0",
            "_view_name": "LayoutView",
            "align_content": null,
            "align_items": null,
            "align_self": null,
            "border": null,
            "bottom": null,
            "display": null,
            "flex": null,
            "flex_flow": null,
            "grid_area": null,
            "grid_auto_columns": null,
            "grid_auto_flow": null,
            "grid_auto_rows": null,
            "grid_column": null,
            "grid_gap": null,
            "grid_row": null,
            "grid_template_areas": null,
            "grid_template_columns": null,
            "grid_template_rows": null,
            "height": null,
            "justify_content": null,
            "justify_items": null,
            "left": null,
            "margin": null,
            "max_height": null,
            "max_width": null,
            "min_height": null,
            "min_width": null,
            "object_fit": null,
            "object_position": null,
            "order": null,
            "overflow": null,
            "overflow_x": null,
            "overflow_y": null,
            "padding": null,
            "right": null,
            "top": null,
            "visibility": null,
            "width": null
          }
        },
        "53b070f959274e0a814c86c4a190d83e": {
          "model_module": "@jupyter-widgets/controls",
          "model_name": "DescriptionStyleModel",
          "model_module_version": "1.5.0",
          "state": {
            "_model_module": "@jupyter-widgets/controls",
            "_model_module_version": "1.5.0",
            "_model_name": "DescriptionStyleModel",
            "_view_count": null,
            "_view_module": "@jupyter-widgets/base",
            "_view_module_version": "1.2.0",
            "_view_name": "StyleView",
            "description_width": ""
          }
        },
        "40393e003ea345debfa5badb4f5e1f04": {
          "model_module": "@jupyter-widgets/controls",
          "model_name": "HBoxModel",
          "model_module_version": "1.5.0",
          "state": {
            "_dom_classes": [],
            "_model_module": "@jupyter-widgets/controls",
            "_model_module_version": "1.5.0",
            "_model_name": "HBoxModel",
            "_view_count": null,
            "_view_module": "@jupyter-widgets/controls",
            "_view_module_version": "1.5.0",
            "_view_name": "HBoxView",
            "box_style": "",
            "children": [
              "IPY_MODEL_6601d700706347bebbd4da100ce495b3",
              "IPY_MODEL_b766a96b34cb4fd1a536947dd28aeda2",
              "IPY_MODEL_52b66996031143a89a746e476fc95f89"
            ],
            "layout": "IPY_MODEL_5a9ce603ea144d9e8af3fad49f9da2c4"
          }
        },
        "6601d700706347bebbd4da100ce495b3": {
          "model_module": "@jupyter-widgets/controls",
          "model_name": "HTMLModel",
          "model_module_version": "1.5.0",
          "state": {
            "_dom_classes": [],
            "_model_module": "@jupyter-widgets/controls",
            "_model_module_version": "1.5.0",
            "_model_name": "HTMLModel",
            "_view_count": null,
            "_view_module": "@jupyter-widgets/controls",
            "_view_module_version": "1.5.0",
            "_view_name": "HTMLView",
            "description": "",
            "description_tooltip": null,
            "layout": "IPY_MODEL_f824cbd0eb694acf923d0ccbe9054060",
            "placeholder": "​",
            "style": "IPY_MODEL_2980325eebc2419b8f373284a94a95ba",
            "value": "Extracting data files: 100%"
          }
        },
        "b766a96b34cb4fd1a536947dd28aeda2": {
          "model_module": "@jupyter-widgets/controls",
          "model_name": "FloatProgressModel",
          "model_module_version": "1.5.0",
          "state": {
            "_dom_classes": [],
            "_model_module": "@jupyter-widgets/controls",
            "_model_module_version": "1.5.0",
            "_model_name": "FloatProgressModel",
            "_view_count": null,
            "_view_module": "@jupyter-widgets/controls",
            "_view_module_version": "1.5.0",
            "_view_name": "ProgressView",
            "bar_style": "success",
            "description": "",
            "description_tooltip": null,
            "layout": "IPY_MODEL_debd95f45aef45388c2a2bd4cee30062",
            "max": 2,
            "min": 0,
            "orientation": "horizontal",
            "style": "IPY_MODEL_ec1dc68aca274102a55b74edaf6e5b32",
            "value": 2
          }
        },
        "52b66996031143a89a746e476fc95f89": {
          "model_module": "@jupyter-widgets/controls",
          "model_name": "HTMLModel",
          "model_module_version": "1.5.0",
          "state": {
            "_dom_classes": [],
            "_model_module": "@jupyter-widgets/controls",
            "_model_module_version": "1.5.0",
            "_model_name": "HTMLModel",
            "_view_count": null,
            "_view_module": "@jupyter-widgets/controls",
            "_view_module_version": "1.5.0",
            "_view_name": "HTMLView",
            "description": "",
            "description_tooltip": null,
            "layout": "IPY_MODEL_77901a1c9c924bcaab7404077a67738e",
            "placeholder": "​",
            "style": "IPY_MODEL_52d8fdf8f206475fbeb1aad270916c52",
            "value": " 2/2 [00:00&lt;00:00, 109.33it/s]"
          }
        },
        "5a9ce603ea144d9e8af3fad49f9da2c4": {
          "model_module": "@jupyter-widgets/base",
          "model_name": "LayoutModel",
          "model_module_version": "1.2.0",
          "state": {
            "_model_module": "@jupyter-widgets/base",
            "_model_module_version": "1.2.0",
            "_model_name": "LayoutModel",
            "_view_count": null,
            "_view_module": "@jupyter-widgets/base",
            "_view_module_version": "1.2.0",
            "_view_name": "LayoutView",
            "align_content": null,
            "align_items": null,
            "align_self": null,
            "border": null,
            "bottom": null,
            "display": null,
            "flex": null,
            "flex_flow": null,
            "grid_area": null,
            "grid_auto_columns": null,
            "grid_auto_flow": null,
            "grid_auto_rows": null,
            "grid_column": null,
            "grid_gap": null,
            "grid_row": null,
            "grid_template_areas": null,
            "grid_template_columns": null,
            "grid_template_rows": null,
            "height": null,
            "justify_content": null,
            "justify_items": null,
            "left": null,
            "margin": null,
            "max_height": null,
            "max_width": null,
            "min_height": null,
            "min_width": null,
            "object_fit": null,
            "object_position": null,
            "order": null,
            "overflow": null,
            "overflow_x": null,
            "overflow_y": null,
            "padding": null,
            "right": null,
            "top": null,
            "visibility": null,
            "width": null
          }
        },
        "f824cbd0eb694acf923d0ccbe9054060": {
          "model_module": "@jupyter-widgets/base",
          "model_name": "LayoutModel",
          "model_module_version": "1.2.0",
          "state": {
            "_model_module": "@jupyter-widgets/base",
            "_model_module_version": "1.2.0",
            "_model_name": "LayoutModel",
            "_view_count": null,
            "_view_module": "@jupyter-widgets/base",
            "_view_module_version": "1.2.0",
            "_view_name": "LayoutView",
            "align_content": null,
            "align_items": null,
            "align_self": null,
            "border": null,
            "bottom": null,
            "display": null,
            "flex": null,
            "flex_flow": null,
            "grid_area": null,
            "grid_auto_columns": null,
            "grid_auto_flow": null,
            "grid_auto_rows": null,
            "grid_column": null,
            "grid_gap": null,
            "grid_row": null,
            "grid_template_areas": null,
            "grid_template_columns": null,
            "grid_template_rows": null,
            "height": null,
            "justify_content": null,
            "justify_items": null,
            "left": null,
            "margin": null,
            "max_height": null,
            "max_width": null,
            "min_height": null,
            "min_width": null,
            "object_fit": null,
            "object_position": null,
            "order": null,
            "overflow": null,
            "overflow_x": null,
            "overflow_y": null,
            "padding": null,
            "right": null,
            "top": null,
            "visibility": null,
            "width": null
          }
        },
        "2980325eebc2419b8f373284a94a95ba": {
          "model_module": "@jupyter-widgets/controls",
          "model_name": "DescriptionStyleModel",
          "model_module_version": "1.5.0",
          "state": {
            "_model_module": "@jupyter-widgets/controls",
            "_model_module_version": "1.5.0",
            "_model_name": "DescriptionStyleModel",
            "_view_count": null,
            "_view_module": "@jupyter-widgets/base",
            "_view_module_version": "1.2.0",
            "_view_name": "StyleView",
            "description_width": ""
          }
        },
        "debd95f45aef45388c2a2bd4cee30062": {
          "model_module": "@jupyter-widgets/base",
          "model_name": "LayoutModel",
          "model_module_version": "1.2.0",
          "state": {
            "_model_module": "@jupyter-widgets/base",
            "_model_module_version": "1.2.0",
            "_model_name": "LayoutModel",
            "_view_count": null,
            "_view_module": "@jupyter-widgets/base",
            "_view_module_version": "1.2.0",
            "_view_name": "LayoutView",
            "align_content": null,
            "align_items": null,
            "align_self": null,
            "border": null,
            "bottom": null,
            "display": null,
            "flex": null,
            "flex_flow": null,
            "grid_area": null,
            "grid_auto_columns": null,
            "grid_auto_flow": null,
            "grid_auto_rows": null,
            "grid_column": null,
            "grid_gap": null,
            "grid_row": null,
            "grid_template_areas": null,
            "grid_template_columns": null,
            "grid_template_rows": null,
            "height": null,
            "justify_content": null,
            "justify_items": null,
            "left": null,
            "margin": null,
            "max_height": null,
            "max_width": null,
            "min_height": null,
            "min_width": null,
            "object_fit": null,
            "object_position": null,
            "order": null,
            "overflow": null,
            "overflow_x": null,
            "overflow_y": null,
            "padding": null,
            "right": null,
            "top": null,
            "visibility": null,
            "width": null
          }
        },
        "ec1dc68aca274102a55b74edaf6e5b32": {
          "model_module": "@jupyter-widgets/controls",
          "model_name": "ProgressStyleModel",
          "model_module_version": "1.5.0",
          "state": {
            "_model_module": "@jupyter-widgets/controls",
            "_model_module_version": "1.5.0",
            "_model_name": "ProgressStyleModel",
            "_view_count": null,
            "_view_module": "@jupyter-widgets/base",
            "_view_module_version": "1.2.0",
            "_view_name": "StyleView",
            "bar_color": null,
            "description_width": ""
          }
        },
        "77901a1c9c924bcaab7404077a67738e": {
          "model_module": "@jupyter-widgets/base",
          "model_name": "LayoutModel",
          "model_module_version": "1.2.0",
          "state": {
            "_model_module": "@jupyter-widgets/base",
            "_model_module_version": "1.2.0",
            "_model_name": "LayoutModel",
            "_view_count": null,
            "_view_module": "@jupyter-widgets/base",
            "_view_module_version": "1.2.0",
            "_view_name": "LayoutView",
            "align_content": null,
            "align_items": null,
            "align_self": null,
            "border": null,
            "bottom": null,
            "display": null,
            "flex": null,
            "flex_flow": null,
            "grid_area": null,
            "grid_auto_columns": null,
            "grid_auto_flow": null,
            "grid_auto_rows": null,
            "grid_column": null,
            "grid_gap": null,
            "grid_row": null,
            "grid_template_areas": null,
            "grid_template_columns": null,
            "grid_template_rows": null,
            "height": null,
            "justify_content": null,
            "justify_items": null,
            "left": null,
            "margin": null,
            "max_height": null,
            "max_width": null,
            "min_height": null,
            "min_width": null,
            "object_fit": null,
            "object_position": null,
            "order": null,
            "overflow": null,
            "overflow_x": null,
            "overflow_y": null,
            "padding": null,
            "right": null,
            "top": null,
            "visibility": null,
            "width": null
          }
        },
        "52d8fdf8f206475fbeb1aad270916c52": {
          "model_module": "@jupyter-widgets/controls",
          "model_name": "DescriptionStyleModel",
          "model_module_version": "1.5.0",
          "state": {
            "_model_module": "@jupyter-widgets/controls",
            "_model_module_version": "1.5.0",
            "_model_name": "DescriptionStyleModel",
            "_view_count": null,
            "_view_module": "@jupyter-widgets/base",
            "_view_module_version": "1.2.0",
            "_view_name": "StyleView",
            "description_width": ""
          }
        },
        "c9c397c9dd85418ab47f28021d76e219": {
          "model_module": "@jupyter-widgets/controls",
          "model_name": "HBoxModel",
          "model_module_version": "1.5.0",
          "state": {
            "_dom_classes": [],
            "_model_module": "@jupyter-widgets/controls",
            "_model_module_version": "1.5.0",
            "_model_name": "HBoxModel",
            "_view_count": null,
            "_view_module": "@jupyter-widgets/controls",
            "_view_module_version": "1.5.0",
            "_view_name": "HBoxView",
            "box_style": "",
            "children": [
              "IPY_MODEL_e96e48bca7ab414e85a0e4e72c8018d8",
              "IPY_MODEL_ed6db7b1c1ce4216a88cab3f9a01695b",
              "IPY_MODEL_f62696d6121640699457c0d043e39c59"
            ],
            "layout": "IPY_MODEL_6dd02f527ad8487fabeadb664cfcbf39"
          }
        },
        "e96e48bca7ab414e85a0e4e72c8018d8": {
          "model_module": "@jupyter-widgets/controls",
          "model_name": "HTMLModel",
          "model_module_version": "1.5.0",
          "state": {
            "_dom_classes": [],
            "_model_module": "@jupyter-widgets/controls",
            "_model_module_version": "1.5.0",
            "_model_name": "HTMLModel",
            "_view_count": null,
            "_view_module": "@jupyter-widgets/controls",
            "_view_module_version": "1.5.0",
            "_view_name": "HTMLView",
            "description": "",
            "description_tooltip": null,
            "layout": "IPY_MODEL_ce987dfeb32b4664ac6bed191e91aa25",
            "placeholder": "​",
            "style": "IPY_MODEL_1da5303b0b5e44c6bf2ac3b5c1545eec",
            "value": "Generating validation split: "
          }
        },
        "ed6db7b1c1ce4216a88cab3f9a01695b": {
          "model_module": "@jupyter-widgets/controls",
          "model_name": "FloatProgressModel",
          "model_module_version": "1.5.0",
          "state": {
            "_dom_classes": [],
            "_model_module": "@jupyter-widgets/controls",
            "_model_module_version": "1.5.0",
            "_model_name": "FloatProgressModel",
            "_view_count": null,
            "_view_module": "@jupyter-widgets/controls",
            "_view_module_version": "1.5.0",
            "_view_name": "ProgressView",
            "bar_style": "success",
            "description": "",
            "description_tooltip": null,
            "layout": "IPY_MODEL_63dcd0f0a4d8420e899a591e62b04233",
            "max": 1,
            "min": 0,
            "orientation": "horizontal",
            "style": "IPY_MODEL_e2830130c99643e4b462d220278bdc7a",
            "value": 1
          }
        },
        "f62696d6121640699457c0d043e39c59": {
          "model_module": "@jupyter-widgets/controls",
          "model_name": "HTMLModel",
          "model_module_version": "1.5.0",
          "state": {
            "_dom_classes": [],
            "_model_module": "@jupyter-widgets/controls",
            "_model_module_version": "1.5.0",
            "_model_name": "HTMLModel",
            "_view_count": null,
            "_view_module": "@jupyter-widgets/controls",
            "_view_module_version": "1.5.0",
            "_view_name": "HTMLView",
            "description": "",
            "description_tooltip": null,
            "layout": "IPY_MODEL_ffee5439b06344c2acc6e27b00826f19",
            "placeholder": "​",
            "style": "IPY_MODEL_207682d455bd4244bc05f5540cf76bb4",
            "value": " 483/0 [00:00&lt;00:00, 7901.10 examples/s]"
          }
        },
        "6dd02f527ad8487fabeadb664cfcbf39": {
          "model_module": "@jupyter-widgets/base",
          "model_name": "LayoutModel",
          "model_module_version": "1.2.0",
          "state": {
            "_model_module": "@jupyter-widgets/base",
            "_model_module_version": "1.2.0",
            "_model_name": "LayoutModel",
            "_view_count": null,
            "_view_module": "@jupyter-widgets/base",
            "_view_module_version": "1.2.0",
            "_view_name": "LayoutView",
            "align_content": null,
            "align_items": null,
            "align_self": null,
            "border": null,
            "bottom": null,
            "display": null,
            "flex": null,
            "flex_flow": null,
            "grid_area": null,
            "grid_auto_columns": null,
            "grid_auto_flow": null,
            "grid_auto_rows": null,
            "grid_column": null,
            "grid_gap": null,
            "grid_row": null,
            "grid_template_areas": null,
            "grid_template_columns": null,
            "grid_template_rows": null,
            "height": null,
            "justify_content": null,
            "justify_items": null,
            "left": null,
            "margin": null,
            "max_height": null,
            "max_width": null,
            "min_height": null,
            "min_width": null,
            "object_fit": null,
            "object_position": null,
            "order": null,
            "overflow": null,
            "overflow_x": null,
            "overflow_y": null,
            "padding": null,
            "right": null,
            "top": null,
            "visibility": null,
            "width": null
          }
        },
        "ce987dfeb32b4664ac6bed191e91aa25": {
          "model_module": "@jupyter-widgets/base",
          "model_name": "LayoutModel",
          "model_module_version": "1.2.0",
          "state": {
            "_model_module": "@jupyter-widgets/base",
            "_model_module_version": "1.2.0",
            "_model_name": "LayoutModel",
            "_view_count": null,
            "_view_module": "@jupyter-widgets/base",
            "_view_module_version": "1.2.0",
            "_view_name": "LayoutView",
            "align_content": null,
            "align_items": null,
            "align_self": null,
            "border": null,
            "bottom": null,
            "display": null,
            "flex": null,
            "flex_flow": null,
            "grid_area": null,
            "grid_auto_columns": null,
            "grid_auto_flow": null,
            "grid_auto_rows": null,
            "grid_column": null,
            "grid_gap": null,
            "grid_row": null,
            "grid_template_areas": null,
            "grid_template_columns": null,
            "grid_template_rows": null,
            "height": null,
            "justify_content": null,
            "justify_items": null,
            "left": null,
            "margin": null,
            "max_height": null,
            "max_width": null,
            "min_height": null,
            "min_width": null,
            "object_fit": null,
            "object_position": null,
            "order": null,
            "overflow": null,
            "overflow_x": null,
            "overflow_y": null,
            "padding": null,
            "right": null,
            "top": null,
            "visibility": null,
            "width": null
          }
        },
        "1da5303b0b5e44c6bf2ac3b5c1545eec": {
          "model_module": "@jupyter-widgets/controls",
          "model_name": "DescriptionStyleModel",
          "model_module_version": "1.5.0",
          "state": {
            "_model_module": "@jupyter-widgets/controls",
            "_model_module_version": "1.5.0",
            "_model_name": "DescriptionStyleModel",
            "_view_count": null,
            "_view_module": "@jupyter-widgets/base",
            "_view_module_version": "1.2.0",
            "_view_name": "StyleView",
            "description_width": ""
          }
        },
        "63dcd0f0a4d8420e899a591e62b04233": {
          "model_module": "@jupyter-widgets/base",
          "model_name": "LayoutModel",
          "model_module_version": "1.2.0",
          "state": {
            "_model_module": "@jupyter-widgets/base",
            "_model_module_version": "1.2.0",
            "_model_name": "LayoutModel",
            "_view_count": null,
            "_view_module": "@jupyter-widgets/base",
            "_view_module_version": "1.2.0",
            "_view_name": "LayoutView",
            "align_content": null,
            "align_items": null,
            "align_self": null,
            "border": null,
            "bottom": null,
            "display": null,
            "flex": null,
            "flex_flow": null,
            "grid_area": null,
            "grid_auto_columns": null,
            "grid_auto_flow": null,
            "grid_auto_rows": null,
            "grid_column": null,
            "grid_gap": null,
            "grid_row": null,
            "grid_template_areas": null,
            "grid_template_columns": null,
            "grid_template_rows": null,
            "height": null,
            "justify_content": null,
            "justify_items": null,
            "left": null,
            "margin": null,
            "max_height": null,
            "max_width": null,
            "min_height": null,
            "min_width": null,
            "object_fit": null,
            "object_position": null,
            "order": null,
            "overflow": null,
            "overflow_x": null,
            "overflow_y": null,
            "padding": null,
            "right": null,
            "top": null,
            "visibility": null,
            "width": "20px"
          }
        },
        "e2830130c99643e4b462d220278bdc7a": {
          "model_module": "@jupyter-widgets/controls",
          "model_name": "ProgressStyleModel",
          "model_module_version": "1.5.0",
          "state": {
            "_model_module": "@jupyter-widgets/controls",
            "_model_module_version": "1.5.0",
            "_model_name": "ProgressStyleModel",
            "_view_count": null,
            "_view_module": "@jupyter-widgets/base",
            "_view_module_version": "1.2.0",
            "_view_name": "StyleView",
            "bar_color": null,
            "description_width": ""
          }
        },
        "ffee5439b06344c2acc6e27b00826f19": {
          "model_module": "@jupyter-widgets/base",
          "model_name": "LayoutModel",
          "model_module_version": "1.2.0",
          "state": {
            "_model_module": "@jupyter-widgets/base",
            "_model_module_version": "1.2.0",
            "_model_name": "LayoutModel",
            "_view_count": null,
            "_view_module": "@jupyter-widgets/base",
            "_view_module_version": "1.2.0",
            "_view_name": "LayoutView",
            "align_content": null,
            "align_items": null,
            "align_self": null,
            "border": null,
            "bottom": null,
            "display": null,
            "flex": null,
            "flex_flow": null,
            "grid_area": null,
            "grid_auto_columns": null,
            "grid_auto_flow": null,
            "grid_auto_rows": null,
            "grid_column": null,
            "grid_gap": null,
            "grid_row": null,
            "grid_template_areas": null,
            "grid_template_columns": null,
            "grid_template_rows": null,
            "height": null,
            "justify_content": null,
            "justify_items": null,
            "left": null,
            "margin": null,
            "max_height": null,
            "max_width": null,
            "min_height": null,
            "min_width": null,
            "object_fit": null,
            "object_position": null,
            "order": null,
            "overflow": null,
            "overflow_x": null,
            "overflow_y": null,
            "padding": null,
            "right": null,
            "top": null,
            "visibility": null,
            "width": null
          }
        },
        "207682d455bd4244bc05f5540cf76bb4": {
          "model_module": "@jupyter-widgets/controls",
          "model_name": "DescriptionStyleModel",
          "model_module_version": "1.5.0",
          "state": {
            "_model_module": "@jupyter-widgets/controls",
            "_model_module_version": "1.5.0",
            "_model_name": "DescriptionStyleModel",
            "_view_count": null,
            "_view_module": "@jupyter-widgets/base",
            "_view_module_version": "1.2.0",
            "_view_name": "StyleView",
            "description_width": ""
          }
        },
        "7fcb28563b974607b7f4f93ab0ad4dd5": {
          "model_module": "@jupyter-widgets/controls",
          "model_name": "HBoxModel",
          "model_module_version": "1.5.0",
          "state": {
            "_dom_classes": [],
            "_model_module": "@jupyter-widgets/controls",
            "_model_module_version": "1.5.0",
            "_model_name": "HBoxModel",
            "_view_count": null,
            "_view_module": "@jupyter-widgets/controls",
            "_view_module_version": "1.5.0",
            "_view_name": "HBoxView",
            "box_style": "",
            "children": [
              "IPY_MODEL_5135c9a5bcac4df881f5d8a7244a3aee",
              "IPY_MODEL_34a83fb2d3a84d4dbeaa5e1720555323",
              "IPY_MODEL_e71a3b4354874903b099c4d0309ddfe4"
            ],
            "layout": "IPY_MODEL_61a4e5d018e042a39027031ac3afc1d0"
          }
        },
        "5135c9a5bcac4df881f5d8a7244a3aee": {
          "model_module": "@jupyter-widgets/controls",
          "model_name": "HTMLModel",
          "model_module_version": "1.5.0",
          "state": {
            "_dom_classes": [],
            "_model_module": "@jupyter-widgets/controls",
            "_model_module_version": "1.5.0",
            "_model_name": "HTMLModel",
            "_view_count": null,
            "_view_module": "@jupyter-widgets/controls",
            "_view_module_version": "1.5.0",
            "_view_name": "HTMLView",
            "description": "",
            "description_tooltip": null,
            "layout": "IPY_MODEL_819187d2943148e78a5e77da7d9d2bbc",
            "placeholder": "​",
            "style": "IPY_MODEL_0ff481a9bdc7486588e441f9f3decde6",
            "value": "Generating test split: "
          }
        },
        "34a83fb2d3a84d4dbeaa5e1720555323": {
          "model_module": "@jupyter-widgets/controls",
          "model_name": "FloatProgressModel",
          "model_module_version": "1.5.0",
          "state": {
            "_dom_classes": [],
            "_model_module": "@jupyter-widgets/controls",
            "_model_module_version": "1.5.0",
            "_model_name": "FloatProgressModel",
            "_view_count": null,
            "_view_module": "@jupyter-widgets/controls",
            "_view_module_version": "1.5.0",
            "_view_name": "ProgressView",
            "bar_style": "success",
            "description": "",
            "description_tooltip": null,
            "layout": "IPY_MODEL_7e0aac7b54fb45f79116c7ef0ff8430f",
            "max": 1,
            "min": 0,
            "orientation": "horizontal",
            "style": "IPY_MODEL_4483b4f178244c12bd64147e0c0f4d61",
            "value": 1
          }
        },
        "e71a3b4354874903b099c4d0309ddfe4": {
          "model_module": "@jupyter-widgets/controls",
          "model_name": "HTMLModel",
          "model_module_version": "1.5.0",
          "state": {
            "_dom_classes": [],
            "_model_module": "@jupyter-widgets/controls",
            "_model_module_version": "1.5.0",
            "_model_name": "HTMLModel",
            "_view_count": null,
            "_view_module": "@jupyter-widgets/controls",
            "_view_module_version": "1.5.0",
            "_view_name": "HTMLView",
            "description": "",
            "description_tooltip": null,
            "layout": "IPY_MODEL_e03ad7c6814a47d68e123768524551a0",
            "placeholder": "​",
            "style": "IPY_MODEL_735f10853b38427da8a090da8f0d4f3f",
            "value": " 1004/0 [00:00&lt;00:00, 18704.94 examples/s]"
          }
        },
        "61a4e5d018e042a39027031ac3afc1d0": {
          "model_module": "@jupyter-widgets/base",
          "model_name": "LayoutModel",
          "model_module_version": "1.2.0",
          "state": {
            "_model_module": "@jupyter-widgets/base",
            "_model_module_version": "1.2.0",
            "_model_name": "LayoutModel",
            "_view_count": null,
            "_view_module": "@jupyter-widgets/base",
            "_view_module_version": "1.2.0",
            "_view_name": "LayoutView",
            "align_content": null,
            "align_items": null,
            "align_self": null,
            "border": null,
            "bottom": null,
            "display": null,
            "flex": null,
            "flex_flow": null,
            "grid_area": null,
            "grid_auto_columns": null,
            "grid_auto_flow": null,
            "grid_auto_rows": null,
            "grid_column": null,
            "grid_gap": null,
            "grid_row": null,
            "grid_template_areas": null,
            "grid_template_columns": null,
            "grid_template_rows": null,
            "height": null,
            "justify_content": null,
            "justify_items": null,
            "left": null,
            "margin": null,
            "max_height": null,
            "max_width": null,
            "min_height": null,
            "min_width": null,
            "object_fit": null,
            "object_position": null,
            "order": null,
            "overflow": null,
            "overflow_x": null,
            "overflow_y": null,
            "padding": null,
            "right": null,
            "top": null,
            "visibility": null,
            "width": null
          }
        },
        "819187d2943148e78a5e77da7d9d2bbc": {
          "model_module": "@jupyter-widgets/base",
          "model_name": "LayoutModel",
          "model_module_version": "1.2.0",
          "state": {
            "_model_module": "@jupyter-widgets/base",
            "_model_module_version": "1.2.0",
            "_model_name": "LayoutModel",
            "_view_count": null,
            "_view_module": "@jupyter-widgets/base",
            "_view_module_version": "1.2.0",
            "_view_name": "LayoutView",
            "align_content": null,
            "align_items": null,
            "align_self": null,
            "border": null,
            "bottom": null,
            "display": null,
            "flex": null,
            "flex_flow": null,
            "grid_area": null,
            "grid_auto_columns": null,
            "grid_auto_flow": null,
            "grid_auto_rows": null,
            "grid_column": null,
            "grid_gap": null,
            "grid_row": null,
            "grid_template_areas": null,
            "grid_template_columns": null,
            "grid_template_rows": null,
            "height": null,
            "justify_content": null,
            "justify_items": null,
            "left": null,
            "margin": null,
            "max_height": null,
            "max_width": null,
            "min_height": null,
            "min_width": null,
            "object_fit": null,
            "object_position": null,
            "order": null,
            "overflow": null,
            "overflow_x": null,
            "overflow_y": null,
            "padding": null,
            "right": null,
            "top": null,
            "visibility": null,
            "width": null
          }
        },
        "0ff481a9bdc7486588e441f9f3decde6": {
          "model_module": "@jupyter-widgets/controls",
          "model_name": "DescriptionStyleModel",
          "model_module_version": "1.5.0",
          "state": {
            "_model_module": "@jupyter-widgets/controls",
            "_model_module_version": "1.5.0",
            "_model_name": "DescriptionStyleModel",
            "_view_count": null,
            "_view_module": "@jupyter-widgets/base",
            "_view_module_version": "1.2.0",
            "_view_name": "StyleView",
            "description_width": ""
          }
        },
        "7e0aac7b54fb45f79116c7ef0ff8430f": {
          "model_module": "@jupyter-widgets/base",
          "model_name": "LayoutModel",
          "model_module_version": "1.2.0",
          "state": {
            "_model_module": "@jupyter-widgets/base",
            "_model_module_version": "1.2.0",
            "_model_name": "LayoutModel",
            "_view_count": null,
            "_view_module": "@jupyter-widgets/base",
            "_view_module_version": "1.2.0",
            "_view_name": "LayoutView",
            "align_content": null,
            "align_items": null,
            "align_self": null,
            "border": null,
            "bottom": null,
            "display": null,
            "flex": null,
            "flex_flow": null,
            "grid_area": null,
            "grid_auto_columns": null,
            "grid_auto_flow": null,
            "grid_auto_rows": null,
            "grid_column": null,
            "grid_gap": null,
            "grid_row": null,
            "grid_template_areas": null,
            "grid_template_columns": null,
            "grid_template_rows": null,
            "height": null,
            "justify_content": null,
            "justify_items": null,
            "left": null,
            "margin": null,
            "max_height": null,
            "max_width": null,
            "min_height": null,
            "min_width": null,
            "object_fit": null,
            "object_position": null,
            "order": null,
            "overflow": null,
            "overflow_x": null,
            "overflow_y": null,
            "padding": null,
            "right": null,
            "top": null,
            "visibility": null,
            "width": "20px"
          }
        },
        "4483b4f178244c12bd64147e0c0f4d61": {
          "model_module": "@jupyter-widgets/controls",
          "model_name": "ProgressStyleModel",
          "model_module_version": "1.5.0",
          "state": {
            "_model_module": "@jupyter-widgets/controls",
            "_model_module_version": "1.5.0",
            "_model_name": "ProgressStyleModel",
            "_view_count": null,
            "_view_module": "@jupyter-widgets/base",
            "_view_module_version": "1.2.0",
            "_view_name": "StyleView",
            "bar_color": null,
            "description_width": ""
          }
        },
        "e03ad7c6814a47d68e123768524551a0": {
          "model_module": "@jupyter-widgets/base",
          "model_name": "LayoutModel",
          "model_module_version": "1.2.0",
          "state": {
            "_model_module": "@jupyter-widgets/base",
            "_model_module_version": "1.2.0",
            "_model_name": "LayoutModel",
            "_view_count": null,
            "_view_module": "@jupyter-widgets/base",
            "_view_module_version": "1.2.0",
            "_view_name": "LayoutView",
            "align_content": null,
            "align_items": null,
            "align_self": null,
            "border": null,
            "bottom": null,
            "display": null,
            "flex": null,
            "flex_flow": null,
            "grid_area": null,
            "grid_auto_columns": null,
            "grid_auto_flow": null,
            "grid_auto_rows": null,
            "grid_column": null,
            "grid_gap": null,
            "grid_row": null,
            "grid_template_areas": null,
            "grid_template_columns": null,
            "grid_template_rows": null,
            "height": null,
            "justify_content": null,
            "justify_items": null,
            "left": null,
            "margin": null,
            "max_height": null,
            "max_width": null,
            "min_height": null,
            "min_width": null,
            "object_fit": null,
            "object_position": null,
            "order": null,
            "overflow": null,
            "overflow_x": null,
            "overflow_y": null,
            "padding": null,
            "right": null,
            "top": null,
            "visibility": null,
            "width": null
          }
        },
        "735f10853b38427da8a090da8f0d4f3f": {
          "model_module": "@jupyter-widgets/controls",
          "model_name": "DescriptionStyleModel",
          "model_module_version": "1.5.0",
          "state": {
            "_model_module": "@jupyter-widgets/controls",
            "_model_module_version": "1.5.0",
            "_model_name": "DescriptionStyleModel",
            "_view_count": null,
            "_view_module": "@jupyter-widgets/base",
            "_view_module_version": "1.2.0",
            "_view_name": "StyleView",
            "description_width": ""
          }
        },
        "b60875f89dfd4f248c5a91b8fb7ce752": {
          "model_module": "@jupyter-widgets/controls",
          "model_name": "HBoxModel",
          "model_module_version": "1.5.0",
          "state": {
            "_dom_classes": [],
            "_model_module": "@jupyter-widgets/controls",
            "_model_module_version": "1.5.0",
            "_model_name": "HBoxModel",
            "_view_count": null,
            "_view_module": "@jupyter-widgets/controls",
            "_view_module_version": "1.5.0",
            "_view_name": "HBoxView",
            "box_style": "",
            "children": [
              "IPY_MODEL_934985b38e9547e2b0a21809c4ed7492",
              "IPY_MODEL_a103bbc1b9db44af8c67fc3c4ad5610f",
              "IPY_MODEL_4db86226af374f2696705ffda8bf8a65"
            ],
            "layout": "IPY_MODEL_f47c7a44e65d4aed8a909e9454909100"
          }
        },
        "934985b38e9547e2b0a21809c4ed7492": {
          "model_module": "@jupyter-widgets/controls",
          "model_name": "HTMLModel",
          "model_module_version": "1.5.0",
          "state": {
            "_dom_classes": [],
            "_model_module": "@jupyter-widgets/controls",
            "_model_module_version": "1.5.0",
            "_model_name": "HTMLModel",
            "_view_count": null,
            "_view_module": "@jupyter-widgets/controls",
            "_view_module_version": "1.5.0",
            "_view_name": "HTMLView",
            "description": "",
            "description_tooltip": null,
            "layout": "IPY_MODEL_cee6a71adbbb48ae82f9e997b31817e9",
            "placeholder": "​",
            "style": "IPY_MODEL_bc14809cdde24e0392668f4f9540623e",
            "value": "Downloading builder script: 100%"
          }
        },
        "a103bbc1b9db44af8c67fc3c4ad5610f": {
          "model_module": "@jupyter-widgets/controls",
          "model_name": "FloatProgressModel",
          "model_module_version": "1.5.0",
          "state": {
            "_dom_classes": [],
            "_model_module": "@jupyter-widgets/controls",
            "_model_module_version": "1.5.0",
            "_model_name": "FloatProgressModel",
            "_view_count": null,
            "_view_module": "@jupyter-widgets/controls",
            "_view_module_version": "1.5.0",
            "_view_name": "ProgressView",
            "bar_style": "success",
            "description": "",
            "description_tooltip": null,
            "layout": "IPY_MODEL_b6808ebcd1124d44a1d398a28e0a577c",
            "max": 8146,
            "min": 0,
            "orientation": "horizontal",
            "style": "IPY_MODEL_1355ca3854354c048e8ddb14dfc07c5a",
            "value": 8146
          }
        },
        "4db86226af374f2696705ffda8bf8a65": {
          "model_module": "@jupyter-widgets/controls",
          "model_name": "HTMLModel",
          "model_module_version": "1.5.0",
          "state": {
            "_dom_classes": [],
            "_model_module": "@jupyter-widgets/controls",
            "_model_module_version": "1.5.0",
            "_model_name": "HTMLModel",
            "_view_count": null,
            "_view_module": "@jupyter-widgets/controls",
            "_view_module_version": "1.5.0",
            "_view_name": "HTMLView",
            "description": "",
            "description_tooltip": null,
            "layout": "IPY_MODEL_a01cf0d1fea54ea28101fb68b0bc864a",
            "placeholder": "​",
            "style": "IPY_MODEL_589fff77f4ab4fd194c4681cc1119a6e",
            "value": " 8.15k/8.15k [00:00&lt;00:00, 356kB/s]"
          }
        },
        "f47c7a44e65d4aed8a909e9454909100": {
          "model_module": "@jupyter-widgets/base",
          "model_name": "LayoutModel",
          "model_module_version": "1.2.0",
          "state": {
            "_model_module": "@jupyter-widgets/base",
            "_model_module_version": "1.2.0",
            "_model_name": "LayoutModel",
            "_view_count": null,
            "_view_module": "@jupyter-widgets/base",
            "_view_module_version": "1.2.0",
            "_view_name": "LayoutView",
            "align_content": null,
            "align_items": null,
            "align_self": null,
            "border": null,
            "bottom": null,
            "display": null,
            "flex": null,
            "flex_flow": null,
            "grid_area": null,
            "grid_auto_columns": null,
            "grid_auto_flow": null,
            "grid_auto_rows": null,
            "grid_column": null,
            "grid_gap": null,
            "grid_row": null,
            "grid_template_areas": null,
            "grid_template_columns": null,
            "grid_template_rows": null,
            "height": null,
            "justify_content": null,
            "justify_items": null,
            "left": null,
            "margin": null,
            "max_height": null,
            "max_width": null,
            "min_height": null,
            "min_width": null,
            "object_fit": null,
            "object_position": null,
            "order": null,
            "overflow": null,
            "overflow_x": null,
            "overflow_y": null,
            "padding": null,
            "right": null,
            "top": null,
            "visibility": null,
            "width": null
          }
        },
        "cee6a71adbbb48ae82f9e997b31817e9": {
          "model_module": "@jupyter-widgets/base",
          "model_name": "LayoutModel",
          "model_module_version": "1.2.0",
          "state": {
            "_model_module": "@jupyter-widgets/base",
            "_model_module_version": "1.2.0",
            "_model_name": "LayoutModel",
            "_view_count": null,
            "_view_module": "@jupyter-widgets/base",
            "_view_module_version": "1.2.0",
            "_view_name": "LayoutView",
            "align_content": null,
            "align_items": null,
            "align_self": null,
            "border": null,
            "bottom": null,
            "display": null,
            "flex": null,
            "flex_flow": null,
            "grid_area": null,
            "grid_auto_columns": null,
            "grid_auto_flow": null,
            "grid_auto_rows": null,
            "grid_column": null,
            "grid_gap": null,
            "grid_row": null,
            "grid_template_areas": null,
            "grid_template_columns": null,
            "grid_template_rows": null,
            "height": null,
            "justify_content": null,
            "justify_items": null,
            "left": null,
            "margin": null,
            "max_height": null,
            "max_width": null,
            "min_height": null,
            "min_width": null,
            "object_fit": null,
            "object_position": null,
            "order": null,
            "overflow": null,
            "overflow_x": null,
            "overflow_y": null,
            "padding": null,
            "right": null,
            "top": null,
            "visibility": null,
            "width": null
          }
        },
        "bc14809cdde24e0392668f4f9540623e": {
          "model_module": "@jupyter-widgets/controls",
          "model_name": "DescriptionStyleModel",
          "model_module_version": "1.5.0",
          "state": {
            "_model_module": "@jupyter-widgets/controls",
            "_model_module_version": "1.5.0",
            "_model_name": "DescriptionStyleModel",
            "_view_count": null,
            "_view_module": "@jupyter-widgets/base",
            "_view_module_version": "1.2.0",
            "_view_name": "StyleView",
            "description_width": ""
          }
        },
        "b6808ebcd1124d44a1d398a28e0a577c": {
          "model_module": "@jupyter-widgets/base",
          "model_name": "LayoutModel",
          "model_module_version": "1.2.0",
          "state": {
            "_model_module": "@jupyter-widgets/base",
            "_model_module_version": "1.2.0",
            "_model_name": "LayoutModel",
            "_view_count": null,
            "_view_module": "@jupyter-widgets/base",
            "_view_module_version": "1.2.0",
            "_view_name": "LayoutView",
            "align_content": null,
            "align_items": null,
            "align_self": null,
            "border": null,
            "bottom": null,
            "display": null,
            "flex": null,
            "flex_flow": null,
            "grid_area": null,
            "grid_auto_columns": null,
            "grid_auto_flow": null,
            "grid_auto_rows": null,
            "grid_column": null,
            "grid_gap": null,
            "grid_row": null,
            "grid_template_areas": null,
            "grid_template_columns": null,
            "grid_template_rows": null,
            "height": null,
            "justify_content": null,
            "justify_items": null,
            "left": null,
            "margin": null,
            "max_height": null,
            "max_width": null,
            "min_height": null,
            "min_width": null,
            "object_fit": null,
            "object_position": null,
            "order": null,
            "overflow": null,
            "overflow_x": null,
            "overflow_y": null,
            "padding": null,
            "right": null,
            "top": null,
            "visibility": null,
            "width": null
          }
        },
        "1355ca3854354c048e8ddb14dfc07c5a": {
          "model_module": "@jupyter-widgets/controls",
          "model_name": "ProgressStyleModel",
          "model_module_version": "1.5.0",
          "state": {
            "_model_module": "@jupyter-widgets/controls",
            "_model_module_version": "1.5.0",
            "_model_name": "ProgressStyleModel",
            "_view_count": null,
            "_view_module": "@jupyter-widgets/base",
            "_view_module_version": "1.2.0",
            "_view_name": "StyleView",
            "bar_color": null,
            "description_width": ""
          }
        },
        "a01cf0d1fea54ea28101fb68b0bc864a": {
          "model_module": "@jupyter-widgets/base",
          "model_name": "LayoutModel",
          "model_module_version": "1.2.0",
          "state": {
            "_model_module": "@jupyter-widgets/base",
            "_model_module_version": "1.2.0",
            "_model_name": "LayoutModel",
            "_view_count": null,
            "_view_module": "@jupyter-widgets/base",
            "_view_module_version": "1.2.0",
            "_view_name": "LayoutView",
            "align_content": null,
            "align_items": null,
            "align_self": null,
            "border": null,
            "bottom": null,
            "display": null,
            "flex": null,
            "flex_flow": null,
            "grid_area": null,
            "grid_auto_columns": null,
            "grid_auto_flow": null,
            "grid_auto_rows": null,
            "grid_column": null,
            "grid_gap": null,
            "grid_row": null,
            "grid_template_areas": null,
            "grid_template_columns": null,
            "grid_template_rows": null,
            "height": null,
            "justify_content": null,
            "justify_items": null,
            "left": null,
            "margin": null,
            "max_height": null,
            "max_width": null,
            "min_height": null,
            "min_width": null,
            "object_fit": null,
            "object_position": null,
            "order": null,
            "overflow": null,
            "overflow_x": null,
            "overflow_y": null,
            "padding": null,
            "right": null,
            "top": null,
            "visibility": null,
            "width": null
          }
        },
        "589fff77f4ab4fd194c4681cc1119a6e": {
          "model_module": "@jupyter-widgets/controls",
          "model_name": "DescriptionStyleModel",
          "model_module_version": "1.5.0",
          "state": {
            "_model_module": "@jupyter-widgets/controls",
            "_model_module_version": "1.5.0",
            "_model_name": "DescriptionStyleModel",
            "_view_count": null,
            "_view_module": "@jupyter-widgets/base",
            "_view_module_version": "1.2.0",
            "_view_name": "StyleView",
            "description_width": ""
          }
        },
        "6586961d47c846988c5d4bec8a931848": {
          "model_module": "@jupyter-widgets/controls",
          "model_name": "HBoxModel",
          "model_module_version": "1.5.0",
          "state": {
            "_dom_classes": [],
            "_model_module": "@jupyter-widgets/controls",
            "_model_module_version": "1.5.0",
            "_model_name": "HBoxModel",
            "_view_count": null,
            "_view_module": "@jupyter-widgets/controls",
            "_view_module_version": "1.5.0",
            "_view_name": "HBoxView",
            "box_style": "",
            "children": [
              "IPY_MODEL_c3e9fe323ea5499e92b9cda7bc836ae9",
              "IPY_MODEL_e0edf45eabec406f83316da37928817f",
              "IPY_MODEL_501b108ec8064963b447f68b58aedc76"
            ],
            "layout": "IPY_MODEL_de9836812d7142379a0ca46ccf270dfa"
          }
        },
        "c3e9fe323ea5499e92b9cda7bc836ae9": {
          "model_module": "@jupyter-widgets/controls",
          "model_name": "HTMLModel",
          "model_module_version": "1.5.0",
          "state": {
            "_dom_classes": [],
            "_model_module": "@jupyter-widgets/controls",
            "_model_module_version": "1.5.0",
            "_model_name": "HTMLModel",
            "_view_count": null,
            "_view_module": "@jupyter-widgets/controls",
            "_view_module_version": "1.5.0",
            "_view_name": "HTMLView",
            "description": "",
            "description_tooltip": null,
            "layout": "IPY_MODEL_4fb4355fc9434ef59a3d81176ab679fe",
            "placeholder": "​",
            "style": "IPY_MODEL_e08a744394994e4ea375d56715a2efd6",
            "value": "Downloading builder script: 100%"
          }
        },
        "e0edf45eabec406f83316da37928817f": {
          "model_module": "@jupyter-widgets/controls",
          "model_name": "FloatProgressModel",
          "model_module_version": "1.5.0",
          "state": {
            "_dom_classes": [],
            "_model_module": "@jupyter-widgets/controls",
            "_model_module_version": "1.5.0",
            "_model_name": "FloatProgressModel",
            "_view_count": null,
            "_view_module": "@jupyter-widgets/controls",
            "_view_module_version": "1.5.0",
            "_view_name": "ProgressView",
            "bar_style": "success",
            "description": "",
            "description_tooltip": null,
            "layout": "IPY_MODEL_8dc6348bd7014a318e87bee4cef03d2c",
            "max": 9005,
            "min": 0,
            "orientation": "horizontal",
            "style": "IPY_MODEL_9220ef7e6a574bdcbaf202d2eef0ce06",
            "value": 9005
          }
        },
        "501b108ec8064963b447f68b58aedc76": {
          "model_module": "@jupyter-widgets/controls",
          "model_name": "HTMLModel",
          "model_module_version": "1.5.0",
          "state": {
            "_dom_classes": [],
            "_model_module": "@jupyter-widgets/controls",
            "_model_module_version": "1.5.0",
            "_model_name": "HTMLModel",
            "_view_count": null,
            "_view_module": "@jupyter-widgets/controls",
            "_view_module_version": "1.5.0",
            "_view_name": "HTMLView",
            "description": "",
            "description_tooltip": null,
            "layout": "IPY_MODEL_37b87e0aacc0410db81a86176a33a2e5",
            "placeholder": "​",
            "style": "IPY_MODEL_9bdba7c950b945a69ef2d179fb7782aa",
            "value": " 9.01k/9.01k [00:00&lt;00:00, 620kB/s]"
          }
        },
        "de9836812d7142379a0ca46ccf270dfa": {
          "model_module": "@jupyter-widgets/base",
          "model_name": "LayoutModel",
          "model_module_version": "1.2.0",
          "state": {
            "_model_module": "@jupyter-widgets/base",
            "_model_module_version": "1.2.0",
            "_model_name": "LayoutModel",
            "_view_count": null,
            "_view_module": "@jupyter-widgets/base",
            "_view_module_version": "1.2.0",
            "_view_name": "LayoutView",
            "align_content": null,
            "align_items": null,
            "align_self": null,
            "border": null,
            "bottom": null,
            "display": null,
            "flex": null,
            "flex_flow": null,
            "grid_area": null,
            "grid_auto_columns": null,
            "grid_auto_flow": null,
            "grid_auto_rows": null,
            "grid_column": null,
            "grid_gap": null,
            "grid_row": null,
            "grid_template_areas": null,
            "grid_template_columns": null,
            "grid_template_rows": null,
            "height": null,
            "justify_content": null,
            "justify_items": null,
            "left": null,
            "margin": null,
            "max_height": null,
            "max_width": null,
            "min_height": null,
            "min_width": null,
            "object_fit": null,
            "object_position": null,
            "order": null,
            "overflow": null,
            "overflow_x": null,
            "overflow_y": null,
            "padding": null,
            "right": null,
            "top": null,
            "visibility": null,
            "width": null
          }
        },
        "4fb4355fc9434ef59a3d81176ab679fe": {
          "model_module": "@jupyter-widgets/base",
          "model_name": "LayoutModel",
          "model_module_version": "1.2.0",
          "state": {
            "_model_module": "@jupyter-widgets/base",
            "_model_module_version": "1.2.0",
            "_model_name": "LayoutModel",
            "_view_count": null,
            "_view_module": "@jupyter-widgets/base",
            "_view_module_version": "1.2.0",
            "_view_name": "LayoutView",
            "align_content": null,
            "align_items": null,
            "align_self": null,
            "border": null,
            "bottom": null,
            "display": null,
            "flex": null,
            "flex_flow": null,
            "grid_area": null,
            "grid_auto_columns": null,
            "grid_auto_flow": null,
            "grid_auto_rows": null,
            "grid_column": null,
            "grid_gap": null,
            "grid_row": null,
            "grid_template_areas": null,
            "grid_template_columns": null,
            "grid_template_rows": null,
            "height": null,
            "justify_content": null,
            "justify_items": null,
            "left": null,
            "margin": null,
            "max_height": null,
            "max_width": null,
            "min_height": null,
            "min_width": null,
            "object_fit": null,
            "object_position": null,
            "order": null,
            "overflow": null,
            "overflow_x": null,
            "overflow_y": null,
            "padding": null,
            "right": null,
            "top": null,
            "visibility": null,
            "width": null
          }
        },
        "e08a744394994e4ea375d56715a2efd6": {
          "model_module": "@jupyter-widgets/controls",
          "model_name": "DescriptionStyleModel",
          "model_module_version": "1.5.0",
          "state": {
            "_model_module": "@jupyter-widgets/controls",
            "_model_module_version": "1.5.0",
            "_model_name": "DescriptionStyleModel",
            "_view_count": null,
            "_view_module": "@jupyter-widgets/base",
            "_view_module_version": "1.2.0",
            "_view_name": "StyleView",
            "description_width": ""
          }
        },
        "8dc6348bd7014a318e87bee4cef03d2c": {
          "model_module": "@jupyter-widgets/base",
          "model_name": "LayoutModel",
          "model_module_version": "1.2.0",
          "state": {
            "_model_module": "@jupyter-widgets/base",
            "_model_module_version": "1.2.0",
            "_model_name": "LayoutModel",
            "_view_count": null,
            "_view_module": "@jupyter-widgets/base",
            "_view_module_version": "1.2.0",
            "_view_name": "LayoutView",
            "align_content": null,
            "align_items": null,
            "align_self": null,
            "border": null,
            "bottom": null,
            "display": null,
            "flex": null,
            "flex_flow": null,
            "grid_area": null,
            "grid_auto_columns": null,
            "grid_auto_flow": null,
            "grid_auto_rows": null,
            "grid_column": null,
            "grid_gap": null,
            "grid_row": null,
            "grid_template_areas": null,
            "grid_template_columns": null,
            "grid_template_rows": null,
            "height": null,
            "justify_content": null,
            "justify_items": null,
            "left": null,
            "margin": null,
            "max_height": null,
            "max_width": null,
            "min_height": null,
            "min_width": null,
            "object_fit": null,
            "object_position": null,
            "order": null,
            "overflow": null,
            "overflow_x": null,
            "overflow_y": null,
            "padding": null,
            "right": null,
            "top": null,
            "visibility": null,
            "width": null
          }
        },
        "9220ef7e6a574bdcbaf202d2eef0ce06": {
          "model_module": "@jupyter-widgets/controls",
          "model_name": "ProgressStyleModel",
          "model_module_version": "1.5.0",
          "state": {
            "_model_module": "@jupyter-widgets/controls",
            "_model_module_version": "1.5.0",
            "_model_name": "ProgressStyleModel",
            "_view_count": null,
            "_view_module": "@jupyter-widgets/base",
            "_view_module_version": "1.2.0",
            "_view_name": "StyleView",
            "bar_color": null,
            "description_width": ""
          }
        },
        "37b87e0aacc0410db81a86176a33a2e5": {
          "model_module": "@jupyter-widgets/base",
          "model_name": "LayoutModel",
          "model_module_version": "1.2.0",
          "state": {
            "_model_module": "@jupyter-widgets/base",
            "_model_module_version": "1.2.0",
            "_model_name": "LayoutModel",
            "_view_count": null,
            "_view_module": "@jupyter-widgets/base",
            "_view_module_version": "1.2.0",
            "_view_name": "LayoutView",
            "align_content": null,
            "align_items": null,
            "align_self": null,
            "border": null,
            "bottom": null,
            "display": null,
            "flex": null,
            "flex_flow": null,
            "grid_area": null,
            "grid_auto_columns": null,
            "grid_auto_flow": null,
            "grid_auto_rows": null,
            "grid_column": null,
            "grid_gap": null,
            "grid_row": null,
            "grid_template_areas": null,
            "grid_template_columns": null,
            "grid_template_rows": null,
            "height": null,
            "justify_content": null,
            "justify_items": null,
            "left": null,
            "margin": null,
            "max_height": null,
            "max_width": null,
            "min_height": null,
            "min_width": null,
            "object_fit": null,
            "object_position": null,
            "order": null,
            "overflow": null,
            "overflow_x": null,
            "overflow_y": null,
            "padding": null,
            "right": null,
            "top": null,
            "visibility": null,
            "width": null
          }
        },
        "9bdba7c950b945a69ef2d179fb7782aa": {
          "model_module": "@jupyter-widgets/controls",
          "model_name": "DescriptionStyleModel",
          "model_module_version": "1.5.0",
          "state": {
            "_model_module": "@jupyter-widgets/controls",
            "_model_module_version": "1.5.0",
            "_model_name": "DescriptionStyleModel",
            "_view_count": null,
            "_view_module": "@jupyter-widgets/base",
            "_view_module_version": "1.2.0",
            "_view_name": "StyleView",
            "description_width": ""
          }
        }
      }
    }
  },
  "nbformat": 4,
  "nbformat_minor": 0
}