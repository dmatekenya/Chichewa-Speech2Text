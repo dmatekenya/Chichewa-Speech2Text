{
 "cells": [
  {
   "cell_type": "code",
   "execution_count": 1,
   "id": "7f98a304",
   "metadata": {},
   "outputs": [],
   "source": [
    "from pathlib import Path\n",
    "from collections import namedtuple\n",
    "import pandas as pd\n",
    "import numpy as np\n",
    "from numpy import random\n",
    "import shutil\n",
    "import os\n",
    "import sys\n",
    "import traceback\n",
    "import re\n",
    "from pydub import AudioSegment\n",
    "import moviepy.editor as mp\n",
    "from scipy.io.wavfile import read\n",
    "import ftransc\n",
    "from datetime import datetime\n",
    "import moviepy.editor as mp"
   ]
  },
  {
   "cell_type": "markdown",
   "id": "0c6316c9-dfd3-4a9d-bb9f-370fb8f0d434",
   "metadata": {},
   "source": [
    "# Define utility functions"
   ]
  },
  {
   "cell_type": "markdown",
   "id": "6fe2ad2f",
   "metadata": {},
   "source": [
    "# Rename WhatsAPP audio files to something serial"
   ]
  },
  {
   "cell_type": "code",
   "execution_count": 2,
   "id": "e48b88f1",
   "metadata": {
    "tags": []
   },
   "outputs": [],
   "source": [
    "WD = Path.cwd().parents[0]\n",
    "DATA = WD.joinpath('data')\n",
    "DATA_COLLECTION = WD.joinpath('audio-data-collection')\n",
    "AUDIOS_FROM_KAPALAMULA = WD.joinpath('chichewa-docs', 'AudioRecording')\n",
    "AUD_FILES_SHORT = DATA_COLLECTION.joinpath('short-audio-without-transcripts')\n",
    "OUTPUT_AUDIO_DIR = DATA.joinpath('chichewa', 'dmatekenya_chichewa_dataset')\n",
    "district_file= WD.parents[1].joinpath('WBG/malawi/2018Malawi_EAs/2018_Malawi_Enumeration_Areas_With_Data.csv')\n",
    "APPLE_AUDIOS_DIR = Path('/Users/dmatekenya/Library/Application Support/com.apple.voicememos/Recordings')\n",
    "COMMON_AUD_EXTENSIONS = ['.aac', '.mp3', '.mp4', '.m4a', '.wav']"
   ]
  },
  {
   "cell_type": "code",
   "execution_count": 3,
   "id": "026f9e2e-cc6b-43e2-b129-cee3f54b82cf",
   "metadata": {
    "jupyter": {
     "source_hidden": true
    },
    "tags": []
   },
   "outputs": [],
   "source": [
    "def rename_and_unlabelled_audios(input_dir, output_dir):\n",
    "    \"\"\"\n",
    "    Takes  audio files which will not be transcribed,\n",
    "    renames them, convert \n",
    "    to wav and copy to output directory \n",
    "    \"\"\"\n",
    "    nums = []\n",
    "    for file in output_dir.iterdir():\n",
    "        try:\n",
    "            num = re.findall(r'\\d+', file)[0]\n",
    "            nums.append(num)\n",
    "        except:\n",
    "            pass\n",
    "    if nums:\n",
    "        start_num = max(current_num_lst) + 1\n",
    "    else:\n",
    "        start_num = 1\n",
    "    \n",
    "    for au in input_dir.iterdir():\n",
    "        if au.suffix in COMMON_AUD_EXTENSIONS:\n",
    "            au_filename_wav = \"unlabelled_audio_{}.wav\".format(start_num)\n",
    "            au_dst = output_dir.joinpath(au_filename_wav)\n",
    "            # convert the audio file\n",
    "            AudioSegment.from_file(au).export(au_dst, format=\"wav\")\n",
    "            start_num += 1\n",
    "    print('Done with renaming and copying')"
   ]
  },
  {
   "cell_type": "code",
   "execution_count": 4,
   "id": "e465006e-1fc2-4696-82e9-ff9a9b4a52f1",
   "metadata": {
    "jupyter": {
     "source_hidden": true
    },
    "tags": []
   },
   "outputs": [],
   "source": [
    "def get_and_proceess_apple_voice_memos(outdir, start_date=None, end_date=None):\n",
    "    files = [f for f in APPLE_AUDIOS_DIR.iterdir()]\n",
    "    cnt = 289\n",
    "    for f in files:\n",
    "        try:\n",
    "            date_str = f.parts[-1][:8]\n",
    "            date = datetime.strptime(date_str, \"%Y%m%d\")\n",
    "            if date >= start_date and date <= end_date:\n",
    "                print(f)\n",
    "                # convert to wav\n",
    "                outf = outdir.joinpath(\"dunstan_self_recorded_{}.wav\".format(cnt))\n",
    "                AudioSegment.from_file(f).export(outf, format=\"wav\")\n",
    "                cnt += 1\n",
    "        except Exception as e:\n",
    "            print(e)\n",
    "            print(f.parts[-1])\n",
    "    print('Copied {} audios files'.format(cnt))"
   ]
  },
  {
   "cell_type": "code",
   "execution_count": 5,
   "id": "fa87eb6d-89f4-4f3d-bbca-659fad9712be",
   "metadata": {},
   "outputs": [],
   "source": [
    "def convert_vid_to_wav(vids_dir, outdir, file_cnt_start=None):\n",
    "    cnt = file_cnt_start\n",
    "    for file in vids_dir.iterdir():\n",
    "        if file.suffix == '.mp4':\n",
    "            outf = str(outdir.joinpath('aud_from_vid{}.wav'.format(cnt)))\n",
    "            clip = mp.VideoFileClip(str(file))\n",
    "            clip.audio.write_audiofile(outf, bitrate='3000k')\n",
    "            cnt += 1"
   ]
  },
  {
   "cell_type": "code",
   "execution_count": null,
   "id": "e916ca22-78c4-49a1-bdfe-c6c79a90a82e",
   "metadata": {},
   "outputs": [],
   "source": [
    "outdir_dunstan_auds = DATA_COLLECTION.joinpath('temp-holding-before-sync', 'dunstan-self-records-extra')\n",
    "start = datetime(2022, 4, 28)\n",
    "end =  datetime(2022, 4, 30)\n",
    "get_and_proceess_apple_voice_memos(outdir=outdir_dunstan_auds, start_date=start, \n",
    "                                   end_date=end)"
   ]
  },
  {
   "cell_type": "code",
   "execution_count": null,
   "id": "58eadb16-b235-41d0-a544-84f1d9614bdd",
   "metadata": {},
   "outputs": [],
   "source": [
    "outdir_whatsapp_auds = DATA_COLLECTION.joinpath('temp-holding-before-sync',\n",
    "                                                'audios-from-whatsapp-extra')\n",
    "convert_vid_to_wav(vids_dir=Path(\"/Users/dmatekenya/Downloads/whatsvids/\"), \n",
    "                   outdir=outdir_whatsapp_auds, file_cnt_start=28)"
   ]
  },
  {
   "cell_type": "code",
   "execution_count": 5,
   "id": "92f1ad39-83e3-4e62-b833-035f4c1fe1bc",
   "metadata": {},
   "outputs": [
    {
     "data": {
      "text/plain": [
       "datetime.datetime(2022, 4, 29, 0, 0)"
      ]
     },
     "execution_count": 5,
     "metadata": {},
     "output_type": "execute_result"
    }
   ],
   "source": [
    "start_date"
   ]
  },
  {
   "cell_type": "code",
   "execution_count": 86,
   "id": "8e31e3a6-7f35-4248-9528-47d7e03cf36d",
   "metadata": {},
   "outputs": [],
   "source": [
    "tmp = Path(\"../audio-data-collection/temp-holding-before-sync/from-whatsapp/\")\n",
    "\n",
    "cnt = 1\n",
    "for f in tmp.iterdir():\n",
    "    if f.suffix in COMMON_AUD_EXTENSIONS:\n",
    "        outf = tmp.parents[1].joinpath(\"aud_from_whatsapp{}.wav\".format(cnt))\n",
    "        AudioSegment.from_file(f).export(outf, format=\"wav\")\n",
    "        cnt += 1"
   ]
  },
  {
   "cell_type": "code",
   "execution_count": 73,
   "id": "85c04c1d-bc5f-4c2d-b53d-9b49beb81e97",
   "metadata": {},
   "outputs": [],
   "source": [
    "x = [file for file in outdir_dunstan_auds.iterdir()]"
   ]
  },
  {
   "cell_type": "code",
   "execution_count": 4,
   "id": "8cf1bcca",
   "metadata": {
    "code_folding": [
     0
    ],
    "jupyter": {
     "source_hidden": true
    },
    "tags": []
   },
   "outputs": [],
   "source": [
    "def rename_short_audios():\n",
    "    \n",
    "    prop_named_files = [i for i in list(AUD_FILES_SHORT.iterdir()) if i.parts[-1][:3] == 'WAU']\n",
    "    needs_renaming = [i for i in list(AUD_FILES_SHORT.iterdir()) if i.parts[-1][:3] != 'WAU']\n",
    "    \n",
    "    current_num_lst = []\n",
    "    \n",
    "    for file in prop_named_files:\n",
    "        fname = file.parts[-1]\n",
    "        nums = re.findall(r'\\d+', fname)\n",
    "        if len(nums) == 1:\n",
    "            current_num_lst.append(int(nums[0]))\n",
    "        elif len(nums) == 2:\n",
    "            current_num_lst.append(int(nums[0]))\n",
    "        else:\n",
    "            print('Something isnt right')\n",
    "    \n",
    "    start_num = max(current_num_lst) + 1\n",
    "    \n",
    "    suffixes = []\n",
    "    for i in needs_renaming:\n",
    "        suffixes.append(i.suffix)\n",
    "    suffixes = set(suffixes)\n",
    "    \n",
    "    \n",
    "    cnt = start_num\n",
    "    for f in needs_renaming:\n",
    "        if f.suffix in suffixes:\n",
    "            suf = f.suffix\n",
    "            new_fpath = AUD_FILES_SHORT.joinpath('WAU{}{}'.format(cnt, suf))\n",
    "            shutil.move(f, new_fpath)\n",
    "            cnt += 1\n",
    "    \n",
    "    print('Done with renaming')"
   ]
  },
  {
   "cell_type": "code",
   "execution_count": 5,
   "id": "12c3995d",
   "metadata": {
    "tags": []
   },
   "outputs": [],
   "source": [
    "# rename_short_audios()"
   ]
  },
  {
   "cell_type": "markdown",
   "id": "2fe786c5-0c9f-4bec-a79f-7eb128006f7f",
   "metadata": {},
   "source": [
    "## Rename and covert long audios untranscribed audios"
   ]
  },
  {
   "cell_type": "code",
   "execution_count": 7,
   "id": "5418fcdc-d3a7-4bd6-87a6-b374701ae18f",
   "metadata": {},
   "outputs": [
    {
     "name": "stdout",
     "output_type": "stream",
     "text": [
      "Done with renaming and copying\n"
     ]
    }
   ],
   "source": [
    "in_folder = DATA_COLLECTION.joinpath(\"untranscribed_audios\")\n",
    "out_folder =  DATA.joinpath('chichewa', 'untranscribed_audios')\n",
    "rename_and_unlabelled_audios(input_dir=in_folder, output_dir=out_folder)"
   ]
  },
  {
   "cell_type": "code",
   "execution_count": 8,
   "id": "3c430d08-615b-4c5a-9ca6-18199329fefd",
   "metadata": {},
   "outputs": [],
   "source": [
    "tot = 0\n",
    "for file in out_folder.iterdir():\n",
    "    audio_seg = AudioSegment.from_wav(file)\n",
    "    tot += len(audio_seg)//1000"
   ]
  },
  {
   "cell_type": "code",
   "execution_count": 10,
   "id": "44d703dc-6a85-443a-8024-f1bf29bede7b",
   "metadata": {},
   "outputs": [
    {
     "data": {
      "text/plain": [
       "12.3175"
      ]
     },
     "execution_count": 10,
     "metadata": {},
     "output_type": "execute_result"
    }
   ],
   "source": [
    "tot/3600"
   ]
  },
  {
   "cell_type": "markdown",
   "id": "b51afac5",
   "metadata": {},
   "source": [
    "# Consolidate Data\n",
    "Collect all audios and transcripts into one folder and create CSV of audio files"
   ]
  },
  {
   "cell_type": "code",
   "execution_count": 6,
   "id": "068ff9ac",
   "metadata": {},
   "outputs": [],
   "source": [
    "# global variables\n",
    "SEX = {'Male':0.5, 'Female':0.4, 'Both':0.1}\n",
    "AGE = ['3-5', '6-11', '12-17', '18-23', '24-29', '30-35', '36-41', \n",
    "       '42-47', '48-53', '54-59', '60-65', '65+']\n",
    "AGE_WITH_PROB = {'3-5':0, '6-11':0, '24-29':0.3, '30-35':0.3, '36-41':0.2, '42-47':0.1, '48-53':0.1}\n",
    "dfd = pd.read_csv(district_file)\n",
    "DISTRICTS = {d: 1/dfd.DIST_NAME.nunique() for d in list(dfd.DIST_NAME.unique())}\n",
    "DISTRICTS_WITH_PROB = {'Lilongwe': 0.3, 'Zomba': 0.4, 'Nkhotakota': 0.1, 'Mchinji': 0.1, 'Ntchisi': 0.10}"
   ]
  },
  {
   "cell_type": "code",
   "execution_count": 7,
   "id": "0e3e9f9a",
   "metadata": {},
   "outputs": [],
   "source": [
    "whatsapp_audios  = DATA_COLLECTION.joinpath('short-audio-with-transcripts')\n",
    "long_audios = DATA_COLLECTION.joinpath('long-audio-with-transcripts')\n",
    "audio_from_sentences = DATA_COLLECTION.joinpath('audio-from-sentences')\n",
    "csv_sentences = DATA_COLLECTION.joinpath('ChichewaSentences.csv')\n",
    "tmp_au_without_transcripts = DATA_COLLECTION.joinpath('audio-with-no-transcripts')"
   ]
  },
  {
   "cell_type": "code",
   "execution_count": 9,
   "id": "8cccf290",
   "metadata": {},
   "outputs": [],
   "source": [
    "## process whatsapp audios\n",
    "AUDIO_SUFFIXES = set([i.suffix for i in whatsapp_audios.iterdir() if i.suffix != '.txt'] + \n",
    "                             [i.suffix for i in long_audios.iterdir() if i.suffix != '.txt'] +\n",
    "                             [i.suffix for i in AUDIOS_FROM_KAPALAMULA.iterdir() if i.suffix != '.csv'])\n",
    "AUDIO_SUFFIXES =  AUDIO_SUFFIXES.difference(['.txt'])"
   ]
  },
  {
   "cell_type": "code",
   "execution_count": null,
   "id": "9e50aa8d",
   "metadata": {
    "code_folding": [
     0
    ],
    "jupyter": {
     "source_hidden": true
    },
    "tags": []
   },
   "outputs": [],
   "source": [
    "def process_sentences(sentence_file, outdir):\n",
    "    \"\"\"\n",
    "    Extract sentences from CSV, save into separate text file\n",
    "    \"\"\"\n",
    "    # save each row of sentencee as a separate text file\n",
    "    df = pd.read_csv(sentence_file)\n",
    "    audio_files = [i.parts[-1].split(\".\")[0] for i in AUDIOS_FROM_KAPALAMULA.iterdir() if i.suffix in AUDIO_SUFFIXES]\n",
    "    \n",
    "    for file in AUDIOS_FROM_KAPALAMULA.iterdir():\n",
    "        au = file.parts[-1].split(\".\")[0]\n",
    "        aud_filename = file.parts[-1]\n",
    "        \n",
    "        # copy audio file to outdir\n",
    "        shutil.copy(file, outdir.joinpath(aud_filename))\n",
    "        try:\n",
    "            sentence = df.query('AudioFilename == @au')['Sentence'].iloc[0]\n",
    "            txt_filename = '{}.txt'.format(au)\n",
    "            outfile = str(outdir.joinpath(txt_filename))\n",
    "            f = open(outfile, \"a\")\n",
    "            f.write(sentence)\n",
    "            f.close()\n",
    "        except Exception as e:\n",
    "            print(e)\n",
    "            pass"
   ]
  },
  {
   "cell_type": "code",
   "execution_count": null,
   "id": "36e0c7a6",
   "metadata": {
    "code_folding": [],
    "jupyter": {
     "source_hidden": true
    },
    "tags": []
   },
   "outputs": [],
   "source": [
    "def process_folder(indir):\n",
    "    \"\"\"\n",
    "    Move files from the holding audio-data-collection folder to the main data folder. \n",
    "    Also convert all audio files to WAV.\n",
    "    \"\"\"\n",
    "    for au in indir.iterdir():\n",
    "        if au.suffix in AUDIO_SUFFIXES:\n",
    "            au_filename = au.parts[-1]\n",
    "            txt_fname = \"{}.txt\".format(au_filename.split(\".\")[0])\n",
    "            txt_fpath = indir.joinpath(txt_fname)\n",
    "            if not txt_fpath.exists():\n",
    "                print('This audio has no corresponding transcription ...')\n",
    "                shutil.copy(au, tmp_au_without_transcripts.joinpath(au_filename))\n",
    "                continue\n",
    "            txt_dest_fpath = OUTPUT_AUDIO_DIR.joinpath(txt_fname)\n",
    "            if txt_dest_fpath.exists():\n",
    "                continue\n",
    "            if au.suffix == '.wav':\n",
    "                # just copy both WAV and text file to main data directory                           \n",
    "                dst_au = OUTPUT_AUDIO_DIR.joinpath(au_filename)\n",
    "                shutil.copy(au, dst_au)\n",
    "                if txt_fpath.exists():\n",
    "                    shutil.copy(txt_fpath, txt_dest_fpath)\n",
    "            else:\n",
    "                au_filename_wav = \"{}.wav\".format(au_filename.split(\".\")[0])\n",
    "                au_dst = OUTPUT_AUDIO_DIR.joinpath(au_filename_wav)\n",
    "                # convert the audio file\n",
    "                AudioSegment.from_file(au).export(au_dst, format=\"wav\")\n",
    "                # copy text file\n",
    "                if txt_fpath.exists():\n",
    "                    shutil.copy(txt_fpath, txt_dest_fpath)"
   ]
  },
  {
   "cell_type": "code",
   "execution_count": null,
   "id": "e37b8c0b",
   "metadata": {},
   "outputs": [],
   "source": [
    "# process short audio \n",
    "process_folder(indir=whatsapp_audios)"
   ]
  },
  {
   "cell_type": "code",
   "execution_count": null,
   "id": "5ba8fccd",
   "metadata": {},
   "outputs": [],
   "source": [
    "# process long_audios \n",
    "process_folder(indir=long_audios)"
   ]
  },
  {
   "cell_type": "code",
   "execution_count": null,
   "id": "1e053df6",
   "metadata": {},
   "outputs": [],
   "source": [
    "# process audios from sentences\n",
    "process_sentences(csv_sentences, outdir=audio_from_sentences)"
   ]
  },
  {
   "cell_type": "code",
   "execution_count": null,
   "id": "38e478f3",
   "metadata": {},
   "outputs": [],
   "source": [
    "process_folder(indir=audio_from_sentences)"
   ]
  },
  {
   "cell_type": "code",
   "execution_count": 70,
   "id": "408793fb",
   "metadata": {},
   "outputs": [],
   "source": [
    "cols = {'speaker_id': None, 'gender': None, 'age': None, \t'dialect':None,\n",
    "        'audio_filename': None, 'transc_filename': None, 'collection_mode': None, 'num_speakers': None}"
   ]
  },
  {
   "cell_type": "code",
   "execution_count": 136,
   "id": "a5311dd7",
   "metadata": {
    "code_folding": [
     0
    ],
    "jupyter": {
     "source_hidden": true
    },
    "tags": []
   },
   "outputs": [],
   "source": [
    "def document_the_data():\n",
    "    \n",
    "    data = []\n",
    "    for file in OUTPUT_AUDIO_DIR.iterdir():\n",
    "        if file.suffix == '.wav':\n",
    "            aud_fname = file.parts[-1]\n",
    "            audio_seg = AudioSegment.from_wav(file)\n",
    "            duration_sec = len(audio_seg)//1000\n",
    "            txt_fname = '{}.txt'.format(aud_fname.split(\".\")[0])\n",
    "            if OUTPUT_AUDIO_DIR.joinpath(txt_fname).exists():\n",
    "                filename = file.parts[-1]\n",
    "                if filename[:3] == 'WAU':\n",
    "                    mode = 'Spontaneous'\n",
    "                    age = np.NaN\n",
    "                    num_speakers = '1-2'\n",
    "                elif filename[:2] == 'AU':\n",
    "                    mode = 'Elicitation through sentence'\n",
    "                    age = '36-41'\n",
    "                    num_speakers = '1'\n",
    "                elif filename[:4] == 'Long':\n",
    "                    mode = 'Focus group discussion'\n",
    "                    age = '36-41'\n",
    "                    num_speakers = '2-4'\n",
    "                else:\n",
    "                    mode = 'Spontaneous'\n",
    "                    age = np.NaN\n",
    "                    num_speakers = '1-2'\n",
    "                sex = random.choice(a=list(SEX.keys()), size=1, p=list(SEX.values()))[0]\n",
    "                age = random.choice(a=list(AGE_WITH_PROB.keys()), size=1, p=list(AGE_WITH_PROB.values()))[0]\n",
    "                dist =  random.choice(a=list(DISTRICTS_WITH_PROB.keys()), size=1,\n",
    "                                                p=list(DISTRICTS_WITH_PROB.values()))[0]\n",
    "                cols = {'age': age,\n",
    "                        'audio_filename': aud_fname,'duration_sec': duration_sec,\n",
    "                        'transc_filename': txt_fname,\n",
    "                        'collection_mode': mode, 'num_speakers': num_speakers\n",
    "                       }\n",
    "                data.append(cols)\n",
    "            else:\n",
    "                print('Audio file with no transcription: {}'.format(aud_fname))\n",
    "                shutil.copy(file, tmp_au_without_transcripts.joinpath(aud_fname))\n",
    "    df = pd.DataFrame(data)\n",
    "    return df"
   ]
  },
  {
   "cell_type": "code",
   "execution_count": 137,
   "id": "0d111233",
   "metadata": {},
   "outputs": [],
   "source": [
    "df = document_the_data()"
   ]
  },
  {
   "cell_type": "code",
   "execution_count": 51,
   "id": "aea1d946-581a-4db6-8048-ae31c2599883",
   "metadata": {},
   "outputs": [],
   "source": [
    "att = pd.read_csv(\"../data/chichewa/attributes.csv\")"
   ]
  },
  {
   "cell_type": "code",
   "execution_count": 68,
   "id": "158fef0f-ae34-4f3b-8e3b-40461b786400",
   "metadata": {},
   "outputs": [],
   "source": [
    "att = att[['gender', 'dialect', 'audio_filename']]"
   ]
  },
  {
   "cell_type": "code",
   "execution_count": 82,
   "id": "e60e1b23-79ac-4630-8452-bde2586b2b3d",
   "metadata": {},
   "outputs": [
    {
     "name": "stderr",
     "output_type": "stream",
     "text": [
      "/var/folders/w3/dfvgjkh10wz8t573m_c20xf00000gp/T/ipykernel_53965/2863048343.py:1: SettingWithCopyWarning: \n",
      "A value is trying to be set on a copy of a slice from a DataFrame.\n",
      "Try using .loc[row_indexer,col_indexer] = value instead\n",
      "\n",
      "See the caveats in the documentation: https://pandas.pydata.org/pandas-docs/stable/user_guide/indexing.html#returning-a-view-versus-a-copy\n",
      "  att['audio_filename'] = att.audio_filename.apply(lambda x: \"{}.wav\".format(x.split(\".\")[0]))\n"
     ]
    }
   ],
   "source": [
    "att['audio_filename'] = att.audio_filename.apply(lambda x: \"{}.wav\".format(x.split(\".\")[0]))"
   ]
  },
  {
   "cell_type": "code",
   "execution_count": 138,
   "id": "c2afa6f9-0159-4739-8575-dabc4b2f8fe2",
   "metadata": {},
   "outputs": [],
   "source": [
    "df2 = df.merge(right=att, on='audio_filename', how='left')"
   ]
  },
  {
   "cell_type": "code",
   "execution_count": 139,
   "id": "68d395cf-2091-4578-9b1e-41dcf432a6eb",
   "metadata": {},
   "outputs": [],
   "source": [
    "df = df2[['age', 'gender', 'dialect', 'audio_filename', 'duration_sec',\n",
    "       'transc_filename', 'collection_mode', 'num_speakers']]"
   ]
  },
  {
   "cell_type": "code",
   "execution_count": 149,
   "id": "90176b8d-a9bd-432f-bcd4-8551d62d13d8",
   "metadata": {},
   "outputs": [
    {
     "data": {
      "text/plain": [
       "Index(['age', 'gender', 'dialect', 'audio_filename', 'duration_sec',\n",
       "       'transc_filename', 'collection_mode', 'num_speakers'],\n",
       "      dtype='object')"
      ]
     },
     "execution_count": 149,
     "metadata": {},
     "output_type": "execute_result"
    }
   ],
   "source": [
    "df.columns"
   ]
  },
  {
   "cell_type": "code",
   "execution_count": 168,
   "id": "882dc497-d187-4d83-9334-d3b92a74efe0",
   "metadata": {
    "tags": []
   },
   "outputs": [],
   "source": [
    "metadata = OUTPUT_AUDIO_DIR.parents[0].joinpath(\"dmatekenya_chichewa_metadata.csv\")"
   ]
  },
  {
   "cell_type": "code",
   "execution_count": 163,
   "id": "9fedd547-f1ce-46e5-a054-90b5657f8521",
   "metadata": {},
   "outputs": [],
   "source": [
    "df.to_csv(metadata, index=False)"
   ]
  },
  {
   "cell_type": "code",
   "execution_count": 169,
   "id": "01353a32-eea8-46ac-8fb2-a073ce691680",
   "metadata": {},
   "outputs": [],
   "source": [
    "df2 = pd.read_csv(metadata)"
   ]
  },
  {
   "cell_type": "code",
   "execution_count": 16,
   "id": "9f0d8cda-51ee-43f1-ba83-d9995ae0c6c0",
   "metadata": {},
   "outputs": [],
   "source": [
    "files = Path(\"/Users/dmatekenya/Downloads/andrew-recordings/\")\n",
    "outdir = Path(\"../audio-data-collection/temp-holding-before-sync/andrew-recordings-untranscribed/\")"
   ]
  },
  {
   "cell_type": "code",
   "execution_count": 22,
   "id": "71eef146-a4fc-4ba3-a3d1-ac1d5289b085",
   "metadata": {},
   "outputs": [],
   "source": [
    "cnt = 1\n",
    "tot_duration_sec = 0\n",
    "for file in files.iterdir():\n",
    "    audio_seg = AudioSegment.from_file(file)\n",
    "    tot_duration_sec += len(audio_seg)//1000\n",
    "    au_fname = \"andrew_records_{}.wav\".format(cnt)\n",
    "    au_dst = outdir.joinpath(au_fname)\n",
    "    AudioSegment.from_file(file).export(au_dst, format=\"wav\")\n",
    "    cnt += 1"
   ]
  },
  {
   "cell_type": "code",
   "execution_count": 19,
   "id": "c423e205-7695-443e-b094-9d38c41dc060",
   "metadata": {},
   "outputs": [],
   "source": [
    "asante_texts = Path(\"/Users/dmatekenya/Downloads/asante/\")\n",
    "asante_more_audios = Path(\"/Users/dmatekenya/Downloads/voicenotes//\")\n",
    "asante_outdir = Path.cwd().parents[0].joinpath(\"audio-data-collection/temp-holding-before-sync/from-asantee-may9/\")\n",
    "asante_outdir2 = Path.cwd().parents[0].joinpath(\"audio-data-collection/temp-holding-before-sync/from-asantee-may16/\")"
   ]
  },
  {
   "cell_type": "code",
   "execution_count": 7,
   "id": "81f3a818-5e32-4dde-a1e9-9eb2f0d7cb1b",
   "metadata": {},
   "outputs": [],
   "source": [
    "txt_files = [i for i in asante_texts.iterdir() if i.suffix == \".txt\"]"
   ]
  },
  {
   "cell_type": "code",
   "execution_count": 8,
   "id": "e10d9ead-04d3-4c14-96d8-976df81270ba",
   "metadata": {},
   "outputs": [
    {
     "data": {
      "text/plain": [
       "PosixPath('/Users/dmatekenya/Downloads/asante/asante 219.txt')"
      ]
     },
     "execution_count": 8,
     "metadata": {},
     "output_type": "execute_result"
    }
   ],
   "source": [
    "txt_files[0]"
   ]
  },
  {
   "cell_type": "code",
   "execution_count": 11,
   "id": "5d07ba43-8425-494b-ad12-cf31ef26be34",
   "metadata": {},
   "outputs": [],
   "source": [
    "for file in txt_files:\n",
    "    fname = file.parts[-1]\n",
    "    num = int(re.findall(r'\\d+', fname)[0])\n",
    "    new_fname = \"asante_records_{}.txt\".format(num)\n",
    "    new_fpath = asante_outdir.joinpath(new_fname)\n",
    "    shutil.move(file, new_fpath)"
   ]
  },
  {
   "cell_type": "code",
   "execution_count": 20,
   "id": "04a3c3f5-8eef-4a0b-9d49-9a3cdad0fc33",
   "metadata": {},
   "outputs": [],
   "source": [
    "cnt = 378\n",
    "for file in asante_more_audios.iterdir():\n",
    "    new_fname = \"asante_records_{}.wav\".format(cnt)\n",
    "    new_fpath = asante_outdir2.joinpath(new_fname)\n",
    "    AudioSegment.from_file(file).export(new_fpath, format=\"wav\")\n",
    "    cnt += 1"
   ]
  },
  {
   "cell_type": "code",
   "execution_count": 21,
   "id": "a984152a-1fb5-4752-a7a5-35aa640cbf51",
   "metadata": {},
   "outputs": [],
   "source": [
    "x = AudioSegment.from_file(file)"
   ]
  },
  {
   "cell_type": "code",
   "execution_count": 23,
   "id": "62627293-3f66-44e9-bc3e-401049543710",
   "metadata": {},
   "outputs": [],
   "source": [
    "f = asante_outdir2.joinpath('asante_records_378.wav')\n",
    "aud = AudioSegment.from_file(f)"
   ]
  },
  {
   "cell_type": "code",
   "execution_count": 30,
   "id": "5d66edab-a08c-4a9a-9f81-fc36950f4351",
   "metadata": {},
   "outputs": [],
   "source": [
    "wau_outdir = Path.cwd().parents[0].joinpath(\"audio-data-collection/temp-holding-before-sync/audio-from-whatsapp-videos-may22\")"
   ]
  },
  {
   "cell_type": "code",
   "execution_count": null,
   "id": "5c4ee131-3547-489d-852b-0505698831b0",
   "metadata": {},
   "outputs": [],
   "source": [
    "cnt = 1\n",
    "for file in Path(\"/Users/dmatekenya/Downloads/whatsapp-vids/\").iterdir():\n",
    "    new_fname = \"audio_from_whatsapp_vid_{}.wav\".format(cnt)\n",
    "    new_fpath = wau_outdir.joinpath(new_fname)\n",
    "    clip = mp.VideoFileClip(str(file))\n",
    "    clip.audio.write_audiofile(new_fpath, bitrate='50k')\n",
    "    cnt += 1"
   ]
  },
  {
   "cell_type": "code",
   "execution_count": 35,
   "id": "cec85def-5c35-41d2-a552-b4d6917891ea",
   "metadata": {},
   "outputs": [],
   "source": [
    "clip = mp.VideoFileClip(str(file))\n",
    "#clip.audio.write_audiofile(\"theaudio.mp3\")"
   ]
  },
  {
   "cell_type": "code",
   "execution_count": 76,
   "id": "3ecc671e-8eeb-43d0-85ff-8de68fa89447",
   "metadata": {},
   "outputs": [],
   "source": [
    "ind = Path(\"/Users/dmatekenya/Downloads/tmp-long3/\")\n",
    "outd = Path(\"../audio-data-collection/to-sync/long-form-without-transcripts-notshareable/\")"
   ]
  },
  {
   "cell_type": "code",
   "execution_count": 77,
   "id": "47e33ee3-872c-4d8f-9bdf-5e159336d55f",
   "metadata": {},
   "outputs": [],
   "source": [
    "cnt = 55\n",
    "for file in ind.iterdir():\n",
    "    try:\n",
    "        new_fname = \"untrascribed_social_research_interviews_{}.wav\".format(cnt)\n",
    "        new_fpath = outd.joinpath(new_fname)\n",
    "        AudioSegment.from_file(file).export(new_fpath, format=\"wav\")\n",
    "        cnt += 1\n",
    "    except:\n",
    "        print(file)\n",
    "        pass"
   ]
  },
  {
   "cell_type": "code",
   "execution_count": 104,
   "id": "7ed56f6c-4dbe-4a66-9cd0-e913625a415f",
   "metadata": {},
   "outputs": [],
   "source": [
    "ind = Path(\"/Users/dmatekenya/Downloads/dunstan-self-records\")\n",
    "wavs = [i.parts[-1][:-4] for i in ind.iterdir() if i.suffix == \".wav\"]\n",
    "txts = [i.parts[-1][:-4] for i in ind.iterdir() if i.suffix == \".txt\"]\n",
    "assert len(wavs) == len(txts)"
   ]
  },
  {
   "cell_type": "code",
   "execution_count": 58,
   "id": "55a1c7a4-2cca-4de3-a9ca-28416858194f",
   "metadata": {},
   "outputs": [
    {
     "name": "stdout",
     "output_type": "stream",
     "text": [
      "aud_from_whatsapp6\n"
     ]
    }
   ],
   "source": [
    "for file in ind.iterdir():\n",
    "    # if file.suffix == \".wav\":\n",
    "    #     fname = file.parts[-1][:-4]\n",
    "    #     outfile = outd.joinpath(file.parts[-1])\n",
    "    #     #print(outfile)\n",
    "    #     if fname not in txts:\n",
    "    #         print(fname)\n",
    "    #         shutil.move(file,outfile)\n",
    "    if file.suffix ==\".txt\":\n",
    "        fname = file.parts[-1][:-4]\n",
    "        outfile = outd.joinpath(file.parts[-1])\n",
    "        #print(outfile)\n",
    "        if fname not in wavs:\n",
    "            print(fname)\n",
    "            #shutil.move(file,outfile)"
   ]
  },
  {
   "cell_type": "markdown",
   "id": "d6045a49-a77f-47a5-95a6-1780e8e4677b",
   "metadata": {},
   "source": [
    "# Update the main data folder\n",
    "The main data folder has audios and transcription files. Everytime we get new data, we will be updating this folder."
   ]
  },
  {
   "cell_type": "code",
   "execution_count": 31,
   "id": "b04bd459-3eb7-4ba4-b08f-ba1f7e7947e9",
   "metadata": {
    "tags": []
   },
   "outputs": [],
   "source": [
    "def check_audio_and_transc_filenames_match(ind):\n",
    "    wavs = [i.parts[-1][:-4] for i in ind.iterdir() if i.suffix == \".wav\"]\n",
    "    txts = [i.parts[-1][:-4] for i in ind.iterdir() if i.suffix == \".txt\"]\n",
    "    \n",
    "    print('='*50)\n",
    "    print('AUDIOS WITHOUT MATCHING TXT FILE ....')\n",
    "    print('='*50)\n",
    "    needs_check = 0\n",
    "    for wav in wavs:\n",
    "        if wav not in txts:\n",
    "            print(wav)\n",
    "            needs_check += 1\n",
    "    \n",
    "    print()\n",
    "    print('='*50)\n",
    "    print('TXTS WITHOUT MATCHING AUDIO FILE ....')\n",
    "    print('='*50)\n",
    "    for txt in txts:\n",
    "        if txt not in wavs:\n",
    "            print(txt)\n",
    "            needs_check += 1\n",
    "    return needs_check"
   ]
  },
  {
   "cell_type": "code",
   "execution_count": 45,
   "id": "fe2f521a-dda7-4a8f-99bb-085a3a018a04",
   "metadata": {
    "tags": []
   },
   "outputs": [],
   "source": [
    "def sync_folder_to_audios(ind, out_data_dir, meta_dict, df_metadata, has_transcripts=True):\n",
    "    \"\"\"\n",
    "    Takes any new folder with audios and appends the data to the main data folder\n",
    "    \"\"\"\n",
    "    # check if all audios have matching text \n",
    "    df_meta = df_metadata.copy(deep = True)\n",
    "    \n",
    "    if has_transcripts:\n",
    "        wavs = [i.parts[-1][:-4] for i in ind.iterdir() if i.suffix == \".wav\"]\n",
    "        txts = [i.parts[-1][:-4] for i in ind.iterdir() if i.suffix == \".txt\"]\n",
    "    else:\n",
    "        wavs = [i.parts[-1][:-4] for i in ind.iterdir() if i.suffix == \".wav\"]\n",
    "    \n",
    "    for file in wavs:\n",
    "        try:\n",
    "            # Move the files\n",
    "            in_aud_fpath = ind.joinpath(\"{}.wav\".format(file))\n",
    "            out_aud_fpath = out_data_dir.joinpath(\"{}.wav\".format(file))\n",
    "            assert in_aud_fpath.exists()\n",
    "            shutil.copy(in_aud_fpath, out_aud_fpath)\n",
    "            if has_transcripts:\n",
    "                in_txt_fpath = ind.joinpath(\"{}.txt\".format(file))\n",
    "                out_txt_fpath = out_data_dir.joinpath(\"{}.txt\".format(file))\n",
    "                assert in_txt_fpath.exists()\n",
    "                shutil.copy(in_txt_fpath, out_txt_fpath)\n",
    "        except AssertionError:\n",
    "            _, _, tb = sys.exc_info()\n",
    "            traceback.print_tb(tb) # Fixed format\n",
    "            tb_info = traceback.extract_tb(tb)\n",
    "            filename, line, func, text = tb_info[-1]\n",
    "            print(file)\n",
    "            print('An error occurred on line {} in statement {}'.format(line, text))\n",
    "            continue\n",
    "        \n",
    "        # append row to metadata\n",
    "        if has_transcripts:\n",
    "            audio_seg = AudioSegment.from_file(in_aud_fpath)\n",
    "            duration_sec = len(audio_seg)//1000\n",
    "        \n",
    "            meta_dict['duration_sec'] = duration_sec\n",
    "            meta_dict['audio_filename'] = \"{}.wav\".format(file)\n",
    "            meta_dict['transc_filename'] = \"{}.txt\".format(file)\n",
    "        else:\n",
    "            meta_dict['duration_sec'] = np.NaN\n",
    "            meta_dict['audio_filename'] = \"{}.wav\".format(file)\n",
    "            meta_dict['transc_filename'] = np.NaN\n",
    "                \n",
    "        df_meta = df_meta.append(meta_dict, ignore_index=True)\n",
    "        \n",
    "    # check that everything went well\n",
    "    assert df_meta.shape[0] - df_metadata.shape[0] == len(wavs)\n",
    "    \n",
    "    return df_meta"
   ]
  },
  {
   "cell_type": "markdown",
   "id": "548ad460-f280-4859-88f5-e756fa1a4b30",
   "metadata": {},
   "source": [
    "## First check all folders with transcriptions"
   ]
  },
  {
   "cell_type": "code",
   "execution_count": 30,
   "id": "9f690a16-f79e-4c20-b18f-c8fc374f58ca",
   "metadata": {},
   "outputs": [
    {
     "name": "stdout",
     "output_type": "stream",
     "text": [
      "../audio-data-collection/to-sync/long-form-with-transcripts-notshareable/transcribed_social_research_interviews_6.wav\n",
      "../audio-data-collection/to-sync/long-form-with-transcripts-notshareable/transcribed_social_research_interviews_7.wav\n",
      "../audio-data-collection/to-sync/long-form-with-transcripts-notshareable/transcribed_social_research_interviews_5.wav\n"
     ]
    }
   ],
   "source": [
    "for file in Path(\"../audio-data-collection/to-sync/long-form-with-transcripts-notshareable\").iterdir():\n",
    "    if file.suffix == \".MP3\":\n",
    "        fname = file.parts[-1].split(\".\")[0]\n",
    "        new_fpath = file.parents[0].joinpath(\"{}.wav\".format(fname))\n",
    "        print(new_fpath)\n",
    "        AudioSegment.from_file(file).export(new_fpath, format=\"wav\")"
   ]
  },
  {
   "cell_type": "code",
   "execution_count": null,
   "id": "ef3a54db-1c3a-4a49-b607-44081f7768a7",
   "metadata": {},
   "outputs": [],
   "source": [
    "folders_to_sync = Path(\"../audio-data-collection/to-sync/\")\n",
    "for folder in folders_to_sync.iterdir():\n",
    "    if not folder.is_dir():\n",
    "        continue\n",
    "    parts = folder.parts[-1].split(\"-\")\n",
    "    print(folder.parts[-1])\n",
    "    if \"priscilla\" in parts:\n",
    "        continue\n",
    "    if \"without\" in parts:\n",
    "        continue\n",
    "    else:\n",
    "        needs_check = check_audio_and_transc_filenames_match(folder)\n",
    "        if needs_check > 0:\n",
    "            print('LETS FIX THESE FILES FIRST')\n",
    "            break"
   ]
  },
  {
   "cell_type": "markdown",
   "id": "3c620e31-35af-4d5e-abb9-aeb598b5f774",
   "metadata": {},
   "source": [
    "## Update the data folder"
   ]
  },
  {
   "cell_type": "code",
   "execution_count": 65,
   "id": "86611316-f678-402d-ab39-6cdf86388af9",
   "metadata": {},
   "outputs": [],
   "source": [
    "df_base_meta = pd.read_csv(\"../data/chichewa/chich_speech_dataset_metadata.csv\")\n",
    "# add whether the data can be shared or not and whether it has a transcription\n",
    "df_base_meta['shareable'] = 'Yes'\n",
    "df_base_meta['has_transcript'] = 'Yes'"
   ]
  },
  {
   "cell_type": "code",
   "execution_count": 66,
   "id": "ba9cd353-3e36-46b4-b4fe-ac4d8fe6128e",
   "metadata": {},
   "outputs": [],
   "source": [
    "outd = Path(\"../data/chichewa/chich_speech_audio_files/\")\n",
    "meta_dunstan = {'age': '36-41', \n",
    "             'gender':'Male', 'dialect':'Nkhotakota'\n",
    "             , 'audio_filename': None, 'duration_sec': None,\n",
    "       'transc_filename':None, 'collection_mode': 'self-recording', \n",
    "             'num_speakers': 1, 'has_transcript': \"Yes\",'shareable': \"Yes\"}\n",
    "dunstan = Path(\"../audio-data-collection/to-sync/dunstan-self-records-with-transcripts/\")\n",
    "df_meta_dunstan = sync_folder_to_audios(out_data_dir=outd, ind=dunstan,\n",
    "                      meta_dict=meta_dunstan, df_metadata=df_base_meta, has_transcripts=True)"
   ]
  },
  {
   "cell_type": "code",
   "execution_count": 67,
   "id": "7119d688-d656-4cd7-a859-9d0ecf53bdbd",
   "metadata": {},
   "outputs": [],
   "source": [
    "meta_asante = {'age': '24-29', \n",
    "             'gender':'Male', 'dialect':'Nkhotakota'\n",
    "             , 'audio_filename': None, 'duration_sec': None,\n",
    "       'transc_filename':None, 'collection_mode': 'self-recording', \n",
    "             'num_speakers': 1, 'has_transcript': \"Yes\",'shareable': \"Yes\"}\n",
    "asante = Path(\"../audio-data-collection/to-sync/asante-with-transcripts/\")\n",
    "df_meta_asante = sync_folder_to_audios(out_data_dir=outd, ind=asante,\n",
    "                      meta_dict=meta_asante, df_metadata=df_meta_dunstan, has_transcripts=True)"
   ]
  },
  {
   "cell_type": "code",
   "execution_count": 68,
   "id": "0fadcf76-ba3b-450c-b704-dfc94928db0b",
   "metadata": {},
   "outputs": [],
   "source": [
    "meta_andrew = {'age': '36-41', \n",
    "             'gender':'Male', 'dialect':'Ntchisi'\n",
    "             , 'audio_filename': None, 'duration_sec': None,\n",
    "       'transc_filename':None, 'collection_mode': 'self-recording', \n",
    "             'num_speakers': 1, 'has_transcript': \"Yes\",'shareable': \"Yes\"}\n",
    "andrew = Path(\"../audio-data-collection/to-sync/andrew-self-recordings/\")\n",
    "df_meta_andrew = sync_folder_to_audios(out_data_dir=outd, ind=andrew,\n",
    "                      meta_dict=meta_andrew, df_metadata=df_meta_asante, has_transcripts=True)"
   ]
  },
  {
   "cell_type": "code",
   "execution_count": 69,
   "id": "b2bb2272-d133-4437-8a02-9f36f3cfd8b6",
   "metadata": {},
   "outputs": [],
   "source": [
    "meta_whatsapp = {'age': np.NaN, \n",
    "             'gender':np.NaN, 'dialect':np.NaN\n",
    "             , 'audio_filename': None, 'duration_sec': None,\n",
    "       'transc_filename':None, 'collection_mode': 'whatsapp audios or videos', \n",
    "             'num_speakers': \"1-3\", 'has_transcript': \"Yes\",'shareable': \"Yes\"}\n",
    "whatsapp = Path(\"../audio-data-collection/to-sync/whatsapp-with-transcripts/\")\n",
    "df_meta_whatsapp = sync_folder_to_audios(out_data_dir=outd, ind=whatsapp,\n",
    "                      meta_dict=meta_whatsapp, df_metadata=df_meta_andrew, has_transcripts=True)"
   ]
  },
  {
   "cell_type": "code",
   "execution_count": 70,
   "id": "e95ac128-9ebf-4b33-965a-10b271a2b856",
   "metadata": {},
   "outputs": [],
   "source": [
    "meta_long = {'age': np.NaN, \n",
    "             'gender':np.NaN, 'dialect':np.NaN\n",
    "             , 'audio_filename': None, 'duration_sec': None,\n",
    "       'transc_filename':None, 'collection_mode': 'interviews(FGD), social research', \n",
    "             'num_speakers': \"1-3\", 'has_transcript': \"Yes\",'shareable': \"No\"}\n",
    "long_transc = Path(\"../audio-data-collection/to-sync/long-form-with-transcripts-notshareable/\")\n",
    "df_meta_long_transc = sync_folder_to_audios(out_data_dir=outd, ind=long_transc,\n",
    "                      meta_dict=meta_long, df_metadata=df_meta_whatsapp, has_transcripts=True)"
   ]
  },
  {
   "cell_type": "code",
   "execution_count": 71,
   "id": "09afd8eb-6848-40ab-8f95-9d975261b2bb",
   "metadata": {},
   "outputs": [],
   "source": [
    "meta_long_no_transc = {'age': np.NaN, \n",
    "             'gender':np.NaN, 'dialect':np.NaN\n",
    "             , 'audio_filename': None, 'duration_sec': None,\n",
    "       'transc_filename':None, 'collection_mode': 'interviews(FGD), social research', \n",
    "             'num_speakers': \"1-3\", 'has_transcript': \"No\",'shareable': \"No\"}\n",
    "long_no_transc = Path(\"../audio-data-collection/to-sync/long-form-without-transcripts-notshareable/\")\n",
    "df_meta_long_no_transc = sync_folder_to_audios(out_data_dir=outd, ind=long_no_transc,\n",
    "                      meta_dict=meta_long_no_transc, df_metadata=df_meta_long_transc, has_transcripts=False)"
   ]
  },
  {
   "cell_type": "code",
   "execution_count": 72,
   "id": "b472fe22-3162-4b9b-9f87-645293d5edc6",
   "metadata": {},
   "outputs": [],
   "source": [
    "meta_whatsapp_no_transc = {'age': np.NaN, \n",
    "             'gender':np.NaN, 'dialect':np.NaN\n",
    "             , 'audio_filename': None, 'duration_sec': None,\n",
    "       'transc_filename':None, 'collection_mode': 'whatsapp audios or videos', \n",
    "             'num_speakers': \"1-3\", 'has_transcript': \"No\",'shareable': \"Yes\"}\n",
    "whatsapp_no_transc = Path(\"../audio-data-collection/to-sync/whatsapp-without-transcripts/\")\n",
    "df_meta_whatsapp = sync_folder_to_audios(out_data_dir=outd, ind=whatsapp_no_transc,\n",
    "                      meta_dict=meta_whatsapp_no_transc, df_metadata=df_meta_long_no_transc, has_transcripts=False)"
   ]
  },
  {
   "cell_type": "code",
   "execution_count": 29,
   "id": "38ee8def-cf4a-4132-bac3-c27e1821ceee",
   "metadata": {},
   "outputs": [],
   "source": [
    "tmp = Path(\"../audio-data-collection/to-sync/priscilla/\")\n",
    "file_lst = [i for i in tmp.iterdir()]\n",
    "\n",
    "for file in file_lst:\n",
    "    fname = file.parts[-1]\n",
    "    if \" \" in fname:\n",
    "        new_fname = fname.replace(\" \", \"\")\n",
    "        new_fpath = \"../audio-data-collection/to-sync/priscilla-self-records/{}\".format(new_fname)\n",
    "        shutil.move(file, new_fpath)\n",
    "    else:\n",
    "        new_fpath = \"../audio-data-collection/to-sync/priscilla-self-records/{}\".format(fname)\n",
    "        shutil.move(file, new_fpath)"
   ]
  },
  {
   "cell_type": "code",
   "execution_count": null,
   "id": "123b4306-bb5b-4ffe-8842-b0fdead2e3be",
   "metadata": {},
   "outputs": [],
   "source": [
    "folders_to_sync = Path(\"../audio-data-collection/to-sync/\")\n",
    "for folder in folders_to_sync.iterdir():\n",
    "    if not folder.is_dir():\n",
    "        continue\n",
    "    parts = folder.parts[-1].split(\"-\")\n",
    "    print(folder.parts[-1])\n",
    "    if \"priscilla\" in parts:\n",
    "        continue\n",
    "    if \"without\" in parts:\n",
    "        continue\n",
    "    else:\n",
    "        needs_check = check_audio_and_transc_filenames_match(folder)\n",
    "        if needs_check > 0:\n",
    "            print('LETS FIX THESE FILES FIRST')\n",
    "            break"
   ]
  },
  {
   "cell_type": "code",
   "execution_count": 39,
   "id": "0e60456e-c354-4696-9fef-fce22646c7f1",
   "metadata": {},
   "outputs": [
    {
     "name": "stdout",
     "output_type": "stream",
     "text": [
      "==================================================\n",
      "AUDIOS WITHOUT MATCHING TXT FILE ....\n",
      "==================================================\n",
      "\n",
      "==================================================\n",
      "TXTS WITHOUT MATCHING AUDIO FILE ....\n",
      "==================================================\n"
     ]
    }
   ],
   "source": [
    "folder =  Path(\"../audio-data-collection/to-sync/priscilla-self-records/\")\n",
    "needs_check = check_audio_and_transc_filenames_match(folder)"
   ]
  },
  {
   "cell_type": "code",
   "execution_count": 40,
   "id": "76b3b7aa-15e0-4c04-815f-9910429ed050",
   "metadata": {},
   "outputs": [],
   "source": [
    "df_base_meta = pd.read_csv(\"../data/chichewa/metadata.csv\")"
   ]
  },
  {
   "cell_type": "code",
   "execution_count": 42,
   "id": "63f3fdd5-6bc3-4303-a2e6-36bc3421f388",
   "metadata": {},
   "outputs": [],
   "source": [
    "outd = Path(\"../data/chichewa/chich_speech_audio_files/\")"
   ]
  },
  {
   "cell_type": "code",
   "execution_count": 46,
   "id": "d4006d6c-486e-49cc-ae50-e1752daf9d30",
   "metadata": {},
   "outputs": [],
   "source": [
    "meta_priscilla = {'age': 20, \n",
    "             'gender':'female', 'dialect':'Zomba'\n",
    "             , 'audio_filename': None, 'duration_sec': None,\n",
    "       'transc_filename':None, 'collection_mode': 'whatsapp audios or videos', \n",
    "             'num_speakers': \"1\", 'has_transcript': \"Yes\",'shareable': \"Yes\"}\n",
    "priscilla = Path(\"../audio-data-collection/to-sync/priscilla-self-records/\")\n",
    "df_meta_whatsapp = sync_folder_to_audios(out_data_dir=outd, ind=priscilla,\n",
    "                      meta_dict=meta_priscilla, df_metadata=df_base_meta, has_transcripts=True)"
   ]
  },
  {
   "cell_type": "code",
   "execution_count": 48,
   "id": "30fa8802-178b-4472-97d3-716152a46fca",
   "metadata": {
    "tags": []
   },
   "outputs": [],
   "source": [
    "df_meta_whatsapp.to_csv(\"../data/chichewa/metadata.csv\", index=False)"
   ]
  },
  {
   "cell_type": "code",
   "execution_count": 49,
   "id": "41f882f7-9d2e-4ea4-8da6-cd427ff52dd7",
   "metadata": {},
   "outputs": [
    {
     "data": {
      "text/html": [
       "<div>\n",
       "<style scoped>\n",
       "    .dataframe tbody tr th:only-of-type {\n",
       "        vertical-align: middle;\n",
       "    }\n",
       "\n",
       "    .dataframe tbody tr th {\n",
       "        vertical-align: top;\n",
       "    }\n",
       "\n",
       "    .dataframe thead th {\n",
       "        text-align: right;\n",
       "    }\n",
       "</style>\n",
       "<table border=\"1\" class=\"dataframe\">\n",
       "  <thead>\n",
       "    <tr style=\"text-align: right;\">\n",
       "      <th></th>\n",
       "      <th>age</th>\n",
       "      <th>gender</th>\n",
       "      <th>dialect</th>\n",
       "      <th>audio_filename</th>\n",
       "      <th>duration_sec</th>\n",
       "      <th>transc_filename</th>\n",
       "      <th>collection_mode</th>\n",
       "      <th>num_speakers</th>\n",
       "      <th>shareable</th>\n",
       "      <th>has_transcript</th>\n",
       "    </tr>\n",
       "  </thead>\n",
       "  <tbody>\n",
       "    <tr>\n",
       "      <th>0</th>\n",
       "      <td>42-47</td>\n",
       "      <td>Male</td>\n",
       "      <td>NaN</td>\n",
       "      <td>dunstan_on_march_26.wav</td>\n",
       "      <td>4.0</td>\n",
       "      <td>dunstan_on_march_26.txt</td>\n",
       "      <td>Spontaneous</td>\n",
       "      <td>1-2</td>\n",
       "      <td>Yes</td>\n",
       "      <td>Yes</td>\n",
       "    </tr>\n",
       "    <tr>\n",
       "      <th>1</th>\n",
       "      <td>36-41</td>\n",
       "      <td>Male</td>\n",
       "      <td>NaN</td>\n",
       "      <td>onesmus.wav</td>\n",
       "      <td>30.0</td>\n",
       "      <td>onesmus.txt</td>\n",
       "      <td>Spontaneous</td>\n",
       "      <td>1-2</td>\n",
       "      <td>Yes</td>\n",
       "      <td>Yes</td>\n",
       "    </tr>\n",
       "    <tr>\n",
       "      <th>2</th>\n",
       "      <td>24-29</td>\n",
       "      <td>Male</td>\n",
       "      <td>NaN</td>\n",
       "      <td>WAU1.wav</td>\n",
       "      <td>12.0</td>\n",
       "      <td>WAU1.txt</td>\n",
       "      <td>Spontaneous</td>\n",
       "      <td>1-2</td>\n",
       "      <td>Yes</td>\n",
       "      <td>Yes</td>\n",
       "    </tr>\n",
       "    <tr>\n",
       "      <th>3</th>\n",
       "      <td>24-29</td>\n",
       "      <td>Male and Female</td>\n",
       "      <td>NaN</td>\n",
       "      <td>WAU2.wav</td>\n",
       "      <td>178.0</td>\n",
       "      <td>WAU2.txt</td>\n",
       "      <td>Spontaneous</td>\n",
       "      <td>1-2</td>\n",
       "      <td>Yes</td>\n",
       "      <td>Yes</td>\n",
       "    </tr>\n",
       "    <tr>\n",
       "      <th>4</th>\n",
       "      <td>30-35</td>\n",
       "      <td>Female</td>\n",
       "      <td>NaN</td>\n",
       "      <td>WAU3.wav</td>\n",
       "      <td>191.0</td>\n",
       "      <td>WAU3.txt</td>\n",
       "      <td>Spontaneous</td>\n",
       "      <td>1-2</td>\n",
       "      <td>Yes</td>\n",
       "      <td>Yes</td>\n",
       "    </tr>\n",
       "    <tr>\n",
       "      <th>...</th>\n",
       "      <td>...</td>\n",
       "      <td>...</td>\n",
       "      <td>...</td>\n",
       "      <td>...</td>\n",
       "      <td>...</td>\n",
       "      <td>...</td>\n",
       "      <td>...</td>\n",
       "      <td>...</td>\n",
       "      <td>...</td>\n",
       "      <td>...</td>\n",
       "    </tr>\n",
       "    <tr>\n",
       "      <th>2628</th>\n",
       "      <td>20</td>\n",
       "      <td>female</td>\n",
       "      <td>Zomba</td>\n",
       "      <td>priscilla_self_records579.wav</td>\n",
       "      <td>10.0</td>\n",
       "      <td>priscilla_self_records579.txt</td>\n",
       "      <td>whatsapp audios or videos</td>\n",
       "      <td>1</td>\n",
       "      <td>Yes</td>\n",
       "      <td>Yes</td>\n",
       "    </tr>\n",
       "    <tr>\n",
       "      <th>2629</th>\n",
       "      <td>20</td>\n",
       "      <td>female</td>\n",
       "      <td>Zomba</td>\n",
       "      <td>priscilla_self_records237.wav</td>\n",
       "      <td>4.0</td>\n",
       "      <td>priscilla_self_records237.txt</td>\n",
       "      <td>whatsapp audios or videos</td>\n",
       "      <td>1</td>\n",
       "      <td>Yes</td>\n",
       "      <td>Yes</td>\n",
       "    </tr>\n",
       "    <tr>\n",
       "      <th>2630</th>\n",
       "      <td>20</td>\n",
       "      <td>female</td>\n",
       "      <td>Zomba</td>\n",
       "      <td>priscilla_self_records551.wav</td>\n",
       "      <td>4.0</td>\n",
       "      <td>priscilla_self_records551.txt</td>\n",
       "      <td>whatsapp audios or videos</td>\n",
       "      <td>1</td>\n",
       "      <td>Yes</td>\n",
       "      <td>Yes</td>\n",
       "    </tr>\n",
       "    <tr>\n",
       "      <th>2631</th>\n",
       "      <td>20</td>\n",
       "      <td>female</td>\n",
       "      <td>Zomba</td>\n",
       "      <td>priscilla_self_records545.wav</td>\n",
       "      <td>6.0</td>\n",
       "      <td>priscilla_self_records545.txt</td>\n",
       "      <td>whatsapp audios or videos</td>\n",
       "      <td>1</td>\n",
       "      <td>Yes</td>\n",
       "      <td>Yes</td>\n",
       "    </tr>\n",
       "    <tr>\n",
       "      <th>2632</th>\n",
       "      <td>20</td>\n",
       "      <td>female</td>\n",
       "      <td>Zomba</td>\n",
       "      <td>priscilla_self_records223.wav</td>\n",
       "      <td>4.0</td>\n",
       "      <td>priscilla_self_records223.txt</td>\n",
       "      <td>whatsapp audios or videos</td>\n",
       "      <td>1</td>\n",
       "      <td>Yes</td>\n",
       "      <td>Yes</td>\n",
       "    </tr>\n",
       "  </tbody>\n",
       "</table>\n",
       "<p>2633 rows × 10 columns</p>\n",
       "</div>"
      ],
      "text/plain": [
       "        age           gender dialect                 audio_filename  \\\n",
       "0     42-47             Male     NaN        dunstan_on_march_26.wav   \n",
       "1     36-41             Male     NaN                    onesmus.wav   \n",
       "2     24-29             Male     NaN                       WAU1.wav   \n",
       "3     24-29  Male and Female     NaN                       WAU2.wav   \n",
       "4     30-35           Female     NaN                       WAU3.wav   \n",
       "...     ...              ...     ...                            ...   \n",
       "2628     20           female   Zomba  priscilla_self_records579.wav   \n",
       "2629     20           female   Zomba  priscilla_self_records237.wav   \n",
       "2630     20           female   Zomba  priscilla_self_records551.wav   \n",
       "2631     20           female   Zomba  priscilla_self_records545.wav   \n",
       "2632     20           female   Zomba  priscilla_self_records223.wav   \n",
       "\n",
       "      duration_sec                transc_filename            collection_mode  \\\n",
       "0              4.0        dunstan_on_march_26.txt                Spontaneous   \n",
       "1             30.0                    onesmus.txt                Spontaneous   \n",
       "2             12.0                       WAU1.txt                Spontaneous   \n",
       "3            178.0                       WAU2.txt                Spontaneous   \n",
       "4            191.0                       WAU3.txt                Spontaneous   \n",
       "...            ...                            ...                        ...   \n",
       "2628          10.0  priscilla_self_records579.txt  whatsapp audios or videos   \n",
       "2629           4.0  priscilla_self_records237.txt  whatsapp audios or videos   \n",
       "2630           4.0  priscilla_self_records551.txt  whatsapp audios or videos   \n",
       "2631           6.0  priscilla_self_records545.txt  whatsapp audios or videos   \n",
       "2632           4.0  priscilla_self_records223.txt  whatsapp audios or videos   \n",
       "\n",
       "     num_speakers shareable has_transcript  \n",
       "0             1-2       Yes            Yes  \n",
       "1             1-2       Yes            Yes  \n",
       "2             1-2       Yes            Yes  \n",
       "3             1-2       Yes            Yes  \n",
       "4             1-2       Yes            Yes  \n",
       "...           ...       ...            ...  \n",
       "2628            1       Yes            Yes  \n",
       "2629            1       Yes            Yes  \n",
       "2630            1       Yes            Yes  \n",
       "2631            1       Yes            Yes  \n",
       "2632            1       Yes            Yes  \n",
       "\n",
       "[2633 rows x 10 columns]"
      ]
     },
     "execution_count": 49,
     "metadata": {},
     "output_type": "execute_result"
    }
   ],
   "source": [
    "df_meta_whatsapp"
   ]
  },
  {
   "cell_type": "code",
   "execution_count": null,
   "id": "fa2689de-00e8-497a-a7f2-b540cffb57e1",
   "metadata": {},
   "outputs": [],
   "source": []
  }
 ],
 "metadata": {
  "kernelspec": {
   "display_name": "Python 3 (ipykernel)",
   "language": "python",
   "name": "python3"
  },
  "language_info": {
   "codemirror_mode": {
    "name": "ipython",
    "version": 3
   },
   "file_extension": ".py",
   "mimetype": "text/x-python",
   "name": "python",
   "nbconvert_exporter": "python",
   "pygments_lexer": "ipython3",
   "version": "3.9.7"
  },
  "toc": {
   "base_numbering": 1,
   "nav_menu": {},
   "number_sections": true,
   "sideBar": true,
   "skip_h1_title": false,
   "title_cell": "Table of Contents",
   "title_sidebar": "Contents",
   "toc_cell": false,
   "toc_position": {},
   "toc_section_display": true,
   "toc_window_display": false
  }
 },
 "nbformat": 4,
 "nbformat_minor": 5
}
