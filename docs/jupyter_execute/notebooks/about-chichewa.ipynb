{
 "cells": [
  {
   "cell_type": "markdown",
   "id": "2baaa681-e813-428b-9010-4508b7291011",
   "metadata": {},
   "source": [
    "# Chichewa Speakers\n",
    "This notebook provides statistics about the language of **Chichewa**. \n",
    "More specifically, the goal is to generate an accurate estimate of total number of people who speak this language. Note that Chichewa also includes the alternate names: *Chewa*, *Nyanja*, *Chinyanja*. In order to provide context, first, let us indicate the countries where the language is spoken. \n",
    "1. **Malawi.** About 70% of the population speak Chichewa. <a name=\"cite_ref-1\"></a>[<sup>[1]</sup>](#cite_note-1)\n",
    "2. **Zambia.** About 20% of the population speak the language. <a name=\"cite_ref-2\"></a>[<sup>[2]</sup>](#cite_note-2)\n",
    "3. **Mozamabique.** Less than 1% of the population speak the language. <a name=\"cite_ref-3\"></a>[<sup>[3]</sup>](#cite_note-3)\n",
    "4. **Zimbabwe.** Although Chichewa seem to be one of the official languages for Zimbabwe, I havent found any data yet showing how many people speak the language.\n",
    "5. **Tanzania.** Has a border with Malawi in the northen region where people speak Tumbuka, so it makes sense that there maybe no Chichewa speaking people there. Otherwise, I didnot find any data on proportion of the population who speak the language.\n",
    "\n",
    "Based on the analysis in this notebook, as of 2023, there are **21,482,292** people who speak Chichewa distributed across three countries: Malawi (70%), Zambia (18%) and Mozambique(12%).\n",
    "\n",
    "The [Humanitarian data website](https://data.humdata.org/dataset/) contains data about languages for some of these countries. The HUMDATA links are provided below:\n",
    "- [Zambia languages](https://data.humdata.org/dataset/zambia-languages)\n",
    "- [Malawi languages](https://data.humdata.org/dataset/malawi-languages)\n",
    "- [Mozambique languages](https://data.humdata.org/dataset/mozambique-languages)\n",
    "\n",
    "Since I was not very sure of some of the numbers from [humdata](https://data.humdata.org), I decided to check with the actual sources as follows:\n",
    ">**Malawi and Zambia.** I could not find any current surveys with data on languages spoken but I still found something in the DHS. In the DHS, they ask about survey respondent's native language. Although this data is not included in DHS reports (as they seem to collect this piece of data as interview metadata), its still a useful source of data for languages spoken. For *Zimbabwe, Tanzania and Mozambique* the DHS does'nt have this information as they only provide languages as language-1, language-2 etc except for the major languages.\n",
    "\n",
    "\n",
    "<a name=\"cite_note-1\"></a>1. [^](#cite_ref-1) 2015-16 MDHS and [humdata](https://data.humdata.org/dataset/malawi-languages)\n",
    "\n",
    "<a name=\"cite_note-2\"></a>2. [^](#cite_ref-2) 2018 Zambia DHS and [humdata](https://data.humdata.org/dataset/zambia-languages)\n",
    "\n",
    "<a name=\"cite_note-3\"></a>3. [^](#cite_ref-3) [Humdata](https://data.humdata.org/dataset/mozambique-languages)"
   ]
  },
  {
   "cell_type": "code",
   "execution_count": 138,
   "id": "a4c711fb-9980-4380-8d2d-52efec126354",
   "metadata": {},
   "outputs": [],
   "source": [
    "import pandas as pd\n",
    "pd.set_option('display.float_format', lambda x: '%.3f' % x)"
   ]
  },
  {
   "cell_type": "markdown",
   "id": "5f391f0a-b3d7-4dfc-985a-c8769c327f81",
   "metadata": {},
   "source": [
    "## Chichewa speakers in Malawi\n",
    "Malawi is the main country where Chichewa is spoken. Due to lack of exact data on languages spoken, I attempted to estimate based on tribe and district of origin."
   ]
  },
  {
   "cell_type": "code",
   "execution_count": 28,
   "id": "75745171-00ac-413f-9a16-478adde8220c",
   "metadata": {
    "jupyter": {
     "source_hidden": true
    },
    "tags": []
   },
   "outputs": [],
   "source": [
    "def mw_estimate_chichewa_speaking_based_on_tribe():\n",
    "    \"\"\"\n",
    "    Get an estimate of people wjo speak Chichewa and Chinyanja based\n",
    "    on tribes\n",
    "    data source: 2018 census main report: \n",
    "    http://www.nsomalawi.mw/images/stories/data_on_line/demography/census_2018/\n",
    "    \"\"\"\n",
    "    # from MW 2018 census report \n",
    "    total_pop_malawi = 17506022\n",
    "    \n",
    "    # =======================\n",
    "    # POPULATION BY TRIBE\n",
    "    # =======================\n",
    "    mw_chewa_trb = 6020945\n",
    "    mw_tumbuka_trb = 1614955\n",
    "    mw_lomwe_trb = 3302634\n",
    "    mw_tonga_trb = 310031\n",
    "    mw_yao_trb = 2321763\n",
    "    mw_sena_trb = 670908\n",
    "    mw_nkhonde_trb = 174430\n",
    "    mw_lambya_trb = 106769\n",
    "    mw_sukwa_trb = 93762\n",
    "    mw_manganja_trb = 559887\n",
    "    mw_nyanja_trb = 324272\n",
    "    mw_ngoni_tribe = 1819347\n",
    "    mw_other_trb = 186319\n",
    "    \n",
    "    # check that totals from tribes match with given total pop\n",
    "    tot = mw_chewa_trb + mw_lambya_trb + mw_sukwa_trb + mw_other_trb+ mw_manganja_trb+ mw_sena_trb+\\\n",
    "    mw_lomwe_trb + mw_ngoni_tribe + mw_tumbuka_trb + mw_tonga_trb + mw_nyanja_trb + mw_yao_trb + mw_nkhonde_trb\n",
    "    assert tot == total_pop_malawi\n",
    "    \n",
    "    # =====================================\n",
    "    # SUM POP FOR CHICHEWA SPEAKING TRIBES\n",
    "    # ====================================\n",
    "    # the following tribes speak chichewa:\n",
    "    # chewa, ngoni,mang'anja, nyanja and other\n",
    "    chichewa_speaking_pop = mw_chewa_trb + mw_other_trb + mw_ngoni_tribe + \\\n",
    "    mw_manganja_trb + mw_nyanja_trb\n",
    "    print('Chichewa speaking population: {:,}'.format(chichewa_speaking_pop))"
   ]
  },
  {
   "cell_type": "code",
   "execution_count": 27,
   "id": "1d0a1b4d-0d69-4551-8dad-621671df2e62",
   "metadata": {},
   "outputs": [
    {
     "name": "stdout",
     "output_type": "stream",
     "text": [
      "Chichewa speaking population: 8,910,770\n"
     ]
    }
   ],
   "source": [
    "estimate_chichewa_speaking_based_on_tribe()"
   ]
  },
  {
   "cell_type": "code",
   "execution_count": 163,
   "id": "41676bac-8889-4ec3-9c5c-a88132e304d3",
   "metadata": {
    "jupyter": {
     "source_hidden": true
    },
    "tags": []
   },
   "outputs": [],
   "source": [
    "def mw_estimate_chichewa_speakers_by_district(dist_pop_csv):\n",
    "    \"\"\"\n",
    "    Get an estimate of people who speak Chichewa and Chinyanja based\n",
    "    on tribes using data 2018 census main report for population by tribe:\n",
    "    http://www.nsomalawi.mw/images/stories/data_on_line/demography/census_2018/\n",
    "    Parameters:\n",
    "    dist_pop_csv (str): CSV file with population by district for MW\n",
    "    \n",
    "    Returns:\n",
    "    int:Population of Chichewa speakers in MW\n",
    "\n",
    "   \"\"\"\n",
    "  \n",
    "    \n",
    "    # =======================\n",
    "    # POPULATION BY DISTRICT\n",
    "    # =======================\n",
    "    df_dist = pd.read_csv(dist_pop_csv)\n",
    "    \n",
    "    # ===========================\n",
    "    # CHICHEWA SPEAKING DISTRICTS\n",
    "    # ===========================\n",
    "    # List of chichewa speaking districts\n",
    "    chichewa_speaking_dists = ['Mzuzu City',\n",
    "       'Kasungu', 'Nkhotakota', 'Ntchisi', 'Dowa', 'Salima', 'Lilongwe',\n",
    "       'Mchinji', 'Dedza', 'Ntcheu', 'Lilongwe City', \n",
    "       'Zomba', 'Chiradzulu', 'Blantyre', 'Mwanza', 'Thyolo',\n",
    "       'Mulanje', 'Phalombe', 'Balaka', 'Neno',\n",
    "       'Zomba City', 'Blantyre City']\n",
    "    \n",
    "    df_chichewa_speaking = df_dist.query('DIST_NAME in @chichewa_speaking_dists')\n",
    "    chich_pop = df_chichewa_speaking['TOTAL_POP'].sum()\n",
    "    print('Chichewa speaking population: {:,}'.format(chich_pop))\n",
    "    return chich_pop"
   ]
  },
  {
   "cell_type": "code",
   "execution_count": 79,
   "id": "f29a54e5-4e0a-4f46-9680-aab39315c440",
   "metadata": {},
   "outputs": [
    {
     "name": "stdout",
     "output_type": "stream",
     "text": [
      "Chichewa speaking population: 12,747,340.0\n"
     ]
    }
   ],
   "source": [
    " df_pop = mw_estimate_chichewa_speakers_by_district(dist_pop_csv=\"../data/mw_2018_pop_by_dist.csv\")"
   ]
  },
  {
   "cell_type": "code",
   "execution_count": 164,
   "id": "f759c956-40cc-416b-b9dd-8cd770c67099",
   "metadata": {
    "jupyter": {
     "source_hidden": true
    },
    "tags": []
   },
   "outputs": [],
   "source": [
    "def chich_speaking_pop_DHS_based(stata_file, total_pop, chichewa_lan_codes, \n",
    "                                    dhs_tot_hhs):\n",
    "    \"\"\"\n",
    "    Estimate Chichewa speaking people from DHS survey question\n",
    "    on native language of respondent. \n",
    "    Parameters:\n",
    "    stata_file (str): Path to STATA (.dta) file for household members. Data\n",
    "    can be accessed here: https://dhsprogram.com/data/dataset/Malawi_Standard-DHS_2015.cfm?flag=0\n",
    "    total_pop (int): Total population for the country\n",
    "    chichewa_lan_codes(list): which language codes represent chichewa. For example: [2], [2,3]\n",
    "    dhs_tot_hhs(int): Total number of househols in DHS, for verification purpose.\n",
    "    \n",
    "    Returns:\n",
    "    int:Population of Chichewa speakers in MW\n",
    "\n",
    "   \"\"\"\n",
    "    # Load the stata file\n",
    "    df = pd.read_stata(stata_file, convert_categoricals=False)\n",
    "    \n",
    "    # Rename the columns\n",
    "    # Grab these from STATA-Do file available in same folder as the data\n",
    "    cols = {'hv045b': 'intv_lan', 'hv045c':'resp_nativ_lan', 'hv046': 'translator', \n",
    "        'hv002':'hh_num','hv005': 'weight',\n",
    " 'hv045a': 'qn_lan', 'hv001':  \"cluster_number\", 'hv004':   \"area_unit\"}\n",
    "    keep_cols = ['hhid'] + list(cols.keys())\n",
    "    df = df[keep_cols]\n",
    "    df.rename(columns=cols, inplace=True)\n",
    "    df['hh_id'] = df.apply(lambda x: \n",
    "                           str(x['cluster_number']).zfill(3) + \n",
    "                           str(x['hh_num']).zfill(3), axis=1)\n",
    "    \n",
    "    # Check that we have all households as expected: 26, 361 as indicated\n",
    "    # in the report \n",
    "    try:\n",
    "        assert df.hh_id.nunique() == dhs_tot_hhs\n",
    "    except:\n",
    "        print('{:,} households from this file compared to {:,} reported number'.format(\n",
    "            df.hh_id.nunique(), dhs_tot_hhs))\n",
    "        print()\n",
    "    \n",
    "    # ========================================\n",
    "    # TABULATE RESPONDENT NATIVE LANGUAGE\n",
    "    # ========================================\n",
    "    # Since we are getting national stats, we\n",
    "    # will not weight \n",
    "    chich_prop = df.resp_nativ_lan.value_counts(normalize=True)[chichewa_lan_codes]\n",
    "    chich_prop_total = chich_prop.sum()\n",
    "    \n",
    "    # Get population from the proportion\n",
    "    chich_pop = int(chich_prop_total*total_pop)\n",
    "    \n",
    "    \n",
    "    return chich_prop_total, chich_pop"
   ]
  },
  {
   "cell_type": "code",
   "execution_count": 156,
   "id": "4df4ef89-9424-4950-9eda-8b9984ac4985",
   "metadata": {},
   "outputs": [
    {
     "name": "stdout",
     "output_type": "stream",
     "text": [
      "================================================\n",
      "Based on the 2015-16 Malawi DHS and 2018 census\n",
      "================================================\n",
      "Estimated number of Chichewa speaking people in Malawi is : 15,050,638\n"
     ]
    }
   ],
   "source": [
    "# ===================\n",
    "# Malawi\n",
    "# ===================\n",
    "language_names = {1: \"English\", 2:\"Chichewa\", 3:\"Tumbuka\", 6: \"Other\"}\n",
    "\n",
    "# MW DHS-2015-16 HH members stata data file\n",
    "data_file = \"../data/other-inputs/MWPR7ADT/MWPR7AFL.DTA\"\n",
    "\n",
    "# MW DHS-2015-16 total sample households\n",
    "mw_dhs_hhs = 26361\n",
    "\n",
    "# MW 2018 census population projection\n",
    "# From here: http://www.nsomalawi.mw/images/stories/data_on_line/demography/census_2018/\\\n",
    "# Thematic_Reports/Population%20Projections%202018-2050.pdf\n",
    "mw_proj_pop_2023 = 19809511\n",
    "mw_chich_prop, mw_chich_pop = chichewa_speaking_pop = chich_speaking_pop_DHS_based(stata_file=data_file, chichewa_lan_codes=[2], \n",
    "                                    total_pop=mw_proj_pop_2023,  \n",
    "                                    dhs_tot_hhs=mw_dhs_hhs)\n",
    "print('================================================')\n",
    "print('Based on the 2015-16 Malawi DHS and 2018 census')\n",
    "print('================================================')\n",
    "print('Estimated number of Chichewa speaking people in Malawi is : {:,}'.format(mw_chich_pop ))"
   ]
  },
  {
   "cell_type": "markdown",
   "id": "42419ebd-ad54-4783-b49e-78ca199998d7",
   "metadata": {},
   "source": [
    "## Chichewa speakers in Zambia\n",
    "The next biggest population of Chichewa speakers is in Zambia."
   ]
  },
  {
   "cell_type": "code",
   "execution_count": 155,
   "id": "6f92c4f4-25a9-41c5-8b9c-255297a49b63",
   "metadata": {},
   "outputs": [
    {
     "name": "stdout",
     "output_type": "stream",
     "text": [
      "12,831 households from this file compared to 13,625 reported number\n",
      "\n",
      "================================================\n",
      "Based on the 2018 Zambia DHS and 2022 census\n",
      "================================================\n",
      "Estimated number of Chichewa speaking people in Zambia is : 3,787,688\n"
     ]
    }
   ],
   "source": [
    "# ===================\n",
    "# ZAMBIA\n",
    "# ===================\n",
    "za_language_codes = {1: \"English\", 2:\"Bemba\", 3:\"Kaonde\",4: \"Lozi\",\n",
    "                  5 :\"Lunda\", 6:\"Luvale\", 7: \"Nyanja\", \n",
    "                  8: \"Tonga\", 96 : \"Other\"}\n",
    " \n",
    "# MW DHS-2015-16 HH members stata data file\n",
    "data_file = \"../data/other-inputs/ZMPR71DT/ZMPR71FL.DTA\"\n",
    "\n",
    "# MW DHS-2015-16 total sample households\n",
    "za_dhs_hhs = 13625\n",
    "\n",
    "# ZA 2022 census population\n",
    "# From here: https://www.zamstats.gov.zm/download/6815/?tmstv=1677767005&v=9623\n",
    "za_pop_2022 = 19610769\n",
    "za_chich_prop, za_chich_pop = chich_speaking_pop_DHS_based(stata_file=data_file, \n",
    "                                    chichewa_lan_codes=[7], \n",
    "                                    total_pop=za_pop_2022,  \n",
    "                                    dhs_tot_hhs=za_dhs_hhs)\n",
    "\n",
    "print('================================================')\n",
    "print('Based on the 2018 Zambia DHS and 2022 census')\n",
    "print('================================================')\n",
    "print('Estimated number of Chichewa speaking people in Zambia is : {:,}'.format(za_chich_pop))"
   ]
  },
  {
   "cell_type": "markdown",
   "id": "c15da009-10d9-4dc1-ac00-7f0f6d756f89",
   "metadata": {},
   "source": [
    "## Chichewa speakers in Mozambique\n",
    "There are also a sizable number of Chichewa speakers is in Mozambique."
   ]
  },
  {
   "cell_type": "code",
   "execution_count": 176,
   "id": "85044e96-fe93-4610-bb3c-2c6fb4e30b66",
   "metadata": {},
   "outputs": [
    {
     "name": "stdout",
     "output_type": "stream",
     "text": [
      "==================================================\n",
      "Based on the HUM-DATA and 2023 projected population\n",
      "===================================================\n",
      "Estimated number of Chichewa speaking people in Mozambique is : 2,643,966\n"
     ]
    }
   ],
   "source": [
    "# 2023 projected population for Mozambique\n",
    "# source: https://www.imf.org/en/Countries/MOZ\n",
    "mz_proj_pop_2023 =  33897000\n",
    "\n",
    "# Proportion of chichewa speakers\n",
    "# source: (https://data.humdata.org/dataset/mozambique-languages\n",
    "prop_chichewa_pop = 0.078\n",
    "\n",
    "# Estimate Chichewa speaking population \n",
    "mz_chich_pop = mz_proj_pop_2023 * prop_chichewa_pop\n",
    "\n",
    "print('==================================================')\n",
    "print('Based on the HUM-DATA and 2023 projected population')\n",
    "print('===================================================')\n",
    "print('Estimated number of Chichewa speaking people in Mozambique is : {:,}'.format(int(mz_chich_speakers)))"
   ]
  },
  {
   "cell_type": "markdown",
   "id": "aae35acd-6435-4907-987c-02cbc58c6422",
   "metadata": {},
   "source": [
    "## Total Chichewa speakers"
   ]
  },
  {
   "cell_type": "code",
   "execution_count": 180,
   "id": "3e3754a0-d982-437a-a71f-d6d89fe737c4",
   "metadata": {},
   "outputs": [],
   "source": [
    "chich = {'mw': mw_chich_pop, 'za': za_chich_pop, 'mz': mz_chich_pop}\n",
    "total_chich_pop = sum(chich.values())\n",
    "\n",
    "mw_prop = round(mw_chich_pop/total_chich_pop*100, 2)\n",
    "za_prop = round(za_chich_pop/total_chich_pop*100, 2)\n",
    "mz_prop = round(mz_chich_pop/total_chich_pop*100, 2)"
   ]
  },
  {
   "cell_type": "code",
   "execution_count": 188,
   "id": "0ad6d13e-9da6-43d2-a3e6-4c15f65d37b3",
   "metadata": {},
   "outputs": [
    {
     "name": "stdout",
     "output_type": "stream",
     "text": [
      "===========================\n",
      "Based on analysis above\n",
      "===========================\n",
      "Estimated number of Chichewa speaking people is : 21,482,292\n",
      "\n",
      "Distributed across 3 countries as below:\n",
      "----------------------------------------\n",
      "Malawi:             70.06% \n",
      "Zambia:             17.63% \n",
      "Mozambique:         12.31%\n"
     ]
    }
   ],
   "source": [
    "print('===========================')\n",
    "print('Based on analysis above')\n",
    "print('===========================')\n",
    "print('Estimated number of Chichewa speaking people is : {:,}'.format(int(total_chich_pop)))\n",
    "\n",
    "print()\n",
    "print('Distributed across 3 countries as below:')\n",
    "print('-'*40)\n",
    "print(\n",
    "    f\"{'Malawi:':<15}{mw_prop:>10}%\",\n",
    "    f\"\\n{'Zambia:':<15}{za_prop:>10}%\",\n",
    "    f\"\\n{'Mozambique:':<15}{mz_prop:>10}%\",\n",
    ")"
   ]
  },
  {
   "cell_type": "code",
   "execution_count": null,
   "id": "2310a85d-6e31-45ad-a683-4864d8e44edc",
   "metadata": {},
   "outputs": [],
   "source": []
  }
 ],
 "metadata": {
  "kernelspec": {
   "display_name": "Python 3 (ipykernel)",
   "language": "python",
   "name": "python3"
  },
  "language_info": {
   "codemirror_mode": {
    "name": "ipython",
    "version": 3
   },
   "file_extension": ".py",
   "mimetype": "text/x-python",
   "name": "python",
   "nbconvert_exporter": "python",
   "pygments_lexer": "ipython3",
   "version": "3.9.7"
  }
 },
 "nbformat": 4,
 "nbformat_minor": 5
}