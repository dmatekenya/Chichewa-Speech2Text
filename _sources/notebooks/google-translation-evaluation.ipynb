{
 "cells": [
  {
   "cell_type": "markdown",
   "id": "18ad06b1-c40e-4e80-8479-6ddaf3ee3679",
   "metadata": {},
   "source": [
    "# Benchmarking Google Translation"
   ]
  },
  {
   "cell_type": "code",
   "execution_count": 12,
   "id": "753f08b5-c9e9-4895-b76a-0bcb5ff7f9f5",
   "metadata": {},
   "outputs": [],
   "source": [
    "import nltk\n",
    "# nltk.download('all')\n",
    "from nltk.translate.bleu_score import sentence_bleu\n",
    "from nltk.tokenize import word_tokenize, sent_tokenize\n",
    "from googletrans import Translator, LANGUAGES\n",
    "import pandas as pd\n",
    "import numpy as np\n",
    "pd.set_option('display.float_format', lambda x: '%.3f' % x)"
   ]
  },
  {
   "cell_type": "code",
   "execution_count": 2,
   "id": "4ed2c562-8f2d-471e-8d5e-52faf08f32f0",
   "metadata": {},
   "outputs": [],
   "source": [
    "df_sent = pd.read_csv(\"/Users/dunstanmatekenya/Downloads/English2Chichewa.csv\")"
   ]
  },
  {
   "cell_type": "code",
   "execution_count": null,
   "id": "089c00ff-677f-4306-869c-6573dc977acc",
   "metadata": {},
   "outputs": [],
   "source": [
    "translator = Translator()\n",
    "trans = translator.translate(x, dest='ny')"
   ]
  },
  {
   "cell_type": "code",
   "execution_count": 11,
   "id": "ecb1e545-e05a-42d0-9b50-34e5aa949be2",
   "metadata": {},
   "outputs": [
    {
     "name": "stderr",
     "output_type": "stream",
     "text": [
      "/Users/dunstanmatekenya/anaconda3/lib/python3.10/site-packages/nltk/translate/bleu_score.py:552: UserWarning: \n",
      "The hypothesis contains 0 counts of 2-gram overlaps.\n",
      "Therefore the BLEU score evaluates to 0, independently of\n",
      "how many N-gram overlaps of lower order it contains.\n",
      "Consider using lower n-gram order or use SmoothingFunction()\n",
      "  warnings.warn(_msg)\n"
     ]
    }
   ],
   "source": [
    "translator = Translator()\n",
    "scores = []\n",
    "for idx, row in df_sent.iterrows():\n",
    "    try:\n",
    "        sent = row['Sentence']\n",
    "        sent_tokens = word_tokenize(sent)\n",
    "        hypothesis = translator.translate(row['Sentence'], dest='ny').text\n",
    "        hypothesis_tokens = word_tokenize(hypothesis)\n",
    "        ref_tokens = word_tokenize(row['Chichewa_Shadreck'])\n",
    "        score = sentence_bleu([ref_tokens], hypothesis_tokens)\n",
    "        scores.append(score)\n",
    "    except:\n",
    "        pass"
   ]
  },
  {
   "cell_type": "markdown",
   "id": "e79cc661-9f1e-4fc9-99dd-5e816854abfb",
   "metadata": {},
   "source": [
    "## Formal speech"
   ]
  },
  {
   "cell_type": "code",
   "execution_count": 21,
   "id": "697fb6e8-4ad4-4e1c-ac24-df961682cead",
   "metadata": {},
   "outputs": [],
   "source": [
    "df_sent = pd.read_csv(\"/Users/dunstanmatekenya/Downloads/english2chich-prof-translator.csv\")"
   ]
  },
  {
   "cell_type": "code",
   "execution_count": 22,
   "id": "ca207c93-bed2-421a-ae59-f873d7d15d96",
   "metadata": {},
   "outputs": [
    {
     "name": "stderr",
     "output_type": "stream",
     "text": [
      "/Users/dunstanmatekenya/anaconda3/lib/python3.10/site-packages/nltk/translate/bleu_score.py:552: UserWarning: \n",
      "The hypothesis contains 0 counts of 3-gram overlaps.\n",
      "Therefore the BLEU score evaluates to 0, independently of\n",
      "how many N-gram overlaps of lower order it contains.\n",
      "Consider using lower n-gram order or use SmoothingFunction()\n",
      "  warnings.warn(_msg)\n",
      "/Users/dunstanmatekenya/anaconda3/lib/python3.10/site-packages/nltk/translate/bleu_score.py:552: UserWarning: \n",
      "The hypothesis contains 0 counts of 4-gram overlaps.\n",
      "Therefore the BLEU score evaluates to 0, independently of\n",
      "how many N-gram overlaps of lower order it contains.\n",
      "Consider using lower n-gram order or use SmoothingFunction()\n",
      "  warnings.warn(_msg)\n",
      "/Users/dunstanmatekenya/anaconda3/lib/python3.10/site-packages/nltk/translate/bleu_score.py:552: UserWarning: \n",
      "The hypothesis contains 0 counts of 2-gram overlaps.\n",
      "Therefore the BLEU score evaluates to 0, independently of\n",
      "how many N-gram overlaps of lower order it contains.\n",
      "Consider using lower n-gram order or use SmoothingFunction()\n",
      "  warnings.warn(_msg)\n"
     ]
    }
   ],
   "source": [
    "scores = []\n",
    "for idx, row in df_sent.iterrows():\n",
    "    try:\n",
    "        sent = row['english']\n",
    "        sent_tokens = word_tokenize(sent)\n",
    "        hypothesis = translator.translate(row['english'], dest='ny').text\n",
    "        hypothesis_tokens = word_tokenize(hypothesis)\n",
    "        ref_tokens = word_tokenize(row['chichewa'])\n",
    "        score = sentence_bleu([ref_tokens], hypothesis_tokens)\n",
    "        scores.append(score)\n",
    "    except:\n",
    "        pass"
   ]
  },
  {
   "cell_type": "code",
   "execution_count": 25,
   "id": "35827c72-b95f-4f9a-9fe5-b64fd3c85266",
   "metadata": {},
   "outputs": [
    {
     "data": {
      "text/plain": [
       "0.04980906858048941"
      ]
     },
     "execution_count": 25,
     "metadata": {},
     "output_type": "execute_result"
    }
   ],
   "source": [
    "np.mean(scores)"
   ]
  },
  {
   "cell_type": "code",
   "execution_count": null,
   "id": "27bb9cd9-bacc-4af3-b282-5fdf077308b3",
   "metadata": {},
   "outputs": [],
   "source": []
  }
 ],
 "metadata": {
  "kernelspec": {
   "display_name": "Python 3 (ipykernel)",
   "language": "python",
   "name": "python3"
  },
  "language_info": {
   "codemirror_mode": {
    "name": "ipython",
    "version": 3
   },
   "file_extension": ".py",
   "mimetype": "text/x-python",
   "name": "python",
   "nbconvert_exporter": "python",
   "pygments_lexer": "ipython3",
   "version": "3.10.8"
  }
 },
 "nbformat": 4,
 "nbformat_minor": 5
}
